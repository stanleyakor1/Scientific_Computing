{
 "cells": [
  {
   "cell_type": "code",
   "execution_count": 2,
   "metadata": {},
   "outputs": [],
   "source": [
    "import matplotlib.pyplot as plt\n",
    "import math \n",
    "import numpy as np"
   ]
  },
  {
   "cell_type": "code",
   "execution_count": 3,
   "metadata": {},
   "outputs": [
    {
     "data": {
      "image/png": "[encoded data removed]",
      "text/plain": [
       "<Figure size 432x288 with 1 Axes>"
      ]
     },
     "metadata": {
      "needs_background": "light"
     },
     "output_type": "display_data"
    }
   ],
   "source": [
    "#create an empty array\n",
    "#----------------------------------\n",
    "f_x=np.zeros(600)\n",
    "x=np.zeros(600)\n",
    "\n",
    "count=-3\n",
    "increase=0 #define the starting number\n",
    "\n",
    "#---------------------------------------------------------------\n",
    "#-----------------------------------------------------------------\n",
    "while (count<=3):\n",
    "    count+=0.01\n",
    "    if count>=-1 and count <0:\n",
    "        f_x[increase:increase+1]=-1\n",
    "        x[increase:increase+1]=count*np.pi\n",
    "    elif count>=0 and count <1:\n",
    "        f_x[increase:increase + 1] = 1\n",
    "        x[increase:increase + 1] = count * np.pi\n",
    "    elif count <-1 or count >=1:\n",
    "        f_x[increase:increase + 1] = 0\n",
    "        x[increase:increase + 1] = count * np.pi\n",
    "    \n",
    "    increase+=1\n",
    "# generate a graphical sketch for all the paramemters\n",
    "#---------------------------------------------------------------\n",
    "#-----------------------------------------------------------------\n",
    "fig, axs = plt.subplots()\n",
    "axs.scatter(x,f_x, color='red')\n",
    "axs.set_xlabel('x')\n",
    "axs.set_ylabel('f(x)')\n",
    "\n",
    "plt.show()"
   ]
  },
  {
   "cell_type": "code",
   "execution_count": null,
   "metadata": {},
   "outputs": [],
   "source": []
  }
 ],
 "metadata": {
  "kernelspec": {
   "display_name": "Python 3",
   "language": "python",
   "name": "python3"
  },
  "language_info": {
   "codemirror_mode": {
    "name": "ipython",
    "version": 3
   },
   "file_extension": ".py",
   "mimetype": "text/x-python",
   "name": "python",
   "nbconvert_exporter": "python",
   "pygments_lexer": "ipython3",
   "version": "3.7.3"
  }
 },
 "nbformat": 4,
 "nbformat_minor": 2
}
