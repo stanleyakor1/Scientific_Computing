{
 "cells": [
  {
   "cell_type": "code",
   "execution_count": 1,
   "metadata": {},
   "outputs": [],
   "source": [
    "import numpy as np\n",
    "import matplotlib.pyplot as plt"
   ]
  },
  {
   "cell_type": "code",
   "execution_count": 14,
   "metadata": {},
   "outputs": [
    {
     "data": {
      "text/plain": [
       "array([[ 2.50000e-04, -2.25000e-04,  0.00000e+00, ...,  0.00000e+00,\n",
       "         0.00000e+00,  0.00000e+00],\n",
       "       [-2.25000e-04,  8.50000e-04, -6.25000e-04, ...,  0.00000e+00,\n",
       "         0.00000e+00,  0.00000e+00],\n",
       "       [ 0.00000e+00, -6.25000e-04,  1.85000e-03, ...,  0.00000e+00,\n",
       "         0.00000e+00,  0.00000e+00],\n",
       "       ...,\n",
       "       [ 0.00000e+00,  0.00000e+00,  0.00000e+00, ...,  1.88185e+00,\n",
       "        -9.50625e-01,  0.00000e+00],\n",
       "       [ 0.00000e+00,  0.00000e+00,  0.00000e+00, ..., -9.50625e-01,\n",
       "         1.92085e+00, -9.70225e-01],\n",
       "       [ 0.00000e+00,  0.00000e+00,  0.00000e+00, ...,  0.00000e+00,\n",
       "        -9.70225e-01,  1.96025e+00]])"
      ]
     },
     "execution_count": 14,
     "metadata": {},
     "output_type": "execute_result"
    }
   ],
   "source": [
    "N = 100; b = 1; a = 0; alpha = 0; beta = 2; U_0 = 0; U_N = 2\n",
    "A = np.zeros((N-1, N-1))\n",
    "F = np.zeros(N-1)\n",
    "h = (b-a)/N\n",
    "x = []\n",
    "\n",
    "def fx(x):\n",
    "    return -6*x**2 - 2*x\n",
    "\n",
    "def Kx(x):\n",
    "    return x**2\n",
    "\n",
    "for i in range(N-1):\n",
    "    x_i = a + (i+1)*h\n",
    "    x.append(x_i)\n",
    "    F[i] = h**2 * fx(x[i])\n",
    "    F[0] = h**2 * fx(x[0]) + alpha* Kx(h/2)\n",
    "    F[N-2] = F[N-2] + beta*Kx(N*h - h/2)\n",
    "    \n",
    "for i in range(N-2):\n",
    "    A[i+1,i] = -Kx(x[i] + h/2)\n",
    "    A[i,i+1] = -Kx(x[i] + h/2)\n",
    "    A[i,i] = Kx(x[i] - h/2) + Kx(x[i] + h/2)\n",
    "    A[N-2,N-2] = Kx(N*h-(3*h)/2) + Kx(N*h-h/2)\n",
    "\n",
    "U = np.matmul(np.linalg.inv(A),F)\n",
    "U = [U_0] + list(U) + [U_N]\n",
    "x = [a] + x + [b]\n",
    "\n",
    "xp = np.asanyarray(x)\n",
    "exact = xp*(1 +xp)\n",
    "A\n",
    "\n",
    "# f = plt.figure(figsize=(14,10))\n",
    "# plt.plot(x,U,'r^',linewidth =5 ,label = 'Approximate solution')\n",
    "# plt.plot(x,exact,'.',linewidth =5 ,label = 'Exact solution')\n",
    "# plt.ylabel('U(x)', size = 18)\n",
    "# plt.xlabel('x', size = 18)\n",
    "# plt.title('Approximation Vs. Exact Solution', size = 18)\n",
    "# plt.legend(fontsize ='xx-large')\n",
    "# plt.show()"
   ]
  },
  {
   "cell_type": "code",
   "execution_count": null,
   "metadata": {},
   "outputs": [],
   "source": []
  }
 ],
 "metadata": {
  "kernelspec": {
   "display_name": "Python 3",
   "language": "python",
   "name": "python3"
  },
  "language_info": {
   "codemirror_mode": {
    "name": "ipython",
    "version": 3
   },
   "file_extension": ".py",
   "mimetype": "text/x-python",
   "name": "python",
   "nbconvert_exporter": "python",
   "pygments_lexer": "ipython3",
   "version": "3.7.3"
  }
 },
 "nbformat": 4,
 "nbformat_minor": 2
}
