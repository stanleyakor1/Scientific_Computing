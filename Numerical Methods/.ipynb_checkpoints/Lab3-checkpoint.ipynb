{
 "cells": [
  {
   "cell_type": "markdown",
   "metadata": {},
   "source": [
    "# Lab 3"
   ]
  },
  {
   "cell_type": "code",
   "execution_count": 1,
   "metadata": {},
   "outputs": [],
   "source": [
    "import numpy as np\n",
    "import matplotlib.pyplot as plt"
   ]
  },
  {
   "cell_type": "code",
   "execution_count": 2,
   "metadata": {},
   "outputs": [],
   "source": [
    "mu=0.51;dx=0.05;x_0=-10;x_l=10;b=1; dt=(mu*dx**2/b);a=0\n",
    "Nx=round((x_l-x_0)/dx); Nt=round((1-0)/dt)"
   ]
  },
  {
   "cell_type": "code",
   "execution_count": 3,
   "metadata": {},
   "outputs": [],
   "source": [
    "x=np.arange(x_0,x_l+dx,dx)\n",
    "t=np.arange(a,b+dt,dt)\n",
    "U=np.zeros((len(t),len(x)))\n",
    "U0=[]\n",
    "for i in x:\n",
    "    U01=max(1-i**2,0)\n",
    "    U0.append(U01)\n",
    "U[0]=U0\n",
    "for i in range(len(t)-1):\n",
    "    for j in range(len(x)-1):\n",
    "        U[i+1,j]=U[i,j]+mu*(U[i,j+1]-2*U[i,j]+U[i,j-1])"
   ]
  },
  {
   "cell_type": "code",
   "execution_count": 4,
   "metadata": {},
   "outputs": [
    {
     "data": {
      "image/png": "[encoded data removed]",
      "text/plain": [
       "<Figure size 432x288 with 1 Axes>"
      ]
     },
     "metadata": {
      "needs_background": "light"
     },
     "output_type": "display_data"
    }
   ],
   "source": [
    "for i in range(len(t)):\n",
    "    plt.plot(U[i])"
   ]
  },
  {
   "cell_type": "markdown",
   "metadata": {},
   "source": [
    "# Implicit"
   ]
  },
  {
   "cell_type": "code",
   "execution_count": 70,
   "metadata": {},
   "outputs": [],
   "source": [
    "x=np.arange(x_0,x_l+dx,dx)\n",
    "t=np.arange(a,b+dt,dt)\n",
    "U1=np.zeros((len(t)+1,len(x)+1))\n",
    "#U=np.zeros((len(t),len(x)))\n",
    "U01=[]\n",
    "for i in x:\n",
    "    U0_1=max(1-i**2,0)\n",
    "    U01.append(U0_1)"
   ]
  },
  {
   "cell_type": "code",
   "execution_count": 6,
   "metadata": {},
   "outputs": [
    {
     "data": {
      "text/plain": [
       "401"
      ]
     },
     "execution_count": 6,
     "metadata": {},
     "output_type": "execute_result"
    }
   ],
   "source": [
    "len(x)"
   ]
  },
  {
   "cell_type": "code",
   "execution_count": null,
   "metadata": {},
   "outputs": [],
   "source": []
  }
 ],
 "metadata": {
  "kernelspec": {
   "display_name": "Python 3",
   "language": "python",
   "name": "python3"
  },
  "language_info": {
   "codemirror_mode": {
    "name": "ipython",
    "version": 3
   },
   "file_extension": ".py",
   "mimetype": "text/x-python",
   "name": "python",
   "nbconvert_exporter": "python",
   "pygments_lexer": "ipython3",
   "version": "3.7.3"
  }
 },
 "nbformat": 4,
 "nbformat_minor": 2
}
