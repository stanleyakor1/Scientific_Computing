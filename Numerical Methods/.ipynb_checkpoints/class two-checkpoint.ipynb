{
 "cells": [
  {
   "cell_type": "code",
   "execution_count": 1,
   "metadata": {},
   "outputs": [],
   "source": [
    "import numpy as np\n",
    "import matplotlib.pyplot as plt"
   ]
  },
  {
   "cell_type": "code",
   "execution_count": 51,
   "metadata": {},
   "outputs": [],
   "source": [
    "def f(x):\n",
    "    return np.sqrt(1+x**2)\n",
    "def k(x):\n",
    "    return 1/(1+x**2)\n",
    "def equation(u_0, u_n,dx):\n",
    "    x= np.arange(0,1+dx,dx)\n",
    "    F = np.zeros(len(x))\n",
    "    #u[0] = u_0\n",
    "    #u[-1] = u_n\n",
    "    A = np.zeros((len(x),len(x)))\n",
    "    A[0,0]= 1\n",
    "    A[-1,-1] = 1\n",
    "    for i in range(1,len(x)-1):\n",
    "        for j in range(1,len(x)-1):\n",
    "            if i==j:\n",
    "                A[i,j] = 2+(dx**2) *k(x[i])\n",
    "            if abs(j-i) == 1:\n",
    "                A[i,j] = -1\n",
    "                A[j,i] = -1\n",
    "    for i in range(len(x)):\n",
    "        F[i] = (dx**2)*f(x[i])\n",
    "        \n",
    "    \n",
    "            \n",
    "            \n",
    "    return A, F,x\n",
    "    \n",
    "    \n",
    "\n",
    "        \n",
    "        "
   ]
  },
  {
   "cell_type": "code",
   "execution_count": null,
   "metadata": {},
   "outputs": [],
   "source": []
  },
  {
   "cell_type": "code",
   "execution_count": null,
   "metadata": {},
   "outputs": [],
   "source": []
  },
  {
   "cell_type": "code",
   "execution_count": null,
   "metadata": {},
   "outputs": [],
   "source": []
  },
  {
   "cell_type": "code",
   "execution_count": 52,
   "metadata": {},
   "outputs": [
    {
     "data": {
      "text/plain": [
       "array([[ 1.        ,  0.        ,  0.        , ...,  0.        ,\n",
       "         0.        ,  0.        ],\n",
       "       [ 0.        ,  2.00009999, -1.        , ...,  0.        ,\n",
       "         0.        ,  0.        ],\n",
       "       [ 0.        , -1.        ,  2.00009996, ...,  0.        ,\n",
       "         0.        ,  0.        ],\n",
       "       ...,\n",
       "       [ 0.        ,  0.        ,  0.        , ...,  2.00005101,\n",
       "        -1.        ,  0.        ],\n",
       "       [ 0.        ,  0.        ,  0.        , ..., -1.        ,\n",
       "         2.0000505 ,  0.        ],\n",
       "       [ 0.        ,  0.        ,  0.        , ...,  0.        ,\n",
       "         0.        ,  1.        ]])"
      ]
     },
     "execution_count": 52,
     "metadata": {},
     "output_type": "execute_result"
    }
   ],
   "source": [
    "u_0 = 0\n",
    "u_n = 0\n",
    "dx = 0.01\n",
    "A,F,x=equation(u_0, u_n,dx) \n",
    "A"
   ]
  },
  {
   "cell_type": "code",
   "execution_count": 53,
   "metadata": {},
   "outputs": [
    {
     "data": {
      "text/plain": [
       "(101, 101)"
      ]
     },
     "execution_count": 53,
     "metadata": {},
     "output_type": "execute_result"
    }
   ],
   "source": [
    "A.shape"
   ]
  },
  {
   "cell_type": "code",
   "execution_count": 54,
   "metadata": {},
   "outputs": [
    {
     "data": {
      "text/plain": [
       "array([[ 0.        ,  2.00009999, -1.        , ...,  0.        ,\n",
       "         0.        ,  0.        ],\n",
       "       [ 0.        , -1.        ,  2.00009996, ...,  0.        ,\n",
       "         0.        ,  0.        ],\n",
       "       [ 0.        ,  0.        , -1.        , ...,  0.        ,\n",
       "         0.        ,  0.        ],\n",
       "       ...,\n",
       "       [ 0.        ,  0.        ,  0.        , ...,  2.00005101,\n",
       "        -1.        ,  0.        ],\n",
       "       [ 0.        ,  0.        ,  0.        , ..., -1.        ,\n",
       "         2.0000505 ,  0.        ],\n",
       "       [ 0.        ,  0.        ,  0.        , ...,  0.        ,\n",
       "         0.        ,  1.        ]])"
      ]
     },
     "execution_count": 54,
     "metadata": {},
     "output_type": "execute_result"
    }
   ],
   "source": [
    "A[1:]"
   ]
  },
  {
   "cell_type": "code",
   "execution_count": 55,
   "metadata": {},
   "outputs": [
    {
     "data": {
      "text/plain": [
       "array([0.0001    , 0.0001    , 0.00010002, 0.00010004, 0.00010008,\n",
       "       0.00010012, 0.00010018, 0.00010024, 0.00010032, 0.0001004 ,\n",
       "       0.0001005 , 0.0001006 , 0.00010072, 0.00010084, 0.00010098,\n",
       "       0.00010112, 0.00010127, 0.00010143, 0.00010161, 0.00010179,\n",
       "       0.00010198, 0.00010218, 0.00010239, 0.00010261, 0.00010284,\n",
       "       0.00010308, 0.00010332, 0.00010358, 0.00010385, 0.00010412,\n",
       "       0.0001044 , 0.00010469, 0.000105  , 0.0001053 , 0.00010562,\n",
       "       0.00010595, 0.00010628, 0.00010663, 0.00010698, 0.00010734,\n",
       "       0.0001077 , 0.00010808, 0.00010846, 0.00010885, 0.00010925,\n",
       "       0.00010966, 0.00011007, 0.00011049, 0.00011092, 0.00011136,\n",
       "       0.0001118 , 0.00011225, 0.00011271, 0.00011318, 0.00011365,\n",
       "       0.00011413, 0.00011461, 0.0001151 , 0.0001156 , 0.00011611,\n",
       "       0.00011662, 0.00011714, 0.00011766, 0.00011819, 0.00011873,\n",
       "       0.00011927, 0.00011982, 0.00012037, 0.00012093, 0.00012149,\n",
       "       0.00012207, 0.00012264, 0.00012322, 0.00012381, 0.0001244 ,\n",
       "       0.000125  , 0.0001256 , 0.00012621, 0.00012682, 0.00012744,\n",
       "       0.00012806, 0.00012869, 0.00012932, 0.00012996, 0.0001306 ,\n",
       "       0.00013124, 0.00013189, 0.00013255, 0.00013321, 0.00013387,\n",
       "       0.00013454, 0.00013521, 0.00013588, 0.00013656, 0.00013724,\n",
       "       0.00013793, 0.00013862, 0.00013932, 0.00014001, 0.00014072,\n",
       "       0.00014142])"
      ]
     },
     "execution_count": 55,
     "metadata": {},
     "output_type": "execute_result"
    }
   ],
   "source": [
    "F"
   ]
  },
  {
   "cell_type": "code",
   "execution_count": 56,
   "metadata": {},
   "outputs": [],
   "source": [
    "U = np.linalg.inv(A)@F"
   ]
  },
  {
   "cell_type": "code",
   "execution_count": 57,
   "metadata": {},
   "outputs": [
    {
     "data": {
      "text/plain": [
       "array([1.00000000e-04, 4.96735704e-03, 9.83520577e-03, 1.46040176e-02,\n",
       "       1.92742436e-02, 2.38463139e-02, 2.83206380e-02, 3.26976042e-02,\n",
       "       3.69775795e-02, 4.11609095e-02, 4.52479184e-02, 4.92389085e-02,\n",
       "       5.31341604e-02, 5.69339329e-02, 6.06384627e-02, 6.42479646e-02,\n",
       "       6.77626311e-02, 7.11826329e-02, 7.45081182e-02, 7.77392135e-02,\n",
       "       8.08760228e-02, 8.39186283e-02, 8.68670900e-02, 8.97214459e-02,\n",
       "       9.24817123e-02, 9.51478835e-02, 9.77199322e-02, 1.00197809e-01,\n",
       "       1.02581445e-01, 1.04870746e-01, 1.07065601e-01, 1.09165876e-01,\n",
       "       1.11171415e-01, 1.13082043e-01, 1.14897565e-01, 1.16617764e-01,\n",
       "       1.18242404e-01, 1.19771229e-01, 1.21203963e-01, 1.22540312e-01,\n",
       "       1.23779961e-01, 1.24922577e-01, 1.25967810e-01, 1.26915288e-01,\n",
       "       1.27764624e-01, 1.28515413e-01, 1.29167230e-01, 1.29719635e-01,\n",
       "       1.30172171e-01, 1.30524363e-01, 1.30775721e-01, 1.30925737e-01,\n",
       "       1.30973889e-01, 1.30919639e-01, 1.30762433e-01, 1.30501703e-01,\n",
       "       1.30136864e-01, 1.29667320e-01, 1.29092459e-01, 1.28411655e-01,\n",
       "       1.27624268e-01, 1.26729647e-01, 1.25727125e-01, 1.24616024e-01,\n",
       "       1.23395654e-01, 1.22065310e-01, 1.20624280e-01, 1.19071835e-01,\n",
       "       1.17407238e-01, 1.15629740e-01, 1.13738580e-01, 1.11732988e-01,\n",
       "       1.09612183e-01, 1.07375374e-01, 1.05021759e-01, 1.02550527e-01,\n",
       "       9.99608590e-02, 9.72519244e-02, 9.44228851e-02, 9.14728936e-02,\n",
       "       8.84010942e-02, 8.52066225e-02, 8.18886064e-02, 7.84461654e-02,\n",
       "       7.48784116e-02, 7.11844492e-02, 6.73633755e-02, 6.34142802e-02,\n",
       "       5.93362462e-02, 5.51283497e-02, 5.07896600e-02, 4.63192401e-02,\n",
       "       4.17161467e-02, 3.69794303e-02, 3.21081355e-02, 2.71013011e-02,\n",
       "       2.19579599e-02, 1.66771397e-02, 1.12578626e-02, 5.69914538e-03,\n",
       "       1.41421356e-04])"
      ]
     },
     "execution_count": 57,
     "metadata": {},
     "output_type": "execute_result"
    }
   ],
   "source": [
    "U"
   ]
  },
  {
   "cell_type": "code",
   "execution_count": 59,
   "metadata": {},
   "outputs": [
    {
     "data": {
      "image/png": "[encoded data removed]",
      "text/plain": [
       "<Figure size 432x288 with 1 Axes>"
      ]
     },
     "metadata": {
      "needs_background": "light"
     },
     "output_type": "display_data"
    }
   ],
   "source": [
    "plt.plot(x,U)\n",
    "plt.show()"
   ]
  },
  {
   "cell_type": "code",
   "execution_count": null,
   "metadata": {},
   "outputs": [],
   "source": []
  }
 ],
 "metadata": {
  "kernelspec": {
   "display_name": "Python 3",
   "language": "python",
   "name": "python3"
  },
  "language_info": {
   "codemirror_mode": {
    "name": "ipython",
    "version": 3
   },
   "file_extension": ".py",
   "mimetype": "text/x-python",
   "name": "python",
   "nbconvert_exporter": "python",
   "pygments_lexer": "ipython3",
   "version": "3.7.3"
  }
 },
 "nbformat": 4,
 "nbformat_minor": 2
}
