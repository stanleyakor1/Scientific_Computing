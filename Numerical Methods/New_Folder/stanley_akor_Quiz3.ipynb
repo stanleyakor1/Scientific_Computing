{
 "cells": [
  {
   "cell_type": "code",
   "execution_count": 94,
   "metadata": {},
   "outputs": [],
   "source": [
    "import numpy as np\n",
    "import matplotlib.pyplot as plt"
   ]
  },
  {
   "cell_type": "code",
   "execution_count": 95,
   "metadata": {},
   "outputs": [],
   "source": [
    "def Bayesian_Estimation(mu,y,sigma_x,sigma_y,H):\n",
    "    b=np.linalg.inv(sigma_y+H@sigma_x@H.transpose())\n",
    "    k=sigma_x@H.transpose()@b\n",
    "    mean_post=mu+k@(y-H@mu)\n",
    "    sigma_post=(np.eye(2)-k@H)@sigma_x\n",
    "    return mean_post,sigma_post"
   ]
  },
  {
   "cell_type": "code",
   "execution_count": 96,
   "metadata": {},
   "outputs": [],
   "source": [
    "mu=np.matrix([[21.5],[17.9]])\n",
    "sigma_x=np.matrix([[1,0.25],[0.25,1]])\n",
    "sigma_y=0.25*np.eye(2)\n",
    "y=np.matrix([[27],[0]])\n",
    "H=np.matrix([[1,0],[0,0]])"
   ]
  },
  {
   "cell_type": "code",
   "execution_count": 97,
   "metadata": {},
   "outputs": [],
   "source": [
    "mean_post,sigma_post=Bayesian_Estimation(mu,y,sigma_x,sigma_y,H)"
   ]
  },
  {
   "cell_type": "code",
   "execution_count": 98,
   "metadata": {},
   "outputs": [
    {
     "data": {
      "text/plain": [
       "matrix([[25.9],\n",
       "        [19. ]])"
      ]
     },
     "execution_count": 98,
     "metadata": {},
     "output_type": "execute_result"
    }
   ],
   "source": [
    "mean_post"
   ]
  },
  {
   "cell_type": "markdown",
   "metadata": {},
   "source": [
    "The estimate of the temperature in kigali is 25.9 degrees while that of Ruhengeri 19 degrees"
   ]
  },
  {
   "cell_type": "code",
   "execution_count": 99,
   "metadata": {},
   "outputs": [
    {
     "data": {
      "text/plain": [
       "matrix([[0.2 , 0.05],\n",
       "        [0.05, 0.95]])"
      ]
     },
     "execution_count": 99,
     "metadata": {},
     "output_type": "execute_result"
    }
   ],
   "source": [
    "sigma_post"
   ]
  },
  {
   "cell_type": "markdown",
   "metadata": {},
   "source": [
    "The obtained standard deviations shows how reliable our estimates are, we observe that the variance on Ruhengeri is larger than that of Kigali, this is due to the non-availability of data in Ruhengeri, thus we are more uncertian about the temperature in Ruhengeri, and more confident with our estimate of the temperature in Kigali. "
   ]
  },
  {
   "cell_type": "code",
   "execution_count": null,
   "metadata": {},
   "outputs": [],
   "source": []
  }
 ],
 "metadata": {
  "kernelspec": {
   "display_name": "Python 3",
   "language": "python",
   "name": "python3"
  },
  "language_info": {
   "codemirror_mode": {
    "name": "ipython",
    "version": 3
   },
   "file_extension": ".py",
   "mimetype": "text/x-python",
   "name": "python",
   "nbconvert_exporter": "python",
   "pygments_lexer": "ipython3",
   "version": "3.7.3"
  }
 },
 "nbformat": 4,
 "nbformat_minor": 2
}
