{
 "cells": [
  {
   "cell_type": "code",
   "execution_count": 1,
   "metadata": {},
   "outputs": [],
   "source": [
    "import numpy as np\n",
    "import matplotlib.pyplot as plt"
   ]
  },
  {
   "cell_type": "code",
   "execution_count": 2,
   "metadata": {},
   "outputs": [],
   "source": [
    "def f(x):\n",
    "    return -2*x-6*x**2"
   ]
  },
  {
   "cell_type": "code",
   "execution_count": 3,
   "metadata": {},
   "outputs": [],
   "source": [
    "def k(x):\n",
    "    return x**2"
   ]
  },
  {
   "cell_type": "code",
   "execution_count": 4,
   "metadata": {},
   "outputs": [],
   "source": [
    "b=1\n",
    "a=0\n",
    "alpha=0\n",
    "beta=2\n",
    "N=100\n",
    "dx=(b-a)/N\n",
    "def Function(a,b,dx):\n",
    "    x=np.linspace(0,1,N+1)\n",
    "    n=len(x)-1\n",
    "    F=np.zeros(n)\n",
    "    A=np.zeros((n,n))\n",
    "    #A[0,0]=alpha\n",
    "    #A[-1,-1]=beta\n",
    "    for i in range(1,n-1):\n",
    "        for j in range(1,n-1):\n",
    "            if i==j:\n",
    "                A[i,j]=k(x[i]-dx/2)+k(x[i]+dx/2)  \n",
    "            A[i+1,j]=-k(x[i]+dx/2)\n",
    "            A[i,j+1]=-k(x[i] +dx/2)\n",
    "            A[0,0]=k(x[0]-dx/2)\n",
    "            A[n-2,n-2]=k(x[i]-dx/2)+k(N*dx-dx/2)\n",
    "    for i in range(0,n-1):\n",
    "        F[i]=(dx*dx)*f(x[i])\n",
    "        F[0]=(dx*dx)*f(x[0])+alpha*k(dx/2)\n",
    "        F[n-2]=F[N-2]+beta*k(N*dx-dx/2)\n",
    "    return A,x,F"
   ]
  },
  {
   "cell_type": "code",
   "execution_count": 5,
   "metadata": {},
   "outputs": [],
   "source": [
    "a=0\n",
    "b=1\n",
    "#dx=0.01\n",
    "A,x,F=Function(a,b,dx)"
   ]
  },
  {
   "cell_type": "code",
   "execution_count": 6,
   "metadata": {},
   "outputs": [],
   "source": [
    "U = np.linalg.inv(A)@F"
   ]
  },
  {
   "cell_type": "code",
   "execution_count": 7,
   "metadata": {},
   "outputs": [
    {
     "data": {
      "text/plain": [
       "101"
      ]
     },
     "execution_count": 7,
     "metadata": {},
     "output_type": "execute_result"
    }
   ],
   "source": [
    "len(x)"
   ]
  },
  {
   "cell_type": "code",
   "execution_count": 8,
   "metadata": {},
   "outputs": [
    {
     "data": {
      "text/plain": [
       "[<matplotlib.lines.Line2D at 0x7fb2b17cdb70>]"
      ]
     },
     "execution_count": 8,
     "metadata": {},
     "output_type": "execute_result"
    },
    {
     "data": {
      "image/png": "[encoded data removed]",
      "text/plain": [
       "<Figure size 432x288 with 1 Axes>"
      ]
     },
     "metadata": {
      "needs_background": "light"
     },
     "output_type": "display_data"
    }
   ],
   "source": [
    "plt.plot(x[1:],U)"
   ]
  },
  {
   "cell_type": "code",
   "execution_count": 43,
   "metadata": {},
   "outputs": [
    {
     "data": {
      "text/plain": [
       "array([-0.00000000e+00, -2.06000000e-06, -4.24000000e-06, -6.54000000e-06,\n",
       "       -8.96000000e-06, -1.15000000e-05, -1.41600000e-05, -1.69400000e-05,\n",
       "       -1.98400000e-05, -2.28600000e-05, -2.60000000e-05, -2.92600000e-05,\n",
       "       -3.26400000e-05, -3.61400000e-05, -3.97600000e-05, -4.35000000e-05,\n",
       "       -4.73600000e-05, -5.13400000e-05, -5.54400000e-05, -5.96600000e-05,\n",
       "       -6.40000000e-05, -6.84600000e-05, -7.30400000e-05, -7.77400000e-05,\n",
       "       -8.25600000e-05, -8.75000000e-05, -9.25600000e-05, -9.77400000e-05,\n",
       "       -1.03040000e-04, -1.08460000e-04, -1.14000000e-04, -1.19660000e-04,\n",
       "       -1.25440000e-04, -1.31340000e-04, -1.37360000e-04, -1.43500000e-04,\n",
       "       -1.49760000e-04, -1.56140000e-04, -1.62640000e-04, -1.69260000e-04,\n",
       "       -1.76000000e-04, -1.82860000e-04, -1.89840000e-04, -1.96940000e-04,\n",
       "       -2.04160000e-04, -2.11500000e-04, -2.18960000e-04, -2.26540000e-04,\n",
       "       -2.34240000e-04, -2.42060000e-04, -2.50000000e-04, -2.58060000e-04,\n",
       "       -2.66240000e-04, -2.74540000e-04, -2.82960000e-04, -2.91500000e-04,\n",
       "       -3.00160000e-04, -3.08940000e-04, -3.17840000e-04, -3.26860000e-04,\n",
       "       -3.36000000e-04, -3.45260000e-04, -3.54640000e-04, -3.64140000e-04,\n",
       "       -3.73760000e-04, -3.83500000e-04, -3.93360000e-04, -4.03340000e-04,\n",
       "       -4.13440000e-04, -4.23660000e-04, -4.34000000e-04, -4.44460000e-04,\n",
       "       -4.55040000e-04, -4.65740000e-04, -4.76560000e-04, -4.87500000e-04,\n",
       "       -4.98560000e-04, -5.09740000e-04, -5.21040000e-04, -5.32460000e-04,\n",
       "       -5.44000000e-04, -5.55660000e-04, -5.67440000e-04, -5.79340000e-04,\n",
       "       -5.91360000e-04, -6.03500000e-04, -6.15760000e-04, -6.28140000e-04,\n",
       "       -6.40640000e-04, -6.53260000e-04, -6.66000000e-04, -6.78860000e-04,\n",
       "       -6.91840000e-04, -7.04940000e-04, -7.18160000e-04, -7.31500000e-04,\n",
       "       -7.44960000e-04, -7.58540000e-04,  1.90047776e+00,  0.00000000e+00])"
      ]
     },
     "execution_count": 43,
     "metadata": {},
     "output_type": "execute_result"
    }
   ],
   "source": [
    "C=np.zeros((N,N))\n",
    "P=np.zeros(N)\n",
    "x=np.arange(0,1+dx,dx)\n",
    "P[0]=alpha*k(dx/2)+ dx**2*f(x[0])\n",
    "P[N-1]=beta*k(x[N-1]-dx/2)+dx**2*f(x[N-1])\n",
    "C[N-1,N-1]=k(N*dx-(3*dx)/2) + k(N*dx-dx/2)\n",
    "for i in range(len(x)-1):\n",
    "    P[i]=dx**2*f(x[i])\n",
    "    #P[0]=alpha*k(dx/2)+ dx**2*f(x[0])\n",
    "    P[N-1]=beta*k(x[N-1]-dx/2)+dx**2*f(x[N-1])\n",
    "    #P[0]=alpha*k(dx/2)+ dx**2*f(x[0])\n",
    "for i in range(N-2):\n",
    "    C[0,0]=k(x[1]-dx/2)\n",
    "    C[i,i]=k(x[i]-dx/2)+k(x[i]+dx/2)\n",
    "    C[i+1,i]=-k(x[i]-dx/2)\n",
    "    C[i,i+1]=-k(x[i]-dx/2)\n",
    "C"
   ]
  },
  {
   "cell_type": "code",
   "execution_count": 42,
   "metadata": {},
   "outputs": [
    {
     "data": {
      "text/plain": [
       "99"
      ]
     },
     "execution_count": 42,
     "metadata": {},
     "output_type": "execute_result"
    }
   ],
   "source": [
    "len(P)"
   ]
  },
  {
   "cell_type": "code",
   "execution_count": 11,
   "metadata": {},
   "outputs": [],
   "source": [
    "U = np.linalg.inv(C)@P"
   ]
  },
  {
   "cell_type": "code",
   "execution_count": 12,
   "metadata": {},
   "outputs": [
    {
     "data": {
      "text/plain": [
       "(100,)"
      ]
     },
     "execution_count": 12,
     "metadata": {},
     "output_type": "execute_result"
    }
   ],
   "source": [
    "np.shape(U)"
   ]
  },
  {
   "cell_type": "code",
   "execution_count": 13,
   "metadata": {},
   "outputs": [
    {
     "data": {
      "text/plain": [
       "[<matplotlib.lines.Line2D at 0x7fb2b1704080>]"
      ]
     },
     "execution_count": 13,
     "metadata": {},
     "output_type": "execute_result"
    },
    {
     "data": {
      "image/png": "[encoded data removed]",
      "text/plain": [
       "<Figure size 432x288 with 1 Axes>"
      ]
     },
     "metadata": {
      "needs_background": "light"
     },
     "output_type": "display_data"
    }
   ],
   "source": [
    "plt.plot(x[1:],U)"
   ]
  },
  {
   "cell_type": "code",
   "execution_count": null,
   "metadata": {},
   "outputs": [],
   "source": []
  },
  {
   "cell_type": "code",
   "execution_count": null,
   "metadata": {},
   "outputs": [],
   "source": []
  }
 ],
 "metadata": {
  "kernelspec": {
   "display_name": "Python 3",
   "language": "python",
   "name": "python3"
  },
  "language_info": {
   "codemirror_mode": {
    "name": "ipython",
    "version": 3
   },
   "file_extension": ".py",
   "mimetype": "text/x-python",
   "name": "python",
   "nbconvert_exporter": "python",
   "pygments_lexer": "ipython3",
   "version": "3.7.3"
  }
 },
 "nbformat": 4,
 "nbformat_minor": 2
}
