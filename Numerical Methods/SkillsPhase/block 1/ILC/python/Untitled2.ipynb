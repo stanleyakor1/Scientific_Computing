{
 "cells": [
  {
   "cell_type": "code",
   "execution_count": 55,
   "metadata": {},
   "outputs": [],
   "source": [
    "import numpy as np\n",
    "\n",
    "f=lambda x: x**2\n",
    "def trape(f,a,b,n):\n",
    "    h=(b-a)/n\n",
    "    x=np.linspace(a,b,n+1)\n",
    "    y=f(x)\n",
    "    trape=(h/2)*(f(a)+f(b)+2*sum(y[1:-1]))\n",
    "    return trape"
   ]
  },
  {
   "cell_type": "code",
   "execution_count": 56,
   "metadata": {},
   "outputs": [
    {
     "data": {
      "text/plain": [
       "2.75"
      ]
     },
     "execution_count": 56,
     "metadata": {},
     "output_type": "execute_result"
    }
   ],
   "source": [
    "trape(f,0,2,4)"
   ]
  },
  {
   "cell_type": "code",
   "execution_count": 50,
   "metadata": {},
   "outputs": [],
   "source": [
    "import numpy as np\n",
    "f=lambda x: x**2\n",
    "\n",
    "def trape(f,a,b,n):\n",
    "    h=(b-a)/n\n",
    "    \n",
    "    x=np.zeros(n+1)\n",
    "    y=np.zeros(n+1)\n",
    "    \n",
    "    for i in range(n+1):\n",
    "        x[i]=a+i*h\n",
    "        y[i]=f(x[i])\n",
    "        \n",
    "        trape=(h/2)*(f(a)+f(b)+2*sum(y[1:-1]))\n",
    "    return trape"
   ]
  },
  {
   "cell_type": "code",
   "execution_count": 51,
   "metadata": {},
   "outputs": [
    {
     "data": {
      "text/plain": [
       "2.75"
      ]
     },
     "execution_count": 51,
     "metadata": {},
     "output_type": "execute_result"
    }
   ],
   "source": [
    "trape(f,0,2,4)"
   ]
  },
  {
   "cell_type": "code",
   "execution_count": 26,
   "metadata": {},
   "outputs": [],
   "source": [
    "f=lambda x:x**2\n",
    "def simp(f,a,b,n):\n",
    "    h=(b-a)/n\n",
    "    x=np.zeros(n+1)\n",
    "    y=np.zeros(n+1)\n",
    "    \n",
    "    \n",
    "    for i in range(n+1):\n",
    "        x[i]=a+i*h\n",
    "        y[i]=f(x[i])\n",
    "        \n",
    "        simp=(h/3)*(f(a)+f(b)+2*sum(y[2:-2:2])+4*sum(y[1:-1:2]))\n",
    "    return simp"
   ]
  },
  {
   "cell_type": "code",
   "execution_count": 27,
   "metadata": {},
   "outputs": [
    {
     "data": {
      "text/plain": [
       "2.6666666666666665"
      ]
     },
     "execution_count": 27,
     "metadata": {},
     "output_type": "execute_result"
    }
   ],
   "source": [
    "simp(f,0,2,4)"
   ]
  },
  {
   "cell_type": "code",
   "execution_count": 49,
   "metadata": {},
   "outputs": [
    {
     "data": {
      "text/plain": [
       "2.75"
      ]
     },
     "execution_count": 49,
     "metadata": {},
     "output_type": "execute_result"
    }
   ],
   "source": [
    "f=lambda x: x**2\n",
    "def trape(f,a,b,n):\n",
    "    h=(b-a)/n\n",
    "    x=np.zeros(n+1)\n",
    "    y=np.zeros(n+1)\n",
    "    \n",
    "    for i in range(n+1):\n",
    "        x[i]=a+i*h\n",
    "        y[i]=f(x[i])\n",
    "        \n",
    "        \n",
    "        trape=(h/2)*(f(a)+f(b)+2*sum(y[1:-1]))\n",
    "    return trape\n",
    "trape(f,0,2,4)"
   ]
  },
  {
   "cell_type": "code",
   "execution_count": null,
   "metadata": {},
   "outputs": [],
   "source": []
  }
 ],
 "metadata": {
  "kernelspec": {
   "display_name": "Python 3",
   "language": "python",
   "name": "python3"
  },
  "language_info": {
   "codemirror_mode": {
    "name": "ipython",
    "version": 3
   },
   "file_extension": ".py",
   "mimetype": "text/x-python",
   "name": "python",
   "nbconvert_exporter": "python",
   "pygments_lexer": "ipython3",
   "version": "3.7.3"
  }
 },
 "nbformat": 4,
 "nbformat_minor": 2
}
