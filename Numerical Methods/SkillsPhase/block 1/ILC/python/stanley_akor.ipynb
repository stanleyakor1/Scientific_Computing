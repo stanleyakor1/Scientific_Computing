{
 "cells": [
  {
   "cell_type": "code",
   "execution_count": 18,
   "metadata": {},
   "outputs": [
    {
     "name": "stdout",
     "output_type": "stream",
     "text": [
      "enter the value of N0: 10\n",
      "6\n"
     ]
    }
   ],
   "source": [
    "x=int(input('enter the value of N0: '))\n",
    "sum=0\n",
    "for i in range (x):\n",
    "    if i%2==0 and i%3==0:\n",
    "        sum=sum+i\n",
    "print(sum)"
   ]
  },
  {
   "cell_type": "code",
   "execution_count": 17,
   "metadata": {},
   "outputs": [
    {
     "name": "stdout",
     "output_type": "stream",
     "text": [
      "enter the value of n3\n",
      "enter the value of z2\n",
      "0.75\n"
     ]
    }
   ],
   "source": [
    "n=int(input('enter the value of n'))\n",
    "z=int(input('enter the value of z'))\n",
    "a=0\n",
    "B=0\n",
    "if z==0:\n",
    "    print('the value of z must be graeter than zero')\n",
    "        \n",
    "else:\n",
    "    for i in range (n):\n",
    "            a=(-1)**i/(z**i)\n",
    "            B=B+a\n",
    "print(B)\n",
    "    \n"
   ]
  },
  {
   "cell_type": "code",
   "execution_count": null,
   "metadata": {},
   "outputs": [],
   "source": []
  }
 ],
 "metadata": {
  "kernelspec": {
   "display_name": "Python 3",
   "language": "python",
   "name": "python3"
  },
  "language_info": {
   "codemirror_mode": {
    "name": "ipython",
    "version": 3
   },
   "file_extension": ".py",
   "mimetype": "text/x-python",
   "name": "python",
   "nbconvert_exporter": "python",
   "pygments_lexer": "ipython3",
   "version": "3.7.3"
  }
 },
 "nbformat": 4,
 "nbformat_minor": 2
}
