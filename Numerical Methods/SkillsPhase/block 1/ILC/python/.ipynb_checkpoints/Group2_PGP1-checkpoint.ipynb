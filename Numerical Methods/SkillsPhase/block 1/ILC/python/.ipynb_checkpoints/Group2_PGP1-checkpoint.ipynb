{
 "cells": [
  {
   "cell_type": "code",
   "execution_count": 2,
   "metadata": {},
   "outputs": [
    {
     "name": "stdout",
     "output_type": "stream",
     "text": [
      "enter the time64\n",
      "64 seconds = 0 weeks 0 day 0 hour 1 minute 4 seconds\n"
     ]
    }
   ],
   "source": [
    "time=int(input('enter the time')) #Question1\n",
    "week=time//604800\n",
    "day=(time-week*604800)//86400\n",
    "hour=(time-week*604800-day*86400)//3600\n",
    "minutes=(time-week*604800-day*86400-hour*3600)//60\n",
    "seconds=(time-week*604800-day*86400-hour*3600-minutes*60)\n",
    "print(time,'seconds =',week,'weeks',day,'day',hour,'hour',minutes,'minute',seconds,'seconds')"
   ]
  },
  {
   "cell_type": "code",
   "execution_count": null,
   "metadata": {},
   "outputs": [],
   "source": [
    "a=float(input('enter the value of a'))  #Question2\n",
    "s=float(input('enter the value of s'))\n",
    "if s!=0:\n",
    "    quotient=a/s\n",
    "    print(quotient)\n",
    "else:\n",
    "    print('a is not divisible by s')"
   ]
  },
  {
   "cell_type": "code",
   "execution_count": null,
   "metadata": {},
   "outputs": [],
   "source": [
    "x=eval(input('enter any number')) #Question3\n",
    "while x<0 or x>2:\n",
    "    x=int(input('enter any number'))\n",
    "if x==1:\n",
    "    y=float(input('enter a real number'))\n",
    "    z=y**5\n",
    "    print('%0.10f'%(z))\n",
    "elif x==2:\n",
    "    \n",
    "    n=int(input('enter an integer'))\n",
    "    if n%2==0:\n",
    "        print('even')\n",
    "    else:\n",
    "        print('odd')\n",
    "elif x==0:\n",
    "    print('I hate zero')"
   ]
  },
  {
   "cell_type": "code",
   "execution_count": null,
   "metadata": {},
   "outputs": [],
   "source": [
    "a=int(input('enter number a: '))  #Question4\n",
    "b=int(input('enter number b: '))\n",
    "c=int(input('enter number c: '))\n",
    "if a<c>b:\n",
    "    if c*c==b*b+a*a:\n",
    "        print(' they form parts of a right angled triangle')\n",
    "    else:\n",
    "        print('They do not form part of a right angled triangle')\n",
    "elif c<a>b:\n",
    "    if a*a==b*b+c*c:\n",
    "        print(' they form parts of a right angled triangle')\n",
    "    else:\n",
    "        print('They do not form part of a right angled triangle')\n",
    "elif a<b>c:\n",
    "    if b*b==c*c+a*a:\n",
    "        print(' they form parts of a right angled triangle')\n",
    "    else:\n",
    "        print('They do not form part of a right angled triangle')\n",
    "else:\n",
    "    print('They do not form part of a right angled triangle')"
   ]
  },
  {
   "cell_type": "code",
   "execution_count": null,
   "metadata": {},
   "outputs": [],
   "source": [
    "x=input('enter a string: ')  #Question 5\n",
    "if len(x)>2:\n",
    "    y=x[0:2]+ x[-2:] \n",
    "    \n",
    "    print(y)\n",
    "else:\n",
    "    print(x)"
   ]
  },
  {
   "cell_type": "code",
   "execution_count": null,
   "metadata": {},
   "outputs": [],
   "source": [
    "string=input('enter the string: ')  #question 6\n",
    "if len(string)>=3:\n",
    "    if string[-3:]=='ing':\n",
    "        print(string+'ly')\n",
    "    else:\n",
    "        print(string+'ing')\n",
    "else:\n",
    "    print(string)\n",
    "    \n"
   ]
  },
  {
   "cell_type": "code",
   "execution_count": 5,
   "metadata": {},
   "outputs": [
    {
     "name": "stdout",
     "output_type": "stream",
     "text": [
      "enter a number: 2\n",
      "2 + 22 + 222 = 246\n"
     ]
    }
   ],
   "source": [
    "k=input('enter a number: ') #question 7\n",
    "kk = k+k\n",
    "kkk = kk+k\n",
    "t=int(k)+int(kk)+int(kkk)\n",
    "print(k,'+',kk,'+',kkk,'=', t)"
   ]
  },
  {
   "cell_type": "code",
   "execution_count": null,
   "metadata": {},
   "outputs": [],
   "source": [
    "k=input('enter a positive integer k: ')  #question 8\n",
    "n=int(input('enter the number'))\n",
    "w=0\n",
    "for i in range (1,n+1):\n",
    "    y =k*i\n",
    "    a = int(y)\n",
    "    w =w+a\n",
    "    print(y,w)"
   ]
  },
  {
   "cell_type": "code",
   "execution_count": null,
   "metadata": {},
   "outputs": [],
   "source": [
    "year=int(input('enter a four digit year: '))  #question 9   \n",
    "if year%4==0:\n",
    "    print(year, 'is a leap year')\n",
    "else:\n",
    "    print(year,'is not a leap year')"
   ]
  },
  {
   "cell_type": "code",
   "execution_count": 7,
   "metadata": {},
   "outputs": [
    {
     "name": "stdout",
     "output_type": "stream",
     "text": [
      "enter the number0.1245468645679875454687484564648797645446545464676845454\n",
      "18\n"
     ]
    }
   ],
   "source": [
    "x=eval(input('enter the number')) #question 10\n",
    "x_string=str(x-int(x))[2:]\n",
    "z=x_string[1:2]\n",
    "w=x_string[3:4]\n",
    "p=x_string[7:8]\n",
    "q=x_string[15:16]\n",
    "r=x_string[31:32]\n",
    "s=x_string[63:64]\n",
    "a=int(z)+int(w)+int(p)+int(q)\n",
    "print(a)"
   ]
  },
  {
   "cell_type": "code",
   "execution_count": null,
   "metadata": {},
   "outputs": [],
   "source": [
    "a=float(input('enter the value of a: ')) #question 11\n",
    "b=float(input('enter the value of b: '))\n",
    "if (a**3-3*a-4)*(b**3-3*b-4)>=0:\n",
    "    print('dicotomy method fails')\n",
    "else:\n",
    "    w=1e-5\n",
    "    while abs(b-a)>w:\n",
    "        c=(b+a)/2\n",
    "        if (c**3-3*c-4)==0:\n",
    "            print(c)\n",
    "        \n",
    "        elif (c**3-3*c-4)*(a**3-3*a-4)<0:\n",
    "            c=b\n",
    "            d=(a+b)/2\n",
    "            print(d)\n",
    "                \n",
    "        else:\n",
    "            c=a\n",
    "            d=(a+b)/2\n",
    "        print(d)"
   ]
  },
  {
   "cell_type": "code",
   "execution_count": null,
   "metadata": {},
   "outputs": [],
   "source": [
    "n=int(input('enter the value of n: ')) #question 12\n",
    "U0=1\n",
    "U1=2\n",
    "U2=3\n",
    "if n==0:\n",
    "    print(U0)        \n",
    "if n==1:\n",
    "    print(U1)\n",
    "if n==2:\n",
    "    print(U2)\n",
    "else:\n",
    "    for i in range(3,n+1):\n",
    "        Un=U2-3*U1+U0\n",
    "        U0=U1\n",
    "        U1=U2\n",
    "        U2=Un\n",
    "    print(Un)"
   ]
  },
  {
   "cell_type": "code",
   "execution_count": null,
   "metadata": {},
   "outputs": [],
   "source": [
    "inventory = {'gold':500,'pouch':['flint','twine','gemstone'],'backpack':['xylophone','dagger','bedroll','bread loaf']} #Question 13\n",
    "inventory['pocket']=''\n",
    "inventory['pocket']=['seashell','strange berry','lint']\n",
    "inventory['backpack'].sort()\n",
    "inventory['backpack'].remove('dagger')\n",
    "inventory['gold']=50,500\n",
    "inventory"
   ]
  },
  {
   "cell_type": "code",
   "execution_count": 7,
   "metadata": {},
   "outputs": [
    {
     "name": "stdout",
     "output_type": "stream",
     "text": [
      "enter the number0.55918928859889865\n"
     ]
    },
    {
     "ename": "NameError",
     "evalue": "name 'list_xstring' is not defined",
     "output_type": "error",
     "traceback": [
      "\u001b[0;31m---------------------------------------------------------------------------\u001b[0m",
      "\u001b[0;31mNameError\u001b[0m                                 Traceback (most recent call last)",
      "\u001b[0;32m<ipython-input-7-d2b39a2701ad>\u001b[0m in \u001b[0;36m<module>\u001b[0;34m()\u001b[0m\n\u001b[1;32m      2\u001b[0m \u001b[0mx_string\u001b[0m\u001b[0;34m=\u001b[0m\u001b[0mstr\u001b[0m\u001b[0;34m(\u001b[0m\u001b[0mx\u001b[0m\u001b[0;34m-\u001b[0m\u001b[0mint\u001b[0m\u001b[0;34m(\u001b[0m\u001b[0mx\u001b[0m\u001b[0;34m)\u001b[0m\u001b[0;34m)\u001b[0m\u001b[0;34m[\u001b[0m\u001b[0;36m2\u001b[0m\u001b[0;34m:\u001b[0m\u001b[0;34m]\u001b[0m\u001b[0;34m\u001b[0m\u001b[0;34m\u001b[0m\u001b[0m\n\u001b[1;32m      3\u001b[0m \u001b[0mlist_Xstring\u001b[0m\u001b[0;34m=\u001b[0m\u001b[0mlist\u001b[0m\u001b[0;34m(\u001b[0m\u001b[0mx_string\u001b[0m\u001b[0;34m)\u001b[0m\u001b[0;34m\u001b[0m\u001b[0;34m\u001b[0m\u001b[0m\n\u001b[0;32m----> 4\u001b[0;31m \u001b[0mlist_xstring\u001b[0m\u001b[0;34m[\u001b[0m\u001b[0;36m1\u001b[0m\u001b[0;34m:\u001b[0m\u001b[0mlen\u001b[0m\u001b[0;34m(\u001b[0m\u001b[0mx_string\u001b[0m\u001b[0;34m)\u001b[0m\u001b[0;34m:\u001b[0m\u001b[0;36m2\u001b[0m\u001b[0;34m]\u001b[0m\u001b[0;34m\u001b[0m\u001b[0;34m\u001b[0m\u001b[0m\n\u001b[0m\u001b[1;32m      5\u001b[0m \u001b[0mprint\u001b[0m\u001b[0;34m(\u001b[0m\u001b[0mlist_xstring\u001b[0m\u001b[0;34m)\u001b[0m\u001b[0;34m\u001b[0m\u001b[0;34m\u001b[0m\u001b[0m\n",
      "\u001b[0;31mNameError\u001b[0m: name 'list_xstring' is not defined"
     ]
    }
   ],
   "source": [
    "x=float(input('enter the number'))\n",
    "x_string=str(x-int(x))[2:]\n",
    "list_Xstring=list(x_string)\n",
    "list_xstring[1:len(x_string):2]\n",
    "print(list_xstring)\n"
   ]
  },
  {
   "cell_type": "code",
   "execution_count": null,
   "metadata": {},
   "outputs": [],
   "source": []
  }
 ],
 "metadata": {
  "kernelspec": {
   "display_name": "Python 3",
   "language": "python",
   "name": "python3"
  },
  "language_info": {
   "codemirror_mode": {
    "name": "ipython",
    "version": 3
   },
   "file_extension": ".py",
   "mimetype": "text/x-python",
   "name": "python",
   "nbconvert_exporter": "python",
   "pygments_lexer": "ipython3",
   "version": "3.7.3"
  }
 },
 "nbformat": 4,
 "nbformat_minor": 2
}
