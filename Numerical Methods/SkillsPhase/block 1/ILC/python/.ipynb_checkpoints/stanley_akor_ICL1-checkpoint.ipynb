{
 "cells": [
  {
   "cell_type": "code",
   "execution_count": null,
   "metadata": {},
   "outputs": [],
   "source": [
    "\n",
    "n=eval(input(\" enter the first number \"))\n",
    "m=eval(input(\" enter the second number\"))\n",
    "z=eval(input(\"enter the third number\"))\n",
    "product=n*m*z\n",
    "sum=n+m+z\n",
    "average=sum/3\n",
    "print(\"the sum is=\", sum)\n",
    "print(\"the product is=\", product)\n",
    "print(\"the average is=\", average)"
   ]
  },
  {
   "cell_type": "code",
   "execution_count": null,
   "metadata": {},
   "outputs": [],
   "source": []
  },
  {
   "cell_type": "code",
   "execution_count": 6,
   "metadata": {},
   "outputs": [
    {
     "name": "stdout",
     "output_type": "stream",
     "text": [
      "3 2\n"
     ]
    }
   ],
   "source": [
    "a=2\n",
    "b=3\n",
    "swap=a\n",
    "a=b\n",
    "b=swap\n",
    "print(a,b)"
   ]
  },
  {
   "cell_type": "code",
   "execution_count": 8,
   "metadata": {},
   "outputs": [
    {
     "name": "stdout",
     "output_type": "stream",
     "text": [
      " enter the number q 3\n",
      " enter the number p 5\n",
      "the sum is= 8\n",
      "the product is= 15\n",
      "the average is= 2.6666666666666665\n"
     ]
    }
   ],
   "source": [
    "n=int(input(\" enter the number q \"))\n",
    "m=int(input(\" enter the number p \"))\n",
    "product=n*m\n",
    "sum=n+m\n",
    "average=sum/3\n",
    "print(\"the sum is=\", sum)\n",
    "print(\"the product is=\", product)\n",
    "print(\"the average is=\", average)\n"
   ]
  },
  {
   "cell_type": "code",
   "execution_count": 6,
   "metadata": {},
   "outputs": [
    {
     "name": "stdout",
     "output_type": "stream",
     "text": [
      " enter the radius5\n",
      " enter the height of the cylinder2\n",
      "the area is=  78.55\n",
      "the volume is=  157.1\n"
     ]
    }
   ],
   "source": [
    "m=eval(input(\" enter the radius\"))\n",
    "area=3.142*m**2\n",
    "n=eval(input(\" enter the height of the cylinder\"))\n",
    "volume=area*n\n",
    "print( \"the area is= \", area)\n",
    "print(\"the volume is= \", volume)\n"
   ]
  },
  {
   "cell_type": "code",
   "execution_count": 5,
   "metadata": {},
   "outputs": [
    {
     "name": "stdout",
     "output_type": "stream",
     "text": [
      " enter the radius 5\n",
      " enter the height of the cylinder3\n",
      "the area is=  78.55\n",
      "the volume is=  235.64999999999998\n"
     ]
    }
   ],
   "source": [
    "m=eval(input(\" enter the radius \"))\n",
    "area=3.142*m**2\n",
    "n=eval(input(\" enter the height of the cylinder\"))\n",
    "volume=area*n\n",
    "print( \"the area is= \", area)\n",
    "print(\"the volume is= \", volume)\n"
   ]
  },
  {
   "cell_type": "code",
   "execution_count": null,
   "metadata": {},
   "outputs": [],
   "source": []
  },
  {
   "cell_type": "code",
   "execution_count": null,
   "metadata": {},
   "outputs": [],
   "source": []
  }
 ],
 "metadata": {
  "kernelspec": {
   "display_name": "Python 3",
   "language": "python",
   "name": "python3"
  },
  "language_info": {
   "codemirror_mode": {
    "name": "ipython",
    "version": 3
   },
   "file_extension": ".py",
   "mimetype": "text/x-python",
   "name": "python",
   "nbconvert_exporter": "python",
   "pygments_lexer": "ipython3",
   "version": "3.7.3"
  }
 },
 "nbformat": 4,
 "nbformat_minor": 2
}
