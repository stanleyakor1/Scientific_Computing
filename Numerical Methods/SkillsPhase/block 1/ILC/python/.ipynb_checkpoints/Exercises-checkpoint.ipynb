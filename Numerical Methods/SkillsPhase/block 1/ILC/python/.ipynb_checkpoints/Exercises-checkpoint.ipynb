{
 "cells": [
  {
   "cell_type": "code",
   "execution_count": 1,
   "metadata": {},
   "outputs": [
    {
     "data": {
      "text/plain": [
       "13"
      ]
     },
     "execution_count": 1,
     "metadata": {},
     "output_type": "execute_result"
    }
   ],
   "source": [
    "def sum_digits(num):\n",
    "    strg = str(num)\n",
    "    s_um = 0\n",
    "    for i in strg:\n",
    "        s_um += int(i)\n",
    "    return s_um\n",
    "sum_digits(132430)"
   ]
  },
  {
   "cell_type": "code",
   "execution_count": 190,
   "metadata": {},
   "outputs": [],
   "source": [
    "def factorial(n):\n",
    "    factorial=1\n",
    "    for i in range(1,n+1):\n",
    "        factorial=factorial*i\n",
    "    return factorial\n",
    "\n",
    "def combination(q,p):\n",
    "    if q>=p:\n",
    "        return factorial(q)/(factorial(q-p)*factorial(p))\n",
    "    else:\n",
    "        return 'invalid input'"
   ]
  },
  {
   "cell_type": "code",
   "execution_count": 191,
   "metadata": {},
   "outputs": [
    {
     "data": {
      "text/plain": [
       "10.0"
      ]
     },
     "execution_count": 191,
     "metadata": {},
     "output_type": "execute_result"
    }
   ],
   "source": [
    "combination(5,2)"
   ]
  },
  {
   "cell_type": "code",
   "execution_count": 19,
   "metadata": {},
   "outputs": [],
   "source": [
    "def  number_of_factors(n):\n",
    "    return[i for i in range(1,n+1) if n%i==0]\n",
    "    \n",
    "    "
   ]
  },
  {
   "cell_type": "code",
   "execution_count": 20,
   "metadata": {},
   "outputs": [
    {
     "data": {
      "text/plain": [
       "[1, 2, 5, 10]"
      ]
     },
     "execution_count": 20,
     "metadata": {},
     "output_type": "execute_result"
    }
   ],
   "source": [
    "number_of_factors(10)"
   ]
  },
  {
   "cell_type": "code",
   "execution_count": 24,
   "metadata": {},
   "outputs": [],
   "source": [
    "def  number_of_factors(z):\n",
    "    L=[]\n",
    "    for i in range(1,z+1):\n",
    "        if z%i==0:\n",
    "            L.append(i)\n",
    "    return len(L),L\n",
    "    \n",
    "    "
   ]
  },
  {
   "cell_type": "code",
   "execution_count": 25,
   "metadata": {},
   "outputs": [
    {
     "data": {
      "text/plain": [
       "(4, [1, 2, 5, 10])"
      ]
     },
     "execution_count": 25,
     "metadata": {},
     "output_type": "execute_result"
    }
   ],
   "source": [
    "number_of_factors(10)"
   ]
  },
  {
   "cell_type": "code",
   "execution_count": 104,
   "metadata": {},
   "outputs": [],
   "source": [
    "def root(x,n=2):\n",
    "    return int(x**(1/n))\n",
    "    "
   ]
  },
  {
   "cell_type": "code",
   "execution_count": 105,
   "metadata": {},
   "outputs": [
    {
     "data": {
      "text/plain": [
       "2"
      ]
     },
     "execution_count": 105,
     "metadata": {},
     "output_type": "execute_result"
    }
   ],
   "source": [
    "root(5)"
   ]
  },
  {
   "cell_type": "code",
   "execution_count": 30,
   "metadata": {},
   "outputs": [
    {
     "data": {
      "text/plain": [
       "1"
      ]
     },
     "execution_count": 30,
     "metadata": {},
     "output_type": "execute_result"
    }
   ],
   "source": [
    "changecase('stane','stanttte')"
   ]
  },
  {
   "cell_type": "code",
   "execution_count": 208,
   "metadata": {},
   "outputs": [],
   "source": [
    "def closest(L,n):\n",
    "    \n",
    "    L.sort()\n",
    "    y=len(L)\n",
    "    for i in range(y):\n",
    "        if n<=L[i]:\n",
    "            return L[i-1]\n"
   ]
  },
  {
   "cell_type": "code",
   "execution_count": 209,
   "metadata": {},
   "outputs": [
    {
     "data": {
      "text/plain": [
       "3"
      ]
     },
     "execution_count": 209,
     "metadata": {},
     "output_type": "execute_result"
    }
   ],
   "source": [
    "closest([3,5,7,8,5,8,9,9,9],5)"
   ]
  },
  {
   "cell_type": "code",
   "execution_count": 6,
   "metadata": {},
   "outputs": [],
   "source": [
    "def matches(s,j):\n",
    "    if len(s)<=len(j):\n",
    "        n=len(s)\n",
    "    else:\n",
    "        n=len(j)\n",
    "        a =0\n",
    "    for i in range(n):\n",
    "        if s[i]==j[i]:\n",
    "            a+=1\n",
    "    return a"
   ]
  },
  {
   "cell_type": "code",
   "execution_count": 7,
   "metadata": {},
   "outputs": [
    {
     "data": {
      "text/plain": [
       "4"
      ]
     },
     "execution_count": 7,
     "metadata": {},
     "output_type": "execute_result"
    }
   ],
   "source": [
    "matches('stanley','stan')"
   ]
  },
  {
   "cell_type": "code",
   "execution_count": 37,
   "metadata": {},
   "outputs": [],
   "source": [
    "def sfind(strng,a):\n",
    "    listf=[]\n",
    "    \n",
    "    for i in range(0,len(strng)):\n",
    "        if strng[i]==a:\n",
    "            listf.append(i)\n",
    "    else:\n",
    "        return listf\n",
    "        "
   ]
  },
  {
   "cell_type": "code",
   "execution_count": 41,
   "metadata": {},
   "outputs": [
    {
     "data": {
      "text/plain": [
       "[0, 7, 10]"
      ]
     },
     "execution_count": 41,
     "metadata": {},
     "output_type": "execute_result"
    }
   ],
   "source": [
    "sfind('stayyaysyus','s')"
   ]
  },
  {
   "cell_type": "code",
   "execution_count": 42,
   "metadata": {},
   "outputs": [],
   "source": [
    "def is_sorted(lists):\n",
    "    if lists==lists.sort():\n",
    "        return True\n",
    "    else:\n",
    "        return false"
   ]
  },
  {
   "cell_type": "code",
   "execution_count": 86,
   "metadata": {},
   "outputs": [],
   "source": [
    "def change_case(l):\n",
    "    l1=''\n",
    "    a=len(l)\n",
    "    \n",
    "    for i in range(a):\n",
    "        if l[i].isupper():\n",
    "            l1=l1+l[i].lower()\n",
    "        \n",
    "            \n",
    "        else:\n",
    "            l[i].islower()\n",
    "            l1=l1+l[i].upper()\n",
    "            \n",
    "    return l1"
   ]
  },
  {
   "cell_type": "code",
   "execution_count": 87,
   "metadata": {},
   "outputs": [
    {
     "data": {
      "text/plain": [
       "'sTANLEY'"
      ]
     },
     "execution_count": 87,
     "metadata": {},
     "output_type": "execute_result"
    }
   ],
   "source": [
    "change_case('Stanley')"
   ]
  },
  {
   "cell_type": "code",
   "execution_count": 102,
   "metadata": {},
   "outputs": [],
   "source": [
    "def is_sorted(strng):\n",
    "    for i in range(len(strng)):\n",
    "        if strng[i]<=strng[i+1]:\n",
    "            return 'True'\n",
    "    return 'False'"
   ]
  },
  {
   "cell_type": "code",
   "execution_count": 103,
   "metadata": {},
   "outputs": [
    {
     "data": {
      "text/plain": [
       "'True'"
      ]
     },
     "execution_count": 103,
     "metadata": {},
     "output_type": "execute_result"
    }
   ],
   "source": [
    "is_sorted([1,5,3,4])"
   ]
  },
  {
   "cell_type": "code",
   "execution_count": 135,
   "metadata": {},
   "outputs": [],
   "source": [
    "def one_way(m,n):\n",
    "    count=0\n",
    "    if len(n)==len(m):\n",
    "        for i in range(len(m)):\n",
    "            if m[i]!=n[i]:\n",
    "                count+=i\n",
    "                if count==1:\n",
    "                    return True\n",
    "                else:\n",
    "                    return 'false'\n",
    "\n",
    "    return 'false'"
   ]
  },
  {
   "cell_type": "code",
   "execution_count": 139,
   "metadata": {},
   "outputs": [
    {
     "data": {
      "text/plain": [
       "'false'"
      ]
     },
     "execution_count": 139,
     "metadata": {},
     "output_type": "execute_result"
    }
   ],
   "source": [
    "one_way('speed','speed')"
   ]
  },
  {
   "cell_type": "code",
   "execution_count": 184,
   "metadata": {},
   "outputs": [],
   "source": [
    "def prime(y):\n",
    "    \n",
    "    p=[]\n",
    "    \n",
    "    for i in range(2,y):\n",
    "        if y%3!=0 and y%2!=0:\n",
    "            p.append(i)\n",
    "            z=p.append(i)\n",
    "        \n",
    "    return p\n",
    "        "
   ]
  },
  {
   "cell_type": "code",
   "execution_count": 185,
   "metadata": {},
   "outputs": [
    {
     "data": {
      "text/plain": [
       "[]"
      ]
     },
     "execution_count": 185,
     "metadata": {},
     "output_type": "execute_result"
    }
   ],
   "source": [
    "prime(100)"
   ]
  },
  {
   "cell_type": "code",
   "execution_count": 152,
   "metadata": {},
   "outputs": [],
   "source": [
    "def one_way(m,n):\n",
    "    count=0\n",
    "    if len(n)==len(m):\n",
    "        return 'true'\n",
    "    else:\n",
    "\n",
    "        for i in range(len(m)):\n",
    "            if m[i]!=n[i]:\n",
    "                count+=i\n",
    "                if count==1:\n",
    "                    return True\n",
    "                else:\n",
    "                    return 'false'\n",
    "\n",
    "    "
   ]
  },
  {
   "cell_type": "code",
   "execution_count": 153,
   "metadata": {},
   "outputs": [
    {
     "data": {
      "text/plain": [
       "'true'"
      ]
     },
     "execution_count": 153,
     "metadata": {},
     "output_type": "execute_result"
    }
   ],
   "source": [
    "one_way('spafd','spead')"
   ]
  },
  {
   "cell_type": "code",
   "execution_count": 168,
   "metadata": {},
   "outputs": [],
   "source": [
    "def  Articles(y):\n",
    "    count1=0\n",
    "    count2=0\n",
    "    count3=0\n",
    "    if 'an ' in y.lower():\n",
    "        count1+=1\n",
    "    if 'a' in y:\n",
    "        count2+=1\n",
    "        \n",
    "    if 'the' in y.lower():\n",
    "        count3+=1\n",
    "    return count1,count2,count3"
   ]
  },
  {
   "cell_type": "code",
   "execution_count": 169,
   "metadata": {},
   "outputs": [
    {
     "data": {
      "text/plain": [
       "(0, 1, 1)"
      ]
     },
     "execution_count": 169,
     "metadata": {},
     "output_type": "execute_result"
    }
   ],
   "source": [
    "Articles(' The student, called Ange, is a girl from Rwanda ')"
   ]
  },
  {
   "cell_type": "code",
   "execution_count": 205,
   "metadata": {},
   "outputs": [],
   "source": [
    "def wordn(s,k):\n",
    "    y=len(s)\n",
    "    \n",
    "    for i in range(y):\n",
    "        if i==k:\n",
    "            return s[i]\n",
    "    else:\n",
    "        return 'none!'\n",
    "    "
   ]
  },
  {
   "cell_type": "code",
   "execution_count": 207,
   "metadata": {},
   "outputs": [
    {
     "data": {
      "text/plain": [
       "'e'"
      ]
     },
     "execution_count": 207,
     "metadata": {},
     "output_type": "execute_result"
    }
   ],
   "source": [
    "wordn('three',4)"
   ]
  },
  {
   "cell_type": "code",
   "execution_count": null,
   "metadata": {},
   "outputs": [],
   "source": []
  },
  {
   "cell_type": "code",
   "execution_count": 218,
   "metadata": {},
   "outputs": [],
   "source": [
    "def sum_(y):\n",
    "    z=str(y)\n",
    "    sun=0\n",
    "    \n",
    "    for i in z:\n",
    "        sun+=int(i)\n",
    "        \n",
    "    return sun"
   ]
  },
  {
   "cell_type": "code",
   "execution_count": 219,
   "metadata": {},
   "outputs": [
    {
     "data": {
      "text/plain": [
       "10"
      ]
     },
     "execution_count": 219,
     "metadata": {},
     "output_type": "execute_result"
    }
   ],
   "source": [
    "sum_(1234)"
   ]
  },
  {
   "cell_type": "code",
   "execution_count": 220,
   "metadata": {},
   "outputs": [],
   "source": [
    "def rect(n,m):\n",
    "    \n",
    "    print('*'*m)\n",
    "    \n",
    "    for i in range(m-3):\n",
    "        print(\"*\"+\" \"*(m-2)+\"*\")\n",
    "    print('*'*m)\n",
    "    "
   ]
  },
  {
   "cell_type": "code",
   "execution_count": 221,
   "metadata": {},
   "outputs": [
    {
     "name": "stdout",
     "output_type": "stream",
     "text": [
      "*****\n",
      "*   *\n",
      "*   *\n",
      "*****\n"
     ]
    }
   ],
   "source": [
    "rect(7,5)"
   ]
  },
  {
   "cell_type": "code",
   "execution_count": 240,
   "metadata": {},
   "outputs": [],
   "source": [
    "def firstd(n,m):\n",
    "    if len(n)>=len(m):\n",
    "        p=len(n)\n",
    "    else:\n",
    "        len(m)\n",
    "       \n",
    "    for i in range(len(m)):\n",
    "        \n",
    "        if n[i]!=m[i]:\n",
    "            return i\n",
    "   \n",
    "    if len(n)==len(m):            \n",
    "        return -1"
   ]
  },
  {
   "cell_type": "code",
   "execution_count": 241,
   "metadata": {},
   "outputs": [
    {
     "data": {
      "text/plain": [
       "5"
      ]
     },
     "execution_count": 241,
     "metadata": {},
     "output_type": "execute_result"
    }
   ],
   "source": [
    "firstd('Angela','Angele')"
   ]
  },
  {
   "cell_type": "code",
   "execution_count": null,
   "metadata": {},
   "outputs": [],
   "source": []
  },
  {
   "cell_type": "code",
   "execution_count": null,
   "metadata": {},
   "outputs": [],
   "source": []
  },
  {
   "cell_type": "code",
   "execution_count": null,
   "metadata": {},
   "outputs": [],
   "source": []
  },
  {
   "cell_type": "code",
   "execution_count": null,
   "metadata": {},
   "outputs": [],
   "source": []
  }
 ],
 "metadata": {
  "kernelspec": {
   "display_name": "Python 3",
   "language": "python",
   "name": "python3"
  },
  "language_info": {
   "codemirror_mode": {
    "name": "ipython",
    "version": 3
   },
   "file_extension": ".py",
   "mimetype": "text/x-python",
   "name": "python",
   "nbconvert_exporter": "python",
   "pygments_lexer": "ipython3",
   "version": "3.7.3"
  }
 },
 "nbformat": 4,
 "nbformat_minor": 2
}
