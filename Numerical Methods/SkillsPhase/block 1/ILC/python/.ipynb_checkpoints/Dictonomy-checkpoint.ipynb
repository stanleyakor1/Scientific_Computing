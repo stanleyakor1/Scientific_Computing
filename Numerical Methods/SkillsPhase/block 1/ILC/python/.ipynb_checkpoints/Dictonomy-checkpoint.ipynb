{
 "cells": [
  {
   "cell_type": "code",
   "execution_count": 14,
   "metadata": {},
   "outputs": [],
   "source": [
    "def bisection(f,a,b,N):\n",
    "    if f(a)*f(b)>=0:\n",
    "        print('bisection method fails')\n",
    "        return None\n",
    "        a_n=a\n",
    "        b_n=b\n",
    "    for n in range (1,N+1):\n",
    "        m_n=(a_n+b_n)/2\n",
    "        f_m_n=f(m_n)\n",
    "        \n",
    "        if f(a_n)*f_m_n<0:\n",
    "            a_n=a_n\n",
    "            b_n=m_n\n",
    "            \n",
    "        elif f(b_n)*f_m_n<0:\n",
    "                a_n=a_n\n",
    "                b_n=m_n\n",
    "            \n",
    "        elif f_m_n==0:\n",
    "                print('found exact solution')\n",
    "                return m_n\n",
    "        else:\n",
    "            print('bisection solution fails')\n",
    "            return None\n",
    "        \n",
    "    return (a_n+b_n)/2\n",
    "        "
   ]
  },
  {
   "cell_type": "code",
   "execution_count": null,
   "metadata": {},
   "outputs": [],
   "source": []
  }
 ],
 "metadata": {
  "kernelspec": {
   "display_name": "Python 3",
   "language": "python",
   "name": "python3"
  },
  "language_info": {
   "codemirror_mode": {
    "name": "ipython",
    "version": 3
   },
   "file_extension": ".py",
   "mimetype": "text/x-python",
   "name": "python",
   "nbconvert_exporter": "python",
   "pygments_lexer": "ipython3",
   "version": "3.7.3"
  }
 },
 "nbformat": 4,
 "nbformat_minor": 2
}
