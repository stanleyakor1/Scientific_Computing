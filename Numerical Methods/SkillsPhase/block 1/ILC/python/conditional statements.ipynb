{
 "cells": [
  {
   "cell_type": "code",
   "execution_count": 2,
   "metadata": {},
   "outputs": [
    {
     "name": "stdout",
     "output_type": "stream",
     "text": [
      "enter the value of x 5\n",
      "x is greater\n"
     ]
    }
   ],
   "source": [
    "\n",
    "m=int(input('enter the value of x '))\n",
    "x=20\n",
    "if x<m:\n",
    "    print ('m is greater')\n",
    "else:\n",
    "    print('x is greater')"
   ]
  },
  {
   "cell_type": "code",
   "execution_count": 6,
   "metadata": {},
   "outputs": [
    {
     "name": "stdout",
     "output_type": "stream",
     "text": [
      "enter the value of x 5\n",
      "enter the value of y8\n",
      "the condition is satisfied\n"
     ]
    }
   ],
   "source": [
    "\n",
    "m=int(input('enter the value of x '))\n",
    "n=int(input('enter the value of y'))\n",
    "if m<10 & n>5:\n",
    "    print('the condition is satisfied')\n",
    "else:\n",
    "    print('condition is not satisfied')"
   ]
  },
  {
   "cell_type": "code",
   "execution_count": 12,
   "metadata": {},
   "outputs": [
    {
     "name": "stdout",
     "output_type": "stream",
     "text": [
      "enter the value of y5466\n",
      "n is =  45\n"
     ]
    }
   ],
   "source": [
    "\n",
    "x=int(input('enter the value of y'))\n",
    "if x>10 & n<15:\n",
    "    print('n is = ',n)\n",
    "else:\n",
    "    print('condition not satisfied')\n",
    "    "
   ]
  },
  {
   "cell_type": "code",
   "execution_count": 13,
   "metadata": {},
   "outputs": [
    {
     "name": "stdout",
     "output_type": "stream",
     "text": [
      "enter the value of y4\n"
     ]
    }
   ],
   "source": [
    "\n",
    "x=int(input('enter the value of y'))\n",
    "if x<10 & n>15:\n",
    "    print('n is = ',n)"
   ]
  },
  {
   "cell_type": "code",
   "execution_count": 19,
   "metadata": {},
   "outputs": [
    {
     "name": "stdout",
     "output_type": "stream",
     "text": [
      "enter the value of x 5\n",
      "4\n"
     ]
    }
   ],
   "source": [
    "m=int(input('enter the value of x '))\n",
    "if x<0:\n",
    "    y=-1*x\n",
    "    print('the absolute ', y)\n",
    "else:\n",
    "    print(x)\n",
    "    "
   ]
  },
  {
   "cell_type": "code",
   "execution_count": 33,
   "metadata": {},
   "outputs": [
    {
     "name": "stdout",
     "output_type": "stream",
     "text": [
      "enter the value of x 5\n",
      "enter the value of y 7\n",
      "enter the value of z 2\n",
      "y is the greatest  7\n"
     ]
    }
   ],
   "source": [
    "x=int(input('enter the value of x '))# when writing any comparison we have to consider all possible outcomes\n",
    "y=int(input('enter the value of y '))\n",
    "z=int(input('enter the value of z '))\n",
    "if x>y & y>z:\n",
    "    print('x is the greatest ', x)\n",
    "elif y>x & x>z:\n",
    "     print('y is the greatest ', y)\n",
    "else:\n",
    "     print('z is the greatest ', z)"
   ]
  },
  {
   "cell_type": "code",
   "execution_count": 6,
   "metadata": {},
   "outputs": [
    {
     "name": "stdout",
     "output_type": "stream",
     "text": [
      "enter the value of x 6\n",
      "enter the value of y 7\n",
      "enter the value of z 7\n",
      "z and x are the greatest  7\n"
     ]
    }
   ],
   "source": [
    "x=int(input('enter the value of x '))\n",
    "y=int(input('enter the value of y '))\n",
    "z=int(input('enter the value of z '))\n",
    "if x==y==z:\n",
    "    print('x=y=z=', x)\n",
    "elif x>y & y>z:\n",
    "    print('x is the greatest ', x)\n",
    "elif x==y & y>z:\n",
    "    print('x and y are the greatest ', x)\n",
    "elif x>y & x==z:\n",
    "     print('z and x are the greatest ', z)\n",
    "elif y>x & x>z:\n",
    "    print('y is the greatest ', y)\n",
    "elif y>x & y==z:\n",
    "     print('y and z are the greatest ', y)\n",
    "elif y>x & x>z:\n",
    "     print('y is the greatest ', y)\n",
    "elif z>x & x==y: \n",
    "     print('z is the greates', z)\n",
    "elif z>x & x>y:\n",
    "    print('z is the greatest ', z)\n",
    "else :\n",
    "    print('z and x are the greatest ', z)\n",
    "    "
   ]
  },
  {
   "cell_type": "code",
   "execution_count": 12,
   "metadata": {},
   "outputs": [
    {
     "name": "stdout",
     "output_type": "stream",
     "text": [
      "enter the value of x 89\n",
      "enter the value of y 5\n",
      "enter the value of z 89\n",
      "89\n"
     ]
    }
   ],
   "source": [
    "x=int(input('enter the value of x '))\n",
    "y=int(input('enter the value of y '))\n",
    "z=int(input('enter the value of z '))\n",
    "if x==y==z:\n",
    "    print('x=y=z=', x)\n",
    "elif x>y & y>z:\n",
    "    print(x)\n",
    "elif x==y & y>z:\n",
    "    print(x)\n",
    "elif x>y & x==z:\n",
    "     print(z)\n",
    "elif y>x & x>z:\n",
    "    print(y)\n",
    "elif y>x & y==z:\n",
    "     print(y)\n",
    "elif y>x & x>z:\n",
    "     print(y)\n",
    "elif z>x & x==y: \n",
    "     print(z)\n",
    "elif z>x & x>y:\n",
    "    print(z)\n",
    "else :\n",
    "    print(z)\n",
    "    "
   ]
  },
  {
   "cell_type": "code",
   "execution_count": null,
   "metadata": {},
   "outputs": [],
   "source": [
    "x=int(input('enter the value of x '))# a more simpler way of expressing the result of the question above\n",
    "y=int(input('enter the value of y '))# when doing any comparison, you have to look at all possible results from the given qsn\n",
    "z=int(input('enter the value of z '))\n",
    "if x==y==z:\n",
    "    print('x=y=z=', x)\n",
    "elif x>=z & x>=y:0                                                                                                                                                                                                                                                                                                                                                                                                                                                             \n",
    "    print(x)\n",
    "elif y>=x & y>=z:\n",
    "    print(y)\n",
    "else:\n",
    "    print(z)"
   ]
  },
  {
   "cell_type": "code",
   "execution_count": 2,
   "metadata": {},
   "outputs": [
    {
     "name": "stdout",
     "output_type": "stream",
     "text": [
      "55\n"
     ]
    }
   ],
   "source": [
    "sum=0\n",
    "for i in range(11):\n",
    "    sum=sum+i\n",
    "print(sum)"
   ]
  },
  {
   "cell_type": "code",
   "execution_count": 17,
   "metadata": {},
   "outputs": [
    {
     "name": "stdout",
     "output_type": "stream",
     "text": [
      "55\n"
     ]
    }
   ],
   "source": [
    "sum=0\n",
    "i=0\n",
    "while i<=10:\n",
    "    sum=sum+i\n",
    "    i=i+1\n",
    "print(sum)   \n",
    "    "
   ]
  },
  {
   "cell_type": "code",
   "execution_count": null,
   "metadata": {},
   "outputs": [],
   "source": []
  },
  {
   "cell_type": "code",
   "execution_count": null,
   "metadata": {},
   "outputs": [],
   "source": []
  }
 ],
 "metadata": {
  "kernelspec": {
   "display_name": "Python 3",
   "language": "python",
   "name": "python3"
  },
  "language_info": {
   "codemirror_mode": {
    "name": "ipython",
    "version": 3
   },
   "file_extension": ".py",
   "mimetype": "text/x-python",
   "name": "python",
   "nbconvert_exporter": "python",
   "pygments_lexer": "ipython3",
   "version": "3.7.3"
  }
 },
 "nbformat": 4,
 "nbformat_minor": 2
}
