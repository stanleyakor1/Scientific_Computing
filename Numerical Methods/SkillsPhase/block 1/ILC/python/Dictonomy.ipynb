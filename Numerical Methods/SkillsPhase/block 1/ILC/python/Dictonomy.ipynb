{
 "cells": [
  {
   "cell_type": "code",
   "execution_count": 1,
   "metadata": {},
   "outputs": [
    {
     "ename": "UnboundLocalError",
     "evalue": "local variable 'a_n' referenced before assignment",
     "output_type": "error",
     "traceback": [
      "\u001b[0;31m---------------------------------------------------------------------------\u001b[0m",
      "\u001b[0;31mUnboundLocalError\u001b[0m                         Traceback (most recent call last)",
      "\u001b[0;32m<ipython-input-1-88854a51842f>\u001b[0m in \u001b[0;36m<module>\u001b[0;34m()\u001b[0m\n\u001b[1;32m     32\u001b[0m \u001b[0mb\u001b[0m\u001b[0;34m=\u001b[0m\u001b[0;36m2\u001b[0m\u001b[0;34m\u001b[0m\u001b[0;34m\u001b[0m\u001b[0m\n\u001b[1;32m     33\u001b[0m \u001b[0;34m\u001b[0m\u001b[0m\n\u001b[0;32m---> 34\u001b[0;31m \u001b[0mx\u001b[0m\u001b[0;34m=\u001b[0m \u001b[0mbisection\u001b[0m\u001b[0;34m(\u001b[0m\u001b[0mf\u001b[0m\u001b[0;34m,\u001b[0m\u001b[0ma\u001b[0m\u001b[0;34m,\u001b[0m\u001b[0mb\u001b[0m\u001b[0;34m,\u001b[0m\u001b[0;36m25\u001b[0m\u001b[0;34m)\u001b[0m\u001b[0;34m\u001b[0m\u001b[0;34m\u001b[0m\u001b[0m\n\u001b[0m\u001b[1;32m     35\u001b[0m \u001b[0mprint\u001b[0m\u001b[0;34m(\u001b[0m\u001b[0mformat\u001b[0m\u001b[0;34m(\u001b[0m\u001b[0mx\u001b[0m\u001b[0;34m)\u001b[0m\u001b[0;34m)\u001b[0m\u001b[0;34m\u001b[0m\u001b[0;34m\u001b[0m\u001b[0m\n",
      "\u001b[0;32m<ipython-input-1-88854a51842f>\u001b[0m in \u001b[0;36mbisection\u001b[0;34m(f, a, b, N)\u001b[0m\n\u001b[1;32m     10\u001b[0m         \u001b[0mb_n\u001b[0m\u001b[0;34m=\u001b[0m\u001b[0mb\u001b[0m\u001b[0;34m\u001b[0m\u001b[0;34m\u001b[0m\u001b[0m\n\u001b[1;32m     11\u001b[0m     \u001b[0;32mfor\u001b[0m \u001b[0mn\u001b[0m \u001b[0;32min\u001b[0m \u001b[0mrange\u001b[0m \u001b[0;34m(\u001b[0m\u001b[0;36m1\u001b[0m\u001b[0;34m,\u001b[0m\u001b[0mN\u001b[0m\u001b[0;34m+\u001b[0m\u001b[0;36m1\u001b[0m\u001b[0;34m)\u001b[0m\u001b[0;34m:\u001b[0m\u001b[0;34m\u001b[0m\u001b[0;34m\u001b[0m\u001b[0m\n\u001b[0;32m---> 12\u001b[0;31m         \u001b[0mm_n\u001b[0m\u001b[0;34m=\u001b[0m\u001b[0;34m(\u001b[0m\u001b[0ma_n\u001b[0m\u001b[0;34m+\u001b[0m\u001b[0mb_n\u001b[0m\u001b[0;34m)\u001b[0m\u001b[0;34m/\u001b[0m\u001b[0;36m2\u001b[0m\u001b[0;34m\u001b[0m\u001b[0;34m\u001b[0m\u001b[0m\n\u001b[0m\u001b[1;32m     13\u001b[0m         \u001b[0mf_m_n\u001b[0m\u001b[0;34m=\u001b[0m\u001b[0mf\u001b[0m\u001b[0;34m(\u001b[0m\u001b[0mm_n\u001b[0m\u001b[0;34m)\u001b[0m\u001b[0;34m\u001b[0m\u001b[0;34m\u001b[0m\u001b[0m\n\u001b[1;32m     14\u001b[0m \u001b[0;34m\u001b[0m\u001b[0m\n",
      "\u001b[0;31mUnboundLocalError\u001b[0m: local variable 'a_n' referenced before assignment"
     ]
    }
   ],
   "source": [
    "def f(x):\n",
    "    return x**3+x+1\n",
    "\n",
    "\n",
    "def bisection(f,a,b,N):\n",
    "    if f(a)*f(b)>=0:\n",
    "        print('bisection method fails')\n",
    "        return None\n",
    "        a_n=a\n",
    "        b_n=b\n",
    "    for n in range (1,N+1):\n",
    "        m_n=(a_n+b_n)/2\n",
    "        f_m_n=f(m_n)\n",
    "        \n",
    "        if f(a_n)*f_m_n<0:\n",
    "            a_n=a_n\n",
    "            b_n=m_n\n",
    "            \n",
    "        elif f(b_n)*f_m_n<0:\n",
    "                a_n=a_n\n",
    "                b_n=m_n\n",
    "            \n",
    "        elif f_m_n==0:\n",
    "                print('found exact solution')\n",
    "                return m_n\n",
    "        else:\n",
    "            print('bisection solution fails')\n",
    "            return None\n",
    "        \n",
    "    return (a_n+b_n)/2\n",
    "a=-2\n",
    "b=2\n",
    "\n",
    "x= bisection(f,a,b,25)\n",
    "print(format(x))        "
   ]
  },
  {
   "cell_type": "code",
   "execution_count": 2,
   "metadata": {},
   "outputs": [
    {
     "name": "stdout",
     "output_type": "stream",
     "text": [
      "1.9999961853027344\n"
     ]
    }
   ],
   "source": [
    "\n",
    "\n",
    "def g(x):\n",
    "    return x**3 -3*x-5\n",
    "\n",
    "def bisect(f,a,b):\n",
    "    tol=1e-5\n",
    "    while(True):\n",
    "        \n",
    "        c=(a+b)/2\n",
    "        if (f(a)*f(c)<0):\n",
    "            b=c\n",
    "        else:\n",
    "            a=c\n",
    "        if abs(b-a)<tol:\n",
    "            return (a+b)/2\n",
    "\n",
    "xroot= bisect(g,-2,2)\n",
    "print(format(xroot))"
   ]
  },
  {
   "cell_type": "code",
   "execution_count": null,
   "metadata": {},
   "outputs": [],
   "source": [
    "def g(x):\n",
    "    return x**3+1+3\n",
    "\n",
    "def bisect(f,a,b):\n",
    "    tol=1e-10"
   ]
  },
  {
   "cell_type": "code",
   "execution_count": null,
   "metadata": {},
   "outputs": [],
   "source": [
    "x=3*x**2+5/(3*x**2-3)\n",
    "a=-10\n",
    "b=10\n",
    "c=(a+b)/2\n"
   ]
  }
 ],
 "metadata": {
  "kernelspec": {
   "display_name": "Python 3",
   "language": "python",
   "name": "python3"
  },
  "language_info": {
   "codemirror_mode": {
    "name": "ipython",
    "version": 3
   },
   "file_extension": ".py",
   "mimetype": "text/x-python",
   "name": "python",
   "nbconvert_exporter": "python",
   "pygments_lexer": "ipython3",
   "version": "3.7.3"
  }
 },
 "nbformat": 4,
 "nbformat_minor": 2
}
