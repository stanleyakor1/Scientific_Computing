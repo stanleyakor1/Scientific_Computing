{
 "cells": [
  {
   "cell_type": "code",
   "execution_count": 3,
   "metadata": {},
   "outputs": [
    {
     "name": "stdout",
     "output_type": "stream",
     "text": [
      "enter the time3994648\n",
      "3994648 seconds = 6 weeks 4 day 5 hour 37 minute 28 seconds\n"
     ]
    }
   ],
   "source": [
    "time=int(input('enter the time')) #Question1\n",
    "week=time//604800\n",
    "day=(time-week*604800)//86400\n",
    "hour=(time-week*604800-day*86400)//3600\n",
    "minutes=(time-week*604800-day*86400-hour*3600)//60\n",
    "seconds=(time-week*604800-day*86400-hour*3600-minutes*60)\n",
    "print(time,'seconds =',week,'weeks',day,'day',hour,'hour',minutes,'minute',seconds,'seconds')"
   ]
  },
  {
   "cell_type": "code",
   "execution_count": 7,
   "metadata": {},
   "outputs": [
    {
     "name": "stdout",
     "output_type": "stream",
     "text": [
      "enter the value of a0\n",
      "enter the value of s0\n",
      "a is not divisible by s\n"
     ]
    }
   ],
   "source": [
    "a=float(input('enter the value of a'))  #Question2\n",
    "s=float(input('enter the value of s'))\n",
    "if s!=0:\n",
    "    quotient=a/s\n",
    "    print(quotient)\n",
    "else:\n",
    "    print('a is not divisible by s')"
   ]
  },
  {
   "cell_type": "code",
   "execution_count": 10,
   "metadata": {},
   "outputs": [
    {
     "name": "stdout",
     "output_type": "stream",
     "text": [
      "enter any number1\n",
      "enter a real number3\n",
      "243.0000000000\n"
     ]
    }
   ],
   "source": [
    "x=eval(input('enter any number'))\n",
    "while x<0 or x>2:\n",
    "    x=int(input('enter any number'))\n",
    "if x==1:\n",
    "    y=float(input('enter a real number'))\n",
    "    z=y**5\n",
    "    print('%0.10f'%(z))\n",
    "elif x==2:\n",
    "    \n",
    "    n=int(input('enter an integer'))\n",
    "    if n%2==0:\n",
    "        print('even')\n",
    "    else:\n",
    "        print('odd')\n",
    "elif x==0:\n",
    "    print('I hate zero')"
   ]
  },
  {
   "cell_type": "code",
   "execution_count": null,
   "metadata": {},
   "outputs": [],
   "source": [
    "x=int(input('enter any number'))\n",
    "if x==1:\n",
    "    y=int(input('enter a real number'))\n",
    "    z=y**5\n",
    "    print('%1e'%(z))\n",
    "elif x==2:\n",
    "    \n",
    "    n=int(input('enter an integer'))\n",
    "    if n%2==0:\n",
    "        print('even')\n",
    "    else:\n",
    "        print('odd')\n",
    "elif x==0:\n",
    "    print('I hate zero')\n",
    "else:\n",
    "    x=int(input('enter any number'))\n",
    "    "
   ]
  },
  {
   "cell_type": "code",
   "execution_count": 27,
   "metadata": {},
   "outputs": [
    {
     "name": "stdout",
     "output_type": "stream",
     "text": [
      "enter number a5\n",
      "enter b3\n",
      "enter c4\n",
      "They do not form part of a right angled triangle\n"
     ]
    }
   ],
   "source": [
    "a=int(input('enter number a'))\n",
    "b=int(input('enter b'))\n",
    "c=int(input('enter c'))\n",
    "if c*c==b*b+a*a:\n",
    "    print(' they form parts of a right angled triangle')\n",
    "else:\n",
    "    print('They do not form part of a right angled triangle')"
   ]
  },
  {
   "cell_type": "code",
   "execution_count": 12,
   "metadata": {},
   "outputs": [
    {
     "name": "stdout",
     "output_type": "stream",
     "text": [
      "enter number a4\n",
      "enter b3\n",
      "enter c5\n",
      " they form parts of a right angled triangle\n"
     ]
    }
   ],
   "source": [
    "a=int(input('enter number a'))\n",
    "b=int(input('enter b'))\n",
    "c=int(input('enter c'))\n",
    "if a<c>b:\n",
    "    if c*c==b*b+a*a:\n",
    "        print(' they form parts of a right angled triangle')\n",
    "    else:\n",
    "        print('They do not form part of a right angled triangle')\n",
    "elif c<a>b:\n",
    "    if a*a==b*b+c*c:\n",
    "        print(' they form parts of a right angled triangle')\n",
    "    else:\n",
    "        print('They do not form part of a right angled triangle')\n",
    "elif a<b>c:\n",
    "    if b*b==c*c+a*a:\n",
    "        print(' they form parts of a right angled triangle')\n",
    "    else:\n",
    "        print('They do not form part of a right angled triangle')\n",
    "else:\n",
    "    print('They do not form part of a right angled triangle')"
   ]
  },
  {
   "cell_type": "code",
   "execution_count": 36,
   "metadata": {},
   "outputs": [
    {
     "name": "stdout",
     "output_type": "stream",
     "text": [
      "enter a string: thejdsjsdl\n",
      "lssj\n"
     ]
    }
   ],
   "source": [
    "x=input('enter a string: ')\n",
    "if len(x)>2:\n",
    "    y=x[:2:-2]\n",
    "    print(y)\n",
    "else:\n",
    "    print(x)"
   ]
  },
  {
   "cell_type": "code",
   "execution_count": 13,
   "metadata": {},
   "outputs": [
    {
     "name": "stdout",
     "output_type": "stream",
     "text": [
      "enter a string: rutryu\n",
      "ruyu\n"
     ]
    }
   ],
   "source": [
    "x=input('enter a string: ')\n",
    "if len(x)>2:\n",
    "    y=x[0:2]+ x[-2:] \n",
    "    \n",
    "    print(y)\n",
    "else:\n",
    "    print(x)"
   ]
  },
  {
   "cell_type": "code",
   "execution_count": null,
   "metadata": {},
   "outputs": [],
   "source": [
    "x=input('enter a string')\n",
    "if len(x)>=3:\n",
    "    x.extend(ing)\n",
    "    print(x)\n",
    "else:\n",
    "    \n",
    "    "
   ]
  },
  {
   "cell_type": "code",
   "execution_count": 60,
   "metadata": {},
   "outputs": [
    {
     "name": "stdout",
     "output_type": "stream",
     "text": [
      "enter a number: 2\n",
      "2 + 22 + 222 = 246\n"
     ]
    }
   ],
   "source": [
    "k=input('enter a number: ')\n",
    "kk = k+k\n",
    "kkk = kk+k\n",
    "t=int(k)+int(kk)+int(kkk)\n",
    "print(k,'+',kk,'+',kkk,'=', t)"
   ]
  },
  {
   "cell_type": "code",
   "execution_count": 66,
   "metadata": {},
   "outputs": [
    {
     "name": "stdout",
     "output_type": "stream",
     "text": [
      "enter a positive integer5\n",
      "enter the number10\n",
      "5 5\n",
      "55 60\n",
      "555 615\n",
      "5555 6170\n",
      "55555 61725\n",
      "555555 617280\n",
      "5555555 6172835\n",
      "55555555 61728390\n",
      "555555555 617283945\n",
      "5555555555 6172839500\n"
     ]
    }
   ],
   "source": [
    "k=input('enter a positive integer k: ')\n",
    "n=int(input('enter the number'))\n",
    "w=0\n",
    "for i in range (1,n+1):\n",
    "    y =k*i\n",
    "    a = int(y)\n",
    "    w =w+a\n",
    "    print(y,w)"
   ]
  },
  {
   "cell_type": "code",
   "execution_count": 70,
   "metadata": {},
   "outputs": [
    {
     "name": "stdout",
     "output_type": "stream",
     "text": [
      "enter the year: 2036\n",
      "2036 is a leap year\n"
     ]
    }
   ],
   "source": [
    "year=int(input('enter a four digit year: '))\n",
    "if year%4==0:\n",
    "    print(year, 'is a leap year')\n",
    "else:\n",
    "    print(year,'is not a leap year')"
   ]
  },
  {
   "cell_type": "code",
   "execution_count": 10,
   "metadata": {},
   "outputs": [
    {
     "name": "stdout",
     "output_type": "stream",
     "text": [
      "enter the number23324324\n",
      "23\n"
     ]
    }
   ],
   "source": [
    "x=input('enter the number')\n",
    "n=33\n",
    "for i in range(2,33,2):\n",
    "    y=x[0:2]\n",
    "print(y)"
   ]
  },
  {
   "cell_type": "code",
   "execution_count": 16,
   "metadata": {},
   "outputs": [
    {
     "name": "stdout",
     "output_type": "stream",
     "text": [
      "enter the number0.5468\n",
      "5\n"
     ]
    }
   ],
   "source": [
    "x=eval(input('enter the number'))\n",
    "y=int((x*10)%10)\n",
    "print(y)"
   ]
  },
  {
   "cell_type": "code",
   "execution_count": 22,
   "metadata": {},
   "outputs": [
    {
     "name": "stdout",
     "output_type": "stream",
     "text": [
      "enter the number0.23565\n"
     ]
    },
    {
     "ename": "TypeError",
     "evalue": "can only concatenate str (not \"int\") to str",
     "output_type": "error",
     "traceback": [
      "\u001b[0;31m---------------------------------------------------------------------------\u001b[0m",
      "\u001b[0;31mTypeError\u001b[0m                                 Traceback (most recent call last)",
      "\u001b[0;32m<ipython-input-22-f64cb8acc574>\u001b[0m in \u001b[0;36m<module>\u001b[0;34m()\u001b[0m\n\u001b[1;32m      5\u001b[0m \u001b[0mi\u001b[0m\u001b[0;34m=\u001b[0m\u001b[0;36m2\u001b[0m\u001b[0;34m**\u001b[0m\u001b[0mn\u001b[0m\u001b[0;34m\u001b[0m\u001b[0;34m\u001b[0m\u001b[0m\n\u001b[1;32m      6\u001b[0m \u001b[0;32mwhile\u001b[0m \u001b[0mn\u001b[0m\u001b[0;34m>\u001b[0m\u001b[0;36m1\u001b[0m\u001b[0;34m:\u001b[0m\u001b[0;34m\u001b[0m\u001b[0;34m\u001b[0m\u001b[0m\n\u001b[0;32m----> 7\u001b[0;31m     \u001b[0msum\u001b[0m\u001b[0;34m=\u001b[0m\u001b[0mstr\u001b[0m\u001b[0;34m(\u001b[0m\u001b[0mx_string\u001b[0m\u001b[0;34m)\u001b[0m\u001b[0;34m[\u001b[0m\u001b[0mi\u001b[0m\u001b[0;34m:\u001b[0m\u001b[0;34m]\u001b[0m\u001b[0;34m+\u001b[0m\u001b[0msum\u001b[0m\u001b[0;34m\u001b[0m\u001b[0;34m\u001b[0m\u001b[0m\n\u001b[0m\u001b[1;32m      8\u001b[0m     \u001b[0mi\u001b[0m\u001b[0;34m=\u001b[0m\u001b[0mi\u001b[0m\u001b[0;34m+\u001b[0m\u001b[0;36m2\u001b[0m\u001b[0;34m**\u001b[0m\u001b[0mn\u001b[0m\u001b[0;34m\u001b[0m\u001b[0;34m\u001b[0m\u001b[0m\n\u001b[1;32m      9\u001b[0m     \u001b[0mprint\u001b[0m\u001b[0;34m(\u001b[0m\u001b[0msum\u001b[0m\u001b[0;34m)\u001b[0m\u001b[0;34m\u001b[0m\u001b[0;34m\u001b[0m\u001b[0m\n",
      "\u001b[0;31mTypeError\u001b[0m: can only concatenate str (not \"int\") to str"
     ]
    }
   ],
   "source": [
    "x=eval(input('enter the number'))\n",
    "x_string=str(x-int(x))[2:]\n",
    "n=2\n",
    "sum=0\n",
    "i=2**n\n",
    "while n>1:\n",
    "    sum=str(x_string)[i:]+sum\n",
    "    i=i+2**n\n",
    "    print(sum)"
   ]
  },
  {
   "cell_type": "code",
   "execution_count": 28,
   "metadata": {},
   "outputs": [
    {
     "name": "stdout",
     "output_type": "stream",
     "text": [
      "enter the number0.226878\n",
      "0\n",
      "0\n",
      "0\n",
      "6\n"
     ]
    }
   ],
   "source": [
    "x=eval(input('enter the number'))\n",
    "x_string=str(x-int(x))[2:]\n",
    "n=1\n",
    "sum=0\n",
    "for i in range(2,len(x_string)+1,2**n):\n",
    "    y=int(x_string)+n\n",
    "    print(sum)\n",
    "print(len(x_string))"
   ]
  },
  {
   "cell_type": "code",
   "execution_count": 52,
   "metadata": {},
   "outputs": [
    {
     "name": "stdout",
     "output_type": "stream",
     "text": [
      "enter the number0.54872464654687528\n",
      "1\n",
      "3\n",
      "5\n",
      "7\n",
      "9\n",
      "11\n",
      "13\n",
      "15\n",
      "17\n"
     ]
    }
   ],
   "source": [
    "x=eval(input('enter the number'))\n",
    "x_string=str(x-int(x))[2:]\n",
    "n=1\n",
    "y_string=str(x_string)\n",
    "sum=0\n",
    "for i in range(1,len(y_string)+2,2**n):\n",
    "    print(i)"
   ]
  },
  {
   "cell_type": "code",
   "execution_count": 49,
   "metadata": {},
   "outputs": [
    {
     "name": "stdout",
     "output_type": "stream",
     "text": [
      "enter the number0.46797241313796796536466\n",
      "16\n"
     ]
    }
   ],
   "source": [
    "x=eval(input('enter the number'))\n",
    "x_string=str(x-int(x))[2:]\n",
    "n=1\n",
    "y_string=int(x_string)\n",
    "z=x_string[1:2]\n",
    "w=x_string[3:4]\n",
    "p=x_string[7:8]\n",
    "q=x_string[15:16]\n",
    "r=x_string[31:32]\n",
    "s=x_string[63:64]\n",
    "a=int(z)+int(w)+int(p)\n",
    "print(a)"
   ]
  },
  {
   "cell_type": "code",
   "execution_count": null,
   "metadata": {},
   "outputs": [],
   "source": []
  },
  {
   "cell_type": "code",
   "execution_count": null,
   "metadata": {},
   "outputs": [],
   "source": []
  },
  {
   "cell_type": "code",
   "execution_count": 52,
   "metadata": {},
   "outputs": [
    {
     "name": "stdout",
     "output_type": "stream",
     "text": [
      "enter the number0.1465465465\n"
     ]
    }
   ],
   "source": [
    " x=eval(input('enter the number'))\n",
    "x_string=str(x-int(x))[2:]\n",
    "i=2\n",
    "res=[]\n",
    "for i in x_string.split():\n",
    "    if len(x_string)%2*i:\n",
    "        res.append(i)\n",
    "        print(res)"
   ]
  },
  {
   "cell_type": "code",
   "execution_count": 3,
   "metadata": {},
   "outputs": [
    {
     "name": "stdout",
     "output_type": "stream",
     "text": [
      "enter the value of n1\n"
     ]
    }
   ],
   "source": [
    "n=int(input('enter the value of n'))\n",
    "U0=1\n",
    "U1=2\n",
    "U2=3\n",
    "if n==0:\n",
    "        Un=U2+(-3*U1)+U0\n",
    "        print(Un)\n",
    "else:\n",
    "    for i in range(1,n):\n",
    "        Un=U2-3*U1+U0\n",
    "        U2=Un\n",
    "        U1=U2\n",
    "        U0=U1\n",
    "        print(Un)"
   ]
  },
  {
   "cell_type": "code",
   "execution_count": 17,
   "metadata": {},
   "outputs": [
    {
     "name": "stdout",
     "output_type": "stream",
     "text": [
      "enter the string: ing\n",
      "ingly\n"
     ]
    }
   ],
   "source": [
    "string=input('enter the string: ')  #question 6\n",
    "if len(string)>=3:\n",
    "    if string[-3:]=='ing':\n",
    "        print(string+'ly')\n",
    "    else:\n",
    "        print(string+'ing')\n",
    "else:\n",
    "    print(string)\n",
    "    \n"
   ]
  },
  {
   "cell_type": "code",
   "execution_count": null,
   "metadata": {},
   "outputs": [],
   "source": []
  },
  {
   "cell_type": "code",
   "execution_count": null,
   "metadata": {},
   "outputs": [],
   "source": [
    "a=float(input('enter the value of a: '))\n",
    "b=float(input('enter the value of b: '))\n",
    "if (a**3-3*a-4)*(b**3-3*b-4)>=0:\n",
    "    print('dicotomy method fails')\n",
    "else:\n",
    "    w=1e-5\n",
    "    while abs(b-a)>w:\n",
    "        c=(b+a)/2\n",
    "        if (c**3-3*c-4)==0:\n",
    "            print(c)\n",
    "        \n",
    "        elif (c**3-3*c-4)*(a**3-3*a-4)<0:\n",
    "            c=b\n",
    "            d=(a+b)/2\n",
    "            print(d)\n",
    "                \n",
    "        else:\n",
    "            c=a\n",
    "            d=(a+b)/2\n",
    "        print(d)"
   ]
  },
  {
   "cell_type": "code",
   "execution_count": 18,
   "metadata": {},
   "outputs": [
    {
     "name": "stdout",
     "output_type": "stream",
     "text": [
      "enter the value of n8\n",
      "-59\n"
     ]
    }
   ],
   "source": [
    "n=int(input('enter the value of n: '))\n",
    "U0=1\n",
    "U1=2\n",
    "U2=3\n",
    "if n==0:\n",
    "    print(U0)        \n",
    "if n==1:\n",
    "    print(U1)\n",
    "if n==2:\n",
    "    print(U2)\n",
    "else:\n",
    "    for i in range(3,n+1):\n",
    "        Un=U2-3*U1+U0\n",
    "        U0=U1\n",
    "        U1=U2\n",
    "        U2=Un\n",
    "    print(Un)"
   ]
  },
  {
   "cell_type": "code",
   "execution_count": 2,
   "metadata": {},
   "outputs": [
    {
     "data": {
      "text/plain": [
       "{'gold': (50, 500),\n",
       " 'pouch': ['flint', 'twine', 'gemstone'],\n",
       " 'backpack': ['bedroll', 'bread loaf', 'xylophone'],\n",
       " 'pocket': ['seashell', 'strange berry', 'lint']}"
      ]
     },
     "execution_count": 2,
     "metadata": {},
     "output_type": "execute_result"
    }
   ],
   "source": [
    "inventory = {'gold':500,'pouch':['flint','twine','gemstone'],'backpack':['xylophone','dagger','bedroll','bread loaf']}\n",
    "inventory['pocket']=''\n",
    "inventory['pocket']=['seashell','strange berry','lint']\n",
    "inventory['backpack'].sort()\n",
    "inventory['backpack'].remove('dagger')\n",
    "inventory['gold']=50,500\n",
    "inventory"
   ]
  },
  {
   "cell_type": "code",
   "execution_count": null,
   "metadata": {},
   "outputs": [],
   "source": []
  }
 ],
 "metadata": {
  "kernelspec": {
   "display_name": "Python 3",
   "language": "python",
   "name": "python3"
  },
  "language_info": {
   "codemirror_mode": {
    "name": "ipython",
    "version": 3
   },
   "file_extension": ".py",
   "mimetype": "text/x-python",
   "name": "python",
   "nbconvert_exporter": "python",
   "pygments_lexer": "ipython3",
   "version": "3.7.3"
  }
 },
 "nbformat": 4,
 "nbformat_minor": 2
}
