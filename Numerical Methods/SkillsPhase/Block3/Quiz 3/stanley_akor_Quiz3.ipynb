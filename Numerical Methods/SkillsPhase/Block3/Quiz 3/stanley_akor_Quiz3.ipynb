{
 "cells": [
  {
   "cell_type": "code",
   "execution_count": 5,
   "metadata": {},
   "outputs": [
    {
     "data": {
      "application/javascript": [
       "MathJax.Hub.Config({\n",
       "    TeX: { equationNumbers: { autoNumber: \"AMS\" } }\n",
       "});\n"
      ],
      "text/plain": [
       "<IPython.core.display.Javascript object>"
      ]
     },
     "metadata": {},
     "output_type": "display_data"
    }
   ],
   "source": [
    "%%javascript\n",
    "MathJax.Hub.Config({\n",
    "    TeX: { equationNumbers: { autoNumber: \"AMS\" } }\n",
    "});"
   ]
  },
  {
   "cell_type": "markdown",
   "metadata": {},
   "source": [
    "# $$\\text{Exercise 1}$$\n",
    "1. Let us consider the array $M$ defined below"
   ]
  },
  {
   "cell_type": "code",
   "execution_count": 29,
   "metadata": {
    "scrolled": true
   },
   "outputs": [
    {
     "data": {
      "text/plain": [
       "array([[ 80842, 333008, 202553, 140037,  81969,  63857,  42105, 261540],\n",
       "       [481981, 176739, 489984, 326386, 110795, 394863,  25024,  38317],\n",
       "       [ 49982, 408830, 485118,  16119, 407675, 231729, 265455, 109413],\n",
       "       [103399, 174677, 343356, 301717, 224120, 401101, 140473, 254634],\n",
       "       [112262,  25063, 108262, 375059, 406983, 208947, 115641, 296685],\n",
       "       [444899, 129585, 171318, 313094, 425041, 188411, 335140, 141681],\n",
       "       [ 59641, 211420, 287650,   8973, 477425, 382803, 465168,   3975],\n",
       "       [ 32213, 160603, 275485, 388234, 246225,  56174, 244097,   9350],\n",
       "       [496966, 225516, 273338,  73335, 283013, 212813,  38175, 282399],\n",
       "       [318413, 337639, 379802, 198049, 101115, 419547, 260219, 325793],\n",
       "       [148593, 425024, 348570, 117968, 107007,  52547, 180346, 178760],\n",
       "       [305186, 262153,  11835, 449971, 494184, 472031, 353049, 476442],\n",
       "       [ 35455, 191553, 384154,  29917, 187599,  68912, 428968,  69638],\n",
       "       [ 20140, 220691, 163112,  47862, 474879,  15713, 279173, 161443],\n",
       "       [ 76851, 450401, 193338, 189948, 211826, 384657,  17636, 189954],\n",
       "       [182580, 403458,  63004,  87202,  17143, 308769, 316192, 408259],\n",
       "       [379223, 322891, 302814, 309594,  13650,  68095, 327748,  27138],\n",
       "       [ 33346, 202960, 221234,  61986,  96524, 230606, 266487, 299766],\n",
       "       [ 46264,  33510, 434647,  26750, 412754, 346058, 263454, 270444],\n",
       "       [182770, 486269, 402948, 105055, 463911, 378799, 329053,  16793],\n",
       "       [379586, 293162, 121602, 144605, 105553,  71148,  40126, 183534],\n",
       "       [493338,   5241, 498084, 189451, 219466,  12869, 482845,  16529],\n",
       "       [145955, 461866, 427009,  70841, 318111, 199631,  99330, 407887],\n",
       "       [133826, 214053, 295543, 339707, 199545, 194494, 304822, 337793],\n",
       "       [395524, 206326, 308488, 297633, 472409, 487606, 422244, 443487],\n",
       "       [464749,  75275, 299486, 248984,  76076, 197544,  75103, 394086],\n",
       "       [404365,  67309, 267556,  96483, 166099, 203867,  57120, 211249],\n",
       "       [ 86992, 286426, 130451, 419955, 109839, 332663, 101095,  50820],\n",
       "       [108699, 436141, 333670,  45890, 425798,   6967, 155851, 360687],\n",
       "       [252907, 121138,  81509, 367876, 471831, 226950, 349068, 197092]])"
      ]
     },
     "execution_count": 29,
     "metadata": {},
     "output_type": "execute_result"
    }
   ],
   "source": [
    "import numpy as np\n",
    "M = np.array([[ 80842, 333008, 202553, 140037,  81969,  63857,  42105, 261540],\n",
    "       [481981, 176739, 489984, 326386, 110795, 394863,  25024,  38317],\n",
    "       [ 49982, 408830, 485118,  16119, 407675, 231729, 265455, 109413],\n",
    "       [103399, 174677, 343356, 301717, 224120, 401101, 140473, 254634],\n",
    "       [112262,  25063, 108262, 375059, 406983, 208947, 115641, 296685],\n",
    "       [444899, 129585, 171318, 313094, 425041, 188411, 335140, 141681],\n",
    "       [ 59641, 211420, 287650,   8973, 477425, 382803, 465168,   3975],\n",
    "       [ 32213, 160603, 275485, 388234, 246225,  56174, 244097,   9350],\n",
    "       [496966, 225516, 273338,  73335, 283013, 212813,  38175, 282399],\n",
    "       [318413, 337639, 379802, 198049, 101115, 419547, 260219, 325793],\n",
    "       [148593, 425024, 348570, 117968, 107007,  52547, 180346, 178760],\n",
    "       [305186, 262153,  11835, 449971, 494184, 472031, 353049, 476442],\n",
    "       [ 35455, 191553, 384154,  29917, 187599,  68912, 428968,  69638],\n",
    "       [ 20140, 220691, 163112,  47862, 474879,  15713, 279173, 161443],\n",
    "       [ 76851, 450401, 193338, 189948, 211826, 384657,  17636, 189954],\n",
    "       [182580, 403458,  63004,  87202,  17143, 308769, 316192, 408259],\n",
    "       [379223, 322891, 302814, 309594,  13650,  68095, 327748,  27138],\n",
    "       [ 33346, 202960, 221234,  61986,  96524, 230606, 266487, 299766],\n",
    "       [ 46264,  33510, 434647,  26750, 412754, 346058, 263454, 270444],\n",
    "       [182770, 486269, 402948, 105055, 463911, 378799, 329053,  16793],\n",
    "       [379586, 293162, 121602, 144605, 105553,  71148,  40126, 183534],\n",
    "       [493338,   5241, 498084, 189451, 219466,  12869, 482845,  16529],\n",
    "       [145955, 461866, 427009,  70841, 318111, 199631,  99330, 407887],\n",
    "       [133826, 214053, 295543, 339707, 199545, 194494, 304822, 337793],\n",
    "       [395524, 206326, 308488, 297633, 472409, 487606, 422244, 443487],\n",
    "       [464749,  75275, 299486, 248984,  76076, 197544,  75103, 394086],\n",
    "       [404365,  67309, 267556,  96483, 166099, 203867,  57120, 211249],\n",
    "       [ 86992, 286426, 130451, 419955, 109839, 332663, 101095,  50820],\n",
    "       [108699, 436141, 333670,  45890, 425798,   6967, 155851, 360687],\n",
    "       [252907, 121138,  81509, 367876, 471831, 226950, 349068, 197092]])\n",
    "M\n"
   ]
  },
  {
   "cell_type": "markdown",
   "metadata": {},
   "source": [
    "1. What is the average value of the second and fourth columns?"
   ]
  },
  {
   "cell_type": "code",
   "execution_count": 101,
   "metadata": {},
   "outputs": [
    {
     "data": {
      "text/plain": [
       "218960.13333333333"
      ]
     },
     "execution_count": 101,
     "metadata": {},
     "output_type": "execute_result"
    }
   ],
   "source": [
    "B=M[:,1:4:2]\n",
    "np.average(B)"
   ]
  },
  {
   "cell_type": "code",
   "execution_count": 112,
   "metadata": {},
   "outputs": [
    {
     "data": {
      "text/plain": [
       "(30, 8)"
      ]
     },
     "execution_count": 112,
     "metadata": {},
     "output_type": "execute_result"
    }
   ],
   "source": [
    "M.shape"
   ]
  },
  {
   "cell_type": "markdown",
   "metadata": {},
   "source": [
    "2. What is the average value of the last 5 rows of the second and fourth columns?"
   ]
  },
  {
   "cell_type": "code",
   "execution_count": 103,
   "metadata": {},
   "outputs": [
    {
     "data": {
      "text/plain": [
       "230152.25"
      ]
     },
     "execution_count": 103,
     "metadata": {},
     "output_type": "execute_result"
    }
   ],
   "source": [
    "c=M[26:31,1:4:2]\n",
    "np.average(c)"
   ]
  },
  {
   "cell_type": "markdown",
   "metadata": {},
   "source": [
    "3. Update $M$ by Replacing all its even integers by 0."
   ]
  },
  {
   "cell_type": "code",
   "execution_count": 123,
   "metadata": {},
   "outputs": [
    {
     "name": "stdout",
     "output_type": "stream",
     "text": [
      "[[     0      0      0      0      0      0      0      0]\n",
      " [     0 176739      0 326386      0 394863      0  38317]\n",
      " [     0      0      0      0      0      0      0      0]\n",
      " [     0 174677      0 301717      0 401101      0 254634]\n",
      " [     0      0      0      0      0      0      0      0]\n",
      " [     0 129585      0 313094      0 188411      0 141681]\n",
      " [     0      0      0      0      0      0      0      0]\n",
      " [     0 160603      0 388234      0  56174      0   9350]\n",
      " [     0      0      0      0      0      0      0      0]\n",
      " [     0 337639      0 198049      0 419547      0 325793]\n",
      " [     0      0      0      0      0      0      0      0]\n",
      " [     0 262153      0 449971      0 472031      0 476442]\n",
      " [     0      0      0      0      0      0      0      0]\n",
      " [     0 220691      0  47862      0  15713      0 161443]\n",
      " [     0      0      0      0      0      0      0      0]\n",
      " [     0 403458      0  87202      0 308769      0 408259]\n",
      " [     0      0      0      0      0      0      0      0]\n",
      " [     0 202960      0  61986      0 230606      0 299766]\n",
      " [     0      0      0      0      0      0      0      0]\n",
      " [     0 486269      0 105055      0 378799      0  16793]\n",
      " [     0      0      0      0      0      0      0      0]\n",
      " [     0   5241      0 189451      0  12869      0  16529]\n",
      " [     0      0      0      0      0      0      0      0]\n",
      " [     0 214053      0 339707      0 194494      0 337793]\n",
      " [     0      0      0      0      0      0      0      0]\n",
      " [     0  75275      0 248984      0 197544      0 394086]\n",
      " [     0      0      0      0      0      0      0      0]\n",
      " [     0 286426      0 419955      0 332663      0  50820]\n",
      " [     0      0      0      0      0      0      0      0]\n",
      " [     0 121138      0 367876      0 226950      0 197092]]\n"
     ]
    }
   ],
   "source": [
    "for i in range(30):\n",
    "    for j in range(8):\n",
    "         if i%2==0 and j%2==0:\n",
    "            M[i,j]=0\n",
    "print(M)"
   ]
  },
  {
   "cell_type": "markdown",
   "metadata": {},
   "source": [
    "# $$\\text{Exercise 2}$$\n",
    "\n",
    "Let $\\{ x_k\\}$ be a partition of $[a,b]$ such that $a=x_0<x_1<\\cdots<x_{N-1}<x_N=b$ and $H$ be the length of the $k$-th subinterval ($H = x_k - x_{k-1}$),\n",
    "then we have \n",
    "$$\\int_a^bf(x)dx \\approx \\sum_{k=1}^N \\frac{f(x_{k-1})+f(x_k)}{2}H = A$$\n",
    "\n",
    "\n",
    "Write a function named <b>Trap</b> that takes $a,b,N, f$ as inputs and return A"
   ]
  },
  {
   "cell_type": "code",
   "execution_count": 52,
   "metadata": {},
   "outputs": [],
   "source": [
    "f=lambda x: x**2\n",
    "def Trap(a,b,H):\n",
    "    n=(a+b)/H\n",
    "    z=int(n)\n",
    "    A=0\n",
    "    y=np.linspace(a,b,z+1) \n",
    "    for i in range(1,z+1):\n",
    "        A=A+(H/2)*(f(y[i-1])+f(y[i]))\n",
    "    return A"
   ]
  },
  {
   "cell_type": "code",
   "execution_count": 53,
   "metadata": {},
   "outputs": [
    {
     "data": {
      "text/plain": [
       "2.75"
      ]
     },
     "execution_count": 53,
     "metadata": {},
     "output_type": "execute_result"
    }
   ],
   "source": [
    "Trap(0,2,0.5)"
   ]
  },
  {
   "cell_type": "markdown",
   "metadata": {},
   "source": [
    "# $$\\text{Exercise 3}$$\n",
    "\n",
    "Let us consider the function $f$ defined on the set of integer as follows \n",
    "\n",
    "\\begin{equation}\n",
    "f(n) =\n",
    "  \\begin{cases}\n",
    "    n/2       & \\quad \\text{if } n \\text{ is even}\\\\\n",
    "    -(n)/3 +1  & \\quad \\text{if } n \\text{ is odd and divisible by 3}\\\\\n",
    "    (n+1)/2 +1 & \\quad \\text{else}\n",
    "  \\end{cases}\n",
    "\\end{equation}\n",
    "\n",
    "Write a python function named <b> ComptFunc </b> that takes two intergers $a$ and $b$ , $a<b$ and return  an array $flist$ of all  $f(n), n \\in nlist$ where $nlist$ is the list of all the integers in the interval $[a,b]$."
   ]
  },
  {
   "cell_type": "code",
   "execution_count": 22,
   "metadata": {},
   "outputs": [],
   "source": [
    "import numpy as np\n",
    "n=np.linspace(-10,15,26)\n",
    "def ComptFunc(n):\n",
    "    if n%2==0:\n",
    "        return n/2\n",
    "    elif n%2==1 and n%3==0:\n",
    "        return -1*n/3+1\n",
    "    else:\n",
    "        return (n+1)/2+1\n",
    "    "
   ]
  },
  {
   "cell_type": "code",
   "execution_count": 119,
   "metadata": {},
   "outputs": [
    {
     "data": {
      "text/plain": [
       "array([-10.,  -9.,  -8.,  -7.,  -6.,  -5.,  -4.,  -3.,  -2.,  -1.,   0.,\n",
       "         1.,   2.,   3.,   4.,   5.,   6.,   7.,   8.,   9.,  10.,  11.,\n",
       "        12.,  13.,  14.,  15.])"
      ]
     },
     "execution_count": 119,
     "metadata": {},
     "output_type": "execute_result"
    }
   ],
   "source": [
    "n"
   ]
  },
  {
   "cell_type": "code",
   "execution_count": 24,
   "metadata": {},
   "outputs": [
    {
     "data": {
      "text/plain": [
       "array([-5.,  4., -4., -2., -3., -1., -2.,  2., -1.,  1.,  0.,  2.,  1.,\n",
       "        0.,  2.,  4.,  3.,  5.,  4., -2.,  5.,  7.,  6.,  8.,  7., -4.])"
      ]
     },
     "execution_count": 24,
     "metadata": {},
     "output_type": "execute_result"
    }
   ],
   "source": [
    "m=np.vectorize(ComptFunc)\n",
    "m(n)"
   ]
  },
  {
   "cell_type": "markdown",
   "metadata": {},
   "source": [
    "# $$\\text{Exercise 4}$$\n",
    "\n",
    "Write a python code to create the following numpy arrays\n",
    "$$\n",
    "A = \\begin{pmatrix}\n",
    "1 & 4 & 6 \\\\ \n",
    "0 & -3 & 2 \\\\ \n",
    "-2 & -2 & -2\t\n",
    "\\end{pmatrix}, \\quad\n",
    "B = \\begin{pmatrix}\n",
    "2 & -1 & 0 \\\\ \n",
    "2 & -1 & 0 \\\\ \n",
    "2 & -3 & 1\n",
    "\\end{pmatrix},\n",
    "$$\n",
    "and compute $A-B$, $4A + B$, $trace(A)$, $B^t$ the transpose of $B$, the determinant of $A$, $AB$ and $BA^t$"
   ]
  },
  {
   "cell_type": "code",
   "execution_count": 113,
   "metadata": {},
   "outputs": [
    {
     "name": "stdout",
     "output_type": "stream",
     "text": [
      "[[ 1  4  6]\n",
      " [ 0 -3  2]\n",
      " [-2 -2 -2]]\n",
      ";;;\n",
      "[[ 2 -1  0]\n",
      " [ 2 -1  0]\n",
      " [ 2 -3  1]]\n",
      ";;;\n",
      "[[-1  5  6]\n",
      " [-2 -2  2]\n",
      " [-4  1 -3]]\n",
      ";;;\n",
      "[[  6  15  24]\n",
      " [  2 -13   8]\n",
      " [ -6 -11  -7]]\n",
      ";;;\n",
      "-4\n",
      ";;;\n",
      "[[ 2  2  2]\n",
      " [-1 -1 -3]\n",
      " [ 0  0  1]]\n",
      ";;;\n",
      "-41.999999999999986\n",
      ";;;\n",
      "[[ 22 -23   6]\n",
      " [ -2  -3   2]\n",
      " [-12  10  -2]]\n",
      ";;;\n",
      "[[ 2  2  0]\n",
      " [11 11 15]\n",
      " [10 10  4]]\n"
     ]
    }
   ],
   "source": [
    "A=np.array([[1,4,6],[0,-3,2],[-2,-2,-2]])\n",
    "B=np.array([[2,-1,0],[2,-1,0],[2,-3,1]])\n",
    "print (A)\n",
    "print(';;;')\n",
    "print(B)\n",
    "print(';;;')\n",
    "print(A-B)\n",
    "print(';;;')\n",
    "print(4*A+B)\n",
    "print(';;;')\n",
    "print(np.trace(A))\n",
    "print(';;;')\n",
    "print(B.T)\n",
    "print(';;;')\n",
    "print(np.linalg.det(A))\n",
    "print(';;;')\n",
    "print(A@B)\n",
    "print(';;;')\n",
    "print((B@A).T)"
   ]
  },
  {
   "cell_type": "markdown",
   "metadata": {},
   "source": [
    "# $$\\text{Exercise 5}$$\n",
    "\n",
    "Let us consider the sequence $U_n$ given by \n",
    "\\begin{equation}\\label{fib}\n",
    "\\left\\lbrace \n",
    "\\begin{array}{ll}\n",
    "U_0 &= 1,\\\\\n",
    "U_1 &= 2,\\\\\n",
    "U_{n} &=-3U_{n-1} +U_{n-2}, \\;\\; \\forall\\; n=2,3,4\\cdots\n",
    "\\end{array}\\right. \n",
    "\\end{equation}\n",
    "\n",
    "Write a python function named  <b>SeqTerms</b> that takes as input an integer $n,\\;\\;n\\geq 0$ and return an array of the first $n$ terms (i.e. $U_0, \\cdots, U_{n-1}$) of the sequence \\eqref{fib}."
   ]
  },
  {
   "cell_type": "code",
   "execution_count": 114,
   "metadata": {},
   "outputs": [],
   "source": [
    "import numpy as np\n",
    "def SeqTerms(n):\n",
    "    U0=1\n",
    "    U1=2\n",
    "    A=np.array([U0,U1])\n",
    "    if n==0:\n",
    "        return np.array([])\n",
    "    if n==1:\n",
    "        return np.array([1])\n",
    "    elif n==2:\n",
    "        return np.array([U0,U1])\n",
    "    else:\n",
    "        for i in range(2,n):\n",
    "            Un=-3*U1+U0\n",
    "            U0=U1\n",
    "            U1=Un\n",
    "            A=np.append(A,np.array([Un]))\n",
    "        return A"
   ]
  },
  {
   "cell_type": "code",
   "execution_count": 115,
   "metadata": {},
   "outputs": [
    {
     "data": {
      "text/plain": [
       "array([ 1,  2, -5, 17])"
      ]
     },
     "execution_count": 115,
     "metadata": {},
     "output_type": "execute_result"
    }
   ],
   "source": [
    "SeqTerms(4)"
   ]
  },
  {
   "cell_type": "code",
   "execution_count": null,
   "metadata": {},
   "outputs": [],
   "source": []
  }
 ],
 "metadata": {
  "kernelspec": {
   "display_name": "Python 3 (ipykernel)",
   "language": "python",
   "name": "python3"
  },
  "language_info": {
   "codemirror_mode": {
    "name": "ipython",
    "version": 3
   },
   "file_extension": ".py",
   "mimetype": "text/x-python",
   "name": "python",
   "nbconvert_exporter": "python",
   "pygments_lexer": "ipython3",
   "version": "3.10.6"
  }
 },
 "nbformat": 4,
 "nbformat_minor": 4
}
