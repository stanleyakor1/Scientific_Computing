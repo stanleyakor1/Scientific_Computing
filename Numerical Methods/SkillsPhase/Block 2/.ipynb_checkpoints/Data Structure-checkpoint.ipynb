{
 "cells": [
  {
   "cell_type": "code",
   "execution_count": 3,
   "metadata": {},
   "outputs": [
    {
     "data": {
      "text/plain": [
       "0    1.0\n",
       "1    2.0\n",
       "2    3.0\n",
       "3    5.0\n",
       "4    6.0\n",
       "5    7.0\n",
       "6    8.0\n",
       "dtype: float64"
      ]
     },
     "execution_count": 3,
     "metadata": {},
     "output_type": "execute_result"
    }
   ],
   "source": [
    "import numpy as np\n",
    "import pandas as pd\n",
    "\n",
    "data0=pd.Series(data=[1,2.,3,5,6,7,8])\n",
    "data0\n"
   ]
  },
  {
   "cell_type": "code",
   "execution_count": 4,
   "metadata": {},
   "outputs": [],
   "source": [
    "data0=pd.Series(data=[1,2.,3,5,6,7,8], index=['a','b','c','d','e','f','a'])"
   ]
  },
  {
   "cell_type": "code",
   "execution_count": 8,
   "metadata": {},
   "outputs": [
    {
     "data": {
      "text/plain": [
       "True"
      ]
     },
     "execution_count": 8,
     "metadata": {},
     "output_type": "execute_result"
    }
   ],
   "source": [
    "# p=data0['a']\n",
    "# p\n",
    "\n",
    "'a' in data0"
   ]
  },
  {
   "cell_type": "code",
   "execution_count": 9,
   "metadata": {},
   "outputs": [
    {
     "data": {
      "text/plain": [
       "a    0.25\n",
       "b    0.50\n",
       "c    0.75\n",
       "d    1.25\n",
       "e    1.50\n",
       "f    1.75\n",
       "a    2.00\n",
       "dtype: float64"
      ]
     },
     "execution_count": 9,
     "metadata": {},
     "output_type": "execute_result"
    }
   ],
   "source": [
    "data0/4"
   ]
  },
  {
   "cell_type": "code",
   "execution_count": 10,
   "metadata": {},
   "outputs": [
    {
     "data": {
      "text/plain": [
       "a    1.0\n",
       "b    2.0\n",
       "c    3.0\n",
       "d    5.0\n",
       "e    6.0\n",
       "f    7.0\n",
       "a    8.0\n",
       "dtype: float64"
      ]
     },
     "execution_count": 10,
     "metadata": {},
     "output_type": "execute_result"
    }
   ],
   "source": [
    "d=data0.copy()\n",
    "d"
   ]
  },
  {
   "cell_type": "code",
   "execution_count": 11,
   "metadata": {},
   "outputs": [
    {
     "data": {
      "text/plain": [
       "a    0.2\n",
       "b    0.4\n",
       "c    0.6\n",
       "d    1.0\n",
       "e    1.2\n",
       "f    1.4\n",
       "a    1.6\n",
       "dtype: float64"
      ]
     },
     "execution_count": 11,
     "metadata": {},
     "output_type": "execute_result"
    }
   ],
   "source": [
    "e=d/5\n",
    "e"
   ]
  },
  {
   "cell_type": "code",
   "execution_count": 20,
   "metadata": {},
   "outputs": [
    {
     "ename": "SyntaxError",
     "evalue": "invalid syntax (<ipython-input-20-08933dc579b8>, line 2)",
     "output_type": "error",
     "traceback": [
      "\u001b[0;36m  File \u001b[0;32m\"<ipython-input-20-08933dc579b8>\"\u001b[0;36m, line \u001b[0;32m2\u001b[0m\n\u001b[0;31m    Jupyter Notebook\u001b[0m\n\u001b[0m                   ^\u001b[0m\n\u001b[0;31mSyntaxError\u001b[0m\u001b[0;31m:\u001b[0m invalid syntax\n"
     ]
    }
   ],
   "source": [
    "data2={'Grades1':pd.series(data=[70,50,67,84,98],index=['Maths','Art','Biology'])}\n",
    "Jupyter Notebook\n",
    "Data Structure (autosaved) Current Kernel Logo \n",
    "\n",
    "Python 3\n",
    "\n",
    "    File\n",
    "    Edit\n",
    "    View\n",
    "    Insert\n",
    "    Cell\n",
    "    Kernel\n",
    "    Widgets\n",
    "    Help\n",
    "\n",
    "1\n",
    "\n",
    "import numpy as np\n",
    "\n",
    "2\n",
    "\n",
    "import pandas as pd\n",
    "\n",
    "3\n",
    "\n",
    "​\n",
    "\n",
    "4\n",
    "\n",
    "data0=pd.Series(data=[1,2.,3,5,6,7,8])\n",
    "\n",
    "5\n",
    "\n",
    "data0\n",
    "\n",
    "6\n",
    "\n",
    "​\n",
    "\n",
    "0    1.0\n",
    "1    2.0\n",
    "2    3.0\n",
    "3    5.0\n",
    "4    6.0\n",
    "5    7.0\n",
    "6    8.0\n",
    "dtype: float64\n",
    "\n",
    "1\n",
    "\n",
    "data0=pd.Series(data=[1,2.,3,5,6,7,8], index=['a','b','c','d','e','f','a'])\n",
    "\n",
    "1\n",
    "\n",
    "# p=data0['a']\n",
    "\n",
    "2\n",
    "\n",
    "# p\n",
    "\n",
    "3\n",
    "\n",
    "​\n",
    "\n",
    "4\n",
    "\n",
    "'a' in data0\n",
    "\n",
    "True\n",
    "\n",
    "1\n",
    "\n",
    "data0/4\n",
    "\n",
    "a    0.25\n",
    "b    0.50\n",
    "c    0.75\n",
    "d    1.25\n",
    "e    1.50\n",
    "f    1.75\n",
    "a    2.00\n",
    "dtype: float64\n",
    "\n",
    "1\n",
    "\n",
    "d=data0.copy()\n",
    "\n",
    "2\n",
    "\n",
    "d\n",
    "\n",
    "a    1.0\n",
    "b    2.0\n",
    "c    3.0\n",
    "d    5.0\n",
    "e    6.0\n",
    "f    7.0\n",
    "a    8.0\n",
    "dtype: float64\n",
    "\n",
    "1\n",
    "\n",
    "e=d/5\n",
    "\n",
    "2\n",
    "\n",
    "e\n",
    "\n",
    "a    0.2\n",
    "b    0.4\n",
    "c    0.6\n",
    "d    1.0\n",
    "e    1.2\n",
    "f    1.4\n",
    "a    1.6\n",
    "dtype: float64\n"
   ]
  },
  {
   "cell_type": "code",
   "execution_count": 26,
   "metadata": {
    "scrolled": false
   },
   "outputs": [
    {
     "data": {
      "text/html": [
       "<div>\n",
       "<style scoped>\n",
       "    .dataframe tbody tr th:only-of-type {\n",
       "        vertical-align: middle;\n",
       "    }\n",
       "\n",
       "    .dataframe tbody tr th {\n",
       "        vertical-align: top;\n",
       "    }\n",
       "\n",
       "    .dataframe thead th {\n",
       "        text-align: right;\n",
       "    }\n",
       "</style>\n",
       "<table border=\"1\" class=\"dataframe\">\n",
       "  <thead>\n",
       "    <tr style=\"text-align: right;\">\n",
       "      <th></th>\n",
       "      <th>Grades1</th>\n",
       "      <th>Grades2</th>\n",
       "    </tr>\n",
       "  </thead>\n",
       "  <tbody>\n",
       "    <tr>\n",
       "      <th>Art</th>\n",
       "      <td>50.0</td>\n",
       "      <td>NaN</td>\n",
       "    </tr>\n",
       "    <tr>\n",
       "      <th>Biology</th>\n",
       "      <td>84.0</td>\n",
       "      <td>70.0</td>\n",
       "    </tr>\n",
       "    <tr>\n",
       "      <th>Chemistry</th>\n",
       "      <td>NaN</td>\n",
       "      <td>78.0</td>\n",
       "    </tr>\n",
       "    <tr>\n",
       "      <th>Economics</th>\n",
       "      <td>NaN</td>\n",
       "      <td>76.0</td>\n",
       "    </tr>\n",
       "    <tr>\n",
       "      <th>Finance</th>\n",
       "      <td>NaN</td>\n",
       "      <td>77.0</td>\n",
       "    </tr>\n",
       "    <tr>\n",
       "      <th>Geography</th>\n",
       "      <td>NaN</td>\n",
       "      <td>87.0</td>\n",
       "    </tr>\n",
       "    <tr>\n",
       "      <th>Maths</th>\n",
       "      <td>70.0</td>\n",
       "      <td>90.0</td>\n",
       "    </tr>\n",
       "    <tr>\n",
       "      <th>Physics</th>\n",
       "      <td>67.0</td>\n",
       "      <td>88.0</td>\n",
       "    </tr>\n",
       "    <tr>\n",
       "      <th>chemistry</th>\n",
       "      <td>98.0</td>\n",
       "      <td>NaN</td>\n",
       "    </tr>\n",
       "  </tbody>\n",
       "</table>\n",
       "</div>"
      ],
      "text/plain": [
       "           Grades1  Grades2\n",
       "Art           50.0      NaN\n",
       "Biology       84.0     70.0\n",
       "Chemistry      NaN     78.0\n",
       "Economics      NaN     76.0\n",
       "Finance        NaN     77.0\n",
       "Geography      NaN     87.0\n",
       "Maths         70.0     90.0\n",
       "Physics       67.0     88.0\n",
       "chemistry     98.0      NaN"
      ]
     },
     "execution_count": 26,
     "metadata": {},
     "output_type": "execute_result"
    }
   ],
   "source": [
    "\n",
    "data2={'Grades1':pd.Series(data=[70,50,67,84,98],index=['Maths','Art','Physics','Biology','chemistry']),\n",
    "      \n",
    "       'Grades2':pd.Series(data=[90,70,88,78,76,77,87],index=['Maths','Biology','Physics','Chemistry','Economics','Finance','Geography'])}\n",
    "\n",
    "data2=pd.DataFrame(data2)\n",
    "data2"
   ]
  },
  {
   "cell_type": "code",
   "execution_count": 24,
   "metadata": {},
   "outputs": [
    {
     "data": {
      "text/html": [
       "<div>\n",
       "<style scoped>\n",
       "    .dataframe tbody tr th:only-of-type {\n",
       "        vertical-align: middle;\n",
       "    }\n",
       "\n",
       "    .dataframe tbody tr th {\n",
       "        vertical-align: top;\n",
       "    }\n",
       "\n",
       "    .dataframe thead th {\n",
       "        text-align: right;\n",
       "    }\n",
       "</style>\n",
       "<table border=\"1\" class=\"dataframe\">\n",
       "  <thead>\n",
       "    <tr style=\"text-align: right;\">\n",
       "      <th></th>\n",
       "      <th>GradeS1</th>\n",
       "      <th>GradeS2</th>\n",
       "    </tr>\n",
       "  </thead>\n",
       "  <tbody>\n",
       "    <tr>\n",
       "      <th>Art</th>\n",
       "      <td>50.0</td>\n",
       "      <td>NaN</td>\n",
       "    </tr>\n",
       "    <tr>\n",
       "      <th>Biology</th>\n",
       "      <td>84.0</td>\n",
       "      <td>70.0</td>\n",
       "    </tr>\n",
       "    <tr>\n",
       "      <th>Economics</th>\n",
       "      <td>NaN</td>\n",
       "      <td>76.0</td>\n",
       "    </tr>\n",
       "    <tr>\n",
       "      <th>Finance</th>\n",
       "      <td>NaN</td>\n",
       "      <td>77.0</td>\n",
       "    </tr>\n",
       "    <tr>\n",
       "      <th>Geology</th>\n",
       "      <td>NaN</td>\n",
       "      <td>87.0</td>\n",
       "    </tr>\n",
       "    <tr>\n",
       "      <th>Maths</th>\n",
       "      <td>70.0</td>\n",
       "      <td>90.0</td>\n",
       "    </tr>\n",
       "    <tr>\n",
       "      <th>Physics</th>\n",
       "      <td>98.0</td>\n",
       "      <td>88.0</td>\n",
       "    </tr>\n",
       "    <tr>\n",
       "      <th>Sport</th>\n",
       "      <td>67.0</td>\n",
       "      <td>NaN</td>\n",
       "    </tr>\n",
       "    <tr>\n",
       "      <th>chemistry</th>\n",
       "      <td>NaN</td>\n",
       "      <td>78.0</td>\n",
       "    </tr>\n",
       "  </tbody>\n",
       "</table>\n",
       "</div>"
      ],
      "text/plain": [
       "           GradeS1  GradeS2\n",
       "Art           50.0      NaN\n",
       "Biology       84.0     70.0\n",
       "Economics      NaN     76.0\n",
       "Finance        NaN     77.0\n",
       "Geology        NaN     87.0\n",
       "Maths         70.0     90.0\n",
       "Physics       98.0     88.0\n",
       "Sport         67.0      NaN\n",
       "chemistry      NaN     78.0"
      ]
     },
     "execution_count": 24,
     "metadata": {},
     "output_type": "execute_result"
    }
   ],
   "source": [
    "data3 = {'GradeS1': pd.Series(data = [70,50,67,84,98], \n",
    "                              index = ['Maths', 'Art', 'Sport', 'Biology', 'Physics']),\n",
    "         'GradeS2': pd.Series(data = [90,70,88,78,76,77,87], \n",
    "                              index = ['Maths', 'Biology', 'Physics', 'chemistry', 'Economics', 'Finance', 'Geology'])}\n",
    "data3 = pd.DataFrame(data3)\n",
    "data3\n"
   ]
  },
  {
   "cell_type": "code",
   "execution_count": 10,
   "metadata": {},
   "outputs": [],
   "source": [
    "import pandas as pd\n",
    "data4={'Height':[10,12,13,14,44],'Grade2':[10,30,40,50,80]}\n",
    "data4=pd.DataFrame(data4, index=['sts','hshg','ghgd','hjhfd','hjs'])"
   ]
  },
  {
   "cell_type": "code",
   "execution_count": 11,
   "metadata": {},
   "outputs": [
    {
     "data": {
      "text/html": [
       "<div>\n",
       "<style scoped>\n",
       "    .dataframe tbody tr th:only-of-type {\n",
       "        vertical-align: middle;\n",
       "    }\n",
       "\n",
       "    .dataframe tbody tr th {\n",
       "        vertical-align: top;\n",
       "    }\n",
       "\n",
       "    .dataframe thead th {\n",
       "        text-align: right;\n",
       "    }\n",
       "</style>\n",
       "<table border=\"1\" class=\"dataframe\">\n",
       "  <thead>\n",
       "    <tr style=\"text-align: right;\">\n",
       "      <th></th>\n",
       "      <th>Height</th>\n",
       "      <th>Grade2</th>\n",
       "    </tr>\n",
       "  </thead>\n",
       "  <tbody>\n",
       "    <tr>\n",
       "      <th>sts</th>\n",
       "      <td>10</td>\n",
       "      <td>10</td>\n",
       "    </tr>\n",
       "    <tr>\n",
       "      <th>hshg</th>\n",
       "      <td>12</td>\n",
       "      <td>30</td>\n",
       "    </tr>\n",
       "    <tr>\n",
       "      <th>ghgd</th>\n",
       "      <td>13</td>\n",
       "      <td>40</td>\n",
       "    </tr>\n",
       "    <tr>\n",
       "      <th>hjhfd</th>\n",
       "      <td>14</td>\n",
       "      <td>50</td>\n",
       "    </tr>\n",
       "    <tr>\n",
       "      <th>hjs</th>\n",
       "      <td>44</td>\n",
       "      <td>80</td>\n",
       "    </tr>\n",
       "  </tbody>\n",
       "</table>\n",
       "</div>"
      ],
      "text/plain": [
       "       Height  Grade2\n",
       "sts        10      10\n",
       "hshg       12      30\n",
       "ghgd       13      40\n",
       "hjhfd      14      50\n",
       "hjs        44      80"
      ]
     },
     "execution_count": 11,
     "metadata": {},
     "output_type": "execute_result"
    }
   ],
   "source": [
    "data4"
   ]
  },
  {
   "cell_type": "code",
   "execution_count": null,
   "metadata": {},
   "outputs": [],
   "source": []
  },
  {
   "cell_type": "code",
   "execution_count": null,
   "metadata": {},
   "outputs": [],
   "source": []
  }
 ],
 "metadata": {
  "kernelspec": {
   "display_name": "Python 3",
   "language": "python",
   "name": "python3"
  },
  "language_info": {
   "codemirror_mode": {
    "name": "ipython",
    "version": 3
   },
   "file_extension": ".py",
   "mimetype": "text/x-python",
   "name": "python",
   "nbconvert_exporter": "python",
   "pygments_lexer": "ipython3",
   "version": "3.7.3"
  }
 },
 "nbformat": 4,
 "nbformat_minor": 2
}
