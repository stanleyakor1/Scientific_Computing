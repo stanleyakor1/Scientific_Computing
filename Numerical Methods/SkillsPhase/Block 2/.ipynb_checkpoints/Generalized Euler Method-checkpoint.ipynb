{
 "cells": [
  {
   "cell_type": "code",
   "execution_count": 7,
   "metadata": {},
   "outputs": [],
   "source": [
    "import numpy as np\n",
    "import matplotlib.pyplot as plt\n",
    "from scipy.optimize import fsolve\n",
    "import sympy as sym\n",
    "sym.init_printing()\n",
    "import scipy.integrate as integrate\n",
    "from scipy.integrate import odeint"
   ]
  },
  {
   "cell_type": "code",
   "execution_count": 8,
   "metadata": {},
   "outputs": [
    {
     "data": {
      "image/png": "[encoded data removed]",
      "text/latex": [
       "$\\displaystyle \\left( 2.3333333333333335, \\  2.590520390792032e-14\\right)$"
      ],
      "text/plain": [
       "(2.3333333333333335, 2.590520390792032e-14)"
      ]
     },
     "execution_count": 8,
     "metadata": {},
     "output_type": "execute_result"
    }
   ],
   "source": [
    "g=lambda x: x**2\n",
    "\n",
    "result=integrate.quad(g,1,2)\n",
    "result"
   ]
  },
  {
   "cell_type": "code",
   "execution_count": 9,
   "metadata": {},
   "outputs": [
    {
     "name": "stderr",
     "output_type": "stream",
     "text": [
      "/usr/lib/python3/dist-packages/scipy/integrate/quadpack.py:385: IntegrationWarning: The integral is probably divergent, or slowly convergent.\n",
      "  warnings.warn(msg, IntegrationWarning)\n"
     ]
    },
    {
     "data": {
      "image/png": "[encoded data removed]",
      "text/latex": [
       "$\\displaystyle \\left( -0.6631277205452187, \\  0.0028429183615096276\\right)$"
      ],
      "text/plain": [
       "(-0.6631277205452187, 0.0028429183615096276)"
      ]
     },
     "execution_count": 9,
     "metadata": {},
     "output_type": "execute_result"
    }
   ],
   "source": [
    "f=lambda x: np.exp(x)\n",
    "\n",
    "result=integrate.quad(g,-np.inf,np.inf)\n",
    "result"
   ]
  },
  {
   "cell_type": "code",
   "execution_count": 23,
   "metadata": {},
   "outputs": [
    {
     "ename": "NameError",
     "evalue": "name 'plot' is not defined",
     "output_type": "error",
     "traceback": [
      "\u001b[0;31m---------------------------------------------------------------------------\u001b[0m",
      "\u001b[0;31mNameError\u001b[0m                                 Traceback (most recent call last)",
      "\u001b[0;32m<ipython-input-23-2cc088000034>\u001b[0m in \u001b[0;36m<module>\u001b[0;34m()\u001b[0m\n\u001b[1;32m      7\u001b[0m \u001b[0my\u001b[0m\u001b[0;34m=\u001b[0m\u001b[0modeint\u001b[0m\u001b[0;34m(\u001b[0m\u001b[0mmodel\u001b[0m\u001b[0;34m,\u001b[0m\u001b[0my0\u001b[0m\u001b[0;34m,\u001b[0m\u001b[0mt\u001b[0m\u001b[0;34m)\u001b[0m\u001b[0;34m\u001b[0m\u001b[0;34m\u001b[0m\u001b[0m\n\u001b[1;32m      8\u001b[0m \u001b[0mplt\u001b[0m\u001b[0;34m.\u001b[0m\u001b[0mplot\u001b[0m\u001b[0;34m(\u001b[0m\u001b[0mt\u001b[0m\u001b[0;34m,\u001b[0m\u001b[0my\u001b[0m\u001b[0;34m)\u001b[0m\u001b[0;34m\u001b[0m\u001b[0;34m\u001b[0m\u001b[0m\n\u001b[0;32m----> 9\u001b[0;31m \u001b[0mplot\u001b[0m\u001b[0;34m.\u001b[0m\u001b[0mshow\u001b[0m\u001b[0;34m\u001b[0m\u001b[0;34m\u001b[0m\u001b[0m\n\u001b[0m",
      "\u001b[0;31mNameError\u001b[0m: name 'plot' is not defined"
     ]
    },
    {
     "data": {
      "image/png": "[encoded data removed]",
      "text/plain": [
       "<Figure size 432x288 with 1 Axes>"
      ]
     },
     "metadata": {
      "needs_background": "light"
     },
     "output_type": "display_data"
    }
   ],
   "source": [
    "def model(y,t):\n",
    "    k=0.3\n",
    "    dydt=-k*y\n",
    "    return dydt   \n",
    "y0=5   \n",
    "t=np.linspace(0,20,100)\n",
    "y=odeint(model,y0,t)       \n",
    "plt.plot(t,y)\n",
    "plot.show"
   ]
  },
  {
   "cell_type": "code",
   "execution_count": 37,
   "metadata": {},
   "outputs": [
    {
     "data": {
      "image/png": "[encoded data removed]",
      "text/plain": [
       "<Figure size 432x288 with 3 Axes>"
      ]
     },
     "metadata": {
      "needs_background": "light"
     },
     "output_type": "display_data"
    }
   ],
   "source": [
    "def model1(z,t):\n",
    "    x,y=z\n",
    "    dydt=(2*t-3*x)/(4*y**2+1)\n",
    "    dxdt=6*y\n",
    "    return dydt,dxdt\n",
    "\n",
    "\n",
    "x0y0=[2,1]\n",
    "\n",
    "\n",
    "t=np.linspace(0,20,100)\n",
    "z=odeint(model1,x0y0,t)\n",
    "\n",
    "p=z[:,0]\n",
    "r=z[:,1]\n",
    "\n",
    "\n",
    "plt.subplot(3,1,1)\n",
    "plt.plot(t,p)\n",
    "\n",
    "\n",
    "plt.subplot(3,1,2)\n",
    "plt.plot(t,r)\n",
    "\n",
    "\n",
    "plt.subplot(3,1,3)\n",
    "plt.plot(x,y)\n",
    "plt.show()"
   ]
  },
  {
   "cell_type": "code",
   "execution_count": null,
   "metadata": {},
   "outputs": [],
   "source": []
  },
  {
   "cell_type": "code",
   "execution_count": null,
   "metadata": {},
   "outputs": [],
   "source": []
  },
  {
   "cell_type": "code",
   "execution_count": 57,
   "metadata": {},
   "outputs": [],
   "source": [
    "f=lambda x,y: (2-2*x*y)/(x**2+1)\n",
    "def EulerM(a,b,c,N,f):\n",
    "    H=(b-a)/N\n",
    "    t=np.linspace(a,b,N+1)\n",
    "    if type(c)!=list:\n",
    "        z=np.zeros(N+1)\n",
    "        z[0]=c\n",
    "    else:\n",
    "        z=np.zeros((N+1,len(c)))\n",
    "        for i in range(0,len(c)):\n",
    "            z[0,i]=c[i]\n",
    "            \n",
    "    for k in range(0,N):\n",
    "        z[k+1]=z[k]+H*f(t[k],z[k])\n",
    "    return t,z"
   ]
  },
  {
   "cell_type": "code",
   "execution_count": 58,
   "metadata": {},
   "outputs": [
    {
     "data": {
      "text/plain": [
       "(array([0.  , 0.01, 0.02, 0.03, 0.04, 0.05, 0.06, 0.07, 0.08, 0.09, 0.1 ,\n",
       "        0.11, 0.12, 0.13, 0.14, 0.15, 0.16, 0.17, 0.18, 0.19, 0.2 , 0.21,\n",
       "        0.22, 0.23, 0.24, 0.25, 0.26, 0.27, 0.28, 0.29, 0.3 , 0.31, 0.32,\n",
       "        0.33, 0.34, 0.35, 0.36, 0.37, 0.38, 0.39, 0.4 , 0.41, 0.42, 0.43,\n",
       "        0.44, 0.45, 0.46, 0.47, 0.48, 0.49, 0.5 , 0.51, 0.52, 0.53, 0.54,\n",
       "        0.55, 0.56, 0.57, 0.58, 0.59, 0.6 , 0.61, 0.62, 0.63, 0.64, 0.65,\n",
       "        0.66, 0.67, 0.68, 0.69, 0.7 , 0.71, 0.72, 0.73, 0.74, 0.75, 0.76,\n",
       "        0.77, 0.78, 0.79, 0.8 , 0.81, 0.82, 0.83, 0.84, 0.85, 0.86, 0.87,\n",
       "        0.88, 0.89, 0.9 , 0.91, 0.92, 0.93, 0.94, 0.95, 0.96, 0.97, 0.98,\n",
       "        0.99, 1.  ]), array([[1.        , 2.        , 3.        ],\n",
       "        [1.02      , 2.02      , 3.02      ],\n",
       "        [1.03979402, 2.03959404, 3.03939406],\n",
       "        [1.05937027, 2.05877053, 3.05817079],\n",
       "        [1.07871724, 2.0775184 , 3.07631956],\n",
       "        [1.09782369, 2.09582709, 3.09383048],\n",
       "        [1.11667873, 2.11368661, 3.11069449],\n",
       "        [1.13527178, 2.13108755, 3.12690331],\n",
       "        [1.15359263, 2.14802105, 3.14244947],\n",
       "        [1.17163143, 2.16447888, 3.15732634],\n",
       "        [1.18937874, 2.18045343, 3.17152811],\n",
       "        [1.20682552, 2.19593768, 3.18504984],\n",
       "        [1.22396314, 2.21092527, 3.1978874 ],\n",
       "        [1.24078341, 2.22541046, 3.2100375 ],\n",
       "        [1.25727861, 2.23938817, 3.22149773],\n",
       "        [1.27344144, 2.25285395, 3.23226647],\n",
       "        [1.28926508, 2.26580401, 3.24234295],\n",
       "        [1.30474319, 2.2782352 , 3.25172721],\n",
       "        [1.3198699 , 2.29014501, 3.26042012],\n",
       "        [1.33463983, 2.30153156, 3.2684233 ],\n",
       "        [1.34904806, 2.31239362, 3.27573919],\n",
       "        [1.36309018, 2.32273057, 3.28237096],\n",
       "        [1.37676226, 2.3325424 , 3.28832254],\n",
       "        [1.39006086, 2.34182971, 3.29359856],\n",
       "        [1.402983  , 2.35059368, 3.29820436],\n",
       "        [1.41552619, 2.35883607, 3.30214594],\n",
       "        [1.42768842, 2.36655919, 3.30542996],\n",
       "        [1.43946813, 2.37376591, 3.30806369],\n",
       "        [1.45086423, 2.3804596 , 3.31005498],\n",
       "        [1.46187606, 2.38664416, 3.31141226],\n",
       "        [1.47250342, 2.39232395, 3.31214449],\n",
       "        [1.48274652, 2.39750382, 3.31226112],\n",
       "        [1.492606  , 2.40218905, 3.3117721 ],\n",
       "        [1.50208288, 2.40638534, 3.31068779],\n",
       "        [1.51117861, 2.4100988 , 3.30901898],\n",
       "        [1.51989498, 2.41333592, 3.30677685],\n",
       "        [1.52823417, 2.41610353, 3.30397289],\n",
       "        [1.53619868, 2.41840882, 3.30061896],\n",
       "        [1.54379137, 2.42025927, 3.29672716],\n",
       "        [1.55101541, 2.42166265, 3.29230989],\n",
       "        [1.55787426, 2.422627  , 3.28737975],\n",
       "        [1.56437168, 2.42316061, 3.28194954],\n",
       "        [1.57051169, 2.42327197, 3.27603225],\n",
       "        [1.57629859, 2.42296979, 3.269641  ],\n",
       "        [1.58173688, 2.42226295, 3.26278902],\n",
       "        [1.58683131, 2.42116047, 3.25548964],\n",
       "        [1.59158683, 2.41967154, 3.24775624],\n",
       "        [1.59600859, 2.41780543, 3.23960227],\n",
       "        [1.6001019 , 2.41557153, 3.23104115],\n",
       "        [1.60387224, 2.41297929, 3.22208635],\n",
       "        [1.60732523, 2.41003824, 3.21275126],\n",
       "        [1.61046662, 2.40675793, 3.20304925],\n",
       "        [1.6133023 , 2.40314796, 3.19299361],\n",
       "        [1.61583824, 2.39921791, 3.18259757],\n",
       "        [1.6180805 , 2.39497736, 3.17187422],\n",
       "        [1.62003524, 2.3904359 , 3.16083656],\n",
       "        [1.62170864, 2.38560304, 3.14949745],\n",
       "        [1.62310699, 2.38048828, 3.13786957],\n",
       "        [1.62423657, 2.37510103, 3.1259655 ],\n",
       "        [1.62510371, 2.36945065, 3.11379758],\n",
       "        [1.62571478, 2.3635464 , 3.10137802],\n",
       "        [1.62607612, 2.35739746, 3.0887188 ],\n",
       "        [1.62619409, 2.3510129 , 3.07583172],\n",
       "        [1.62607505, 2.34440169, 3.06272834],\n",
       "        [1.62572531, 2.33757267, 3.04942003],\n",
       "        [1.62515119, 2.33053455, 3.03591792],\n",
       "        [1.62435894, 2.32329593, 3.02223291],\n",
       "        [1.62335481, 2.31586523, 3.00837565],\n",
       "        [1.62214496, 2.30825077, 2.99435658],\n",
       "        [1.62073551, 2.30046069, 2.98018587],\n",
       "        [1.61913254, 2.29250299, 2.96587345],\n",
       "        [1.61734203, 2.28438551, 2.951429  ],\n",
       "        [1.61536992, 2.27611594, 2.93686195],\n",
       "        [1.61322205, 2.26770177, 2.92218149],\n",
       "        [1.61090419, 2.25915037, 2.90739654],\n",
       "        [1.60842203, 2.25046891, 2.89251578],\n",
       "        [1.60578118, 2.24166441, 2.87754763],\n",
       "        [1.60298715, 2.2327437 , 2.86250026],\n",
       "        [1.60004534, 2.22371347, 2.84738161],\n",
       "        [1.59696109, 2.21458022, 2.83219934],\n",
       "        [1.59373962, 2.20535026, 2.81696091],\n",
       "        [1.59038607, 2.19602977, 2.80167348],\n",
       "        [1.58690545, 2.18662474, 2.78634403],\n",
       "        [1.58330269, 2.17714097, 2.77097926],\n",
       "        [1.57958262, 2.16758414, 2.75558565],\n",
       "        [1.57574996, 2.15795972, 2.74016947],\n",
       "        [1.57180932, 2.14827303, 2.72473674],\n",
       "        [1.56776522, 2.13852924, 2.70929326],\n",
       "        [1.56362206, 2.12873335, 2.69384463],\n",
       "        [1.55938415, 2.11889018, 2.67839622],\n",
       "        [1.55505569, 2.10900444, 2.66295319],\n",
       "        [1.55064077, 2.09908064, 2.6475205 ],\n",
       "        [1.54614339, 2.08912316, 2.63210293],\n",
       "        [1.54156744, 2.07913623, 2.61670502],\n",
       "        [1.5369167 , 2.06912393, 2.60133116],\n",
       "        [1.53219487, 2.0590902 , 2.58598553],\n",
       "        [1.52740554, 2.04903884, 2.57067214],\n",
       "        [1.5225522 , 2.03897351, 2.55539482],\n",
       "        [1.51763823, 2.02889773, 2.54015722],\n",
       "        [1.51266695, 2.01881489, 2.52496283],\n",
       "        [1.50764154, 2.00872826, 2.50981497]]))"
      ]
     },
     "execution_count": 58,
     "metadata": {},
     "output_type": "execute_result"
    }
   ],
   "source": [
    "# plt.plot(t,z[:,0])\n",
    "# plt.plot(t,z[:,1])\n",
    "# plt.plot(t,z[:,2])\n",
    "# plt.show\n",
    "EulerM(0,1,[1,2,3],100,f)"
   ]
  },
  {
   "cell_type": "code",
   "execution_count": null,
   "metadata": {},
   "outputs": [],
   "source": []
  },
  {
   "cell_type": "code",
   "execution_count": 60,
   "metadata": {},
   "outputs": [],
   "source": [
    "import numpy as np\n",
    "import matplotlib.pyplot as plt \n",
    "from scipy.integrate import odeint\n",
    "%matplotlib inline \n",
    " \n",
    "def F(t,k):\n",
    "    x,y,z = k\n",
    "    \n",
    "    Q = np.empty(3)\n",
    "    Q[0] = x  + 3\n",
    "    \n",
    "    Q[1] = x  + 3 *y +z\n",
    "    \n",
    "    Q[2] = x  + y**2\n",
    "    \n",
    "    return Q\n",
    " \n",
    "def EulerMethod(a,b,c,N,F):\n",
    "    H = (b-a)/N\n",
    "    \n",
    "    t = np.linspace(a,b,N+1)\n",
    "    \n",
    "    Z = np.zeros((N+1,len(c)))\n",
    "    \n",
    "    Z[0,:] = c \n",
    "    for k in range(0,N):\n",
    "        Z[k+1] = Z[k] +  H*F(t[k],Z[k])\n",
    "    return t,Z"
   ]
  },
  {
   "cell_type": "code",
   "execution_count": 66,
   "metadata": {},
   "outputs": [
    {
     "data": {
      "text/plain": [
       "<function matplotlib.pyplot.show>"
      ]
     },
     "execution_count": 66,
     "metadata": {},
     "output_type": "execute_result"
    },
    {
     "data": {
      "image/png": "[encoded data removed]",
      "text/plain": [
       "<Figure size 432x288 with 1 Axes>"
      ]
     },
     "metadata": {
      "needs_background": "light"
     },
     "output_type": "display_data"
    }
   ],
   "source": [
    "a = 0\n",
    "b = 1\n",
    "N = 100\n",
    "c = np.array([1,2,1])\n",
    " \n",
    " \n",
    "t,result = EulerMethod(a,b,c,N,F)\n",
    "plt.plot(t,result[0:,])\n",
    "plt.show"
   ]
  },
  {
   "cell_type": "code",
   "execution_count": null,
   "metadata": {},
   "outputs": [],
   "source": []
  },
  {
   "cell_type": "code",
   "execution_count": null,
   "metadata": {},
   "outputs": [],
   "source": []
  },
  {
   "cell_type": "code",
   "execution_count": null,
   "metadata": {},
   "outputs": [],
   "source": [
    "def Generalized(w,t):\n",
    "    x,y,z=w\n",
    "    dxdt=x + 3\n",
    "    dydt=x + 3 *y +z\n",
    "    dzdt=x + y**2\n",
    "    return [dxdt,dydt,dzdt]\n",
    "x0y0z0=[1,2,1]\n",
    "\n",
    "y=odeint(w,x0y0z0)\n",
    "\n"
   ]
  },
  {
   "cell_type": "code",
   "execution_count": null,
   "metadata": {},
   "outputs": [],
   "source": []
  },
  {
   "cell_type": "code",
   "execution_count": null,
   "metadata": {},
   "outputs": [],
   "source": [
    "# return dxdt,dydt,dqdt\n",
    "\n",
    "# z0= [...,....,...]#determined by number of equations\n",
    "# t=np.linspace(a,b,N)\n",
    "\n",
    "\n",
    "def Euler11(f,z0,t):\n",
    "    H=t[1]-t[0]\n",
    "    N=len(t)\n",
    "    M=len(z0)\n",
    "    z=np.zeros((N,M))\n",
    "    z[0]=z0\n",
    "    \n",
    "    for k in range(0,N-1):\n",
    "        Z[k+1] = Z[k] +  H*F(t[k],Z[k])\n",
    "    return z\n",
    "def f(z,t):\n",
    "    x,y=z\n",
    "    dxdt=\n",
    "    dydt=\n",
    "    return dxdt,dydt\n",
    "z0=\n",
    "a=\n",
    "b=\n",
    "N\n",
    "t=np.linspace(a,b,n)\n",
    "z1=Euler1(f,z0,t)\n",
    "x=z[:,0]\n",
    "y=z[:,1]\n"
   ]
  },
  {
   "cell_type": "code",
   "execution_count": null,
   "metadata": {},
   "outputs": [],
   "source": []
  },
  {
   "cell_type": "code",
   "execution_count": null,
   "metadata": {},
   "outputs": [],
   "source": []
  },
  {
   "cell_type": "code",
   "execution_count": null,
   "metadata": {},
   "outputs": [],
   "source": []
  },
  {
   "cell_type": "code",
   "execution_count": null,
   "metadata": {},
   "outputs": [],
   "source": []
  },
  {
   "cell_type": "code",
   "execution_count": null,
   "metadata": {},
   "outputs": [],
   "source": []
  }
 ],
 "metadata": {
  "kernelspec": {
   "display_name": "Python 3",
   "language": "python",
   "name": "python3"
  },
  "language_info": {
   "codemirror_mode": {
    "name": "ipython",
    "version": 3
   },
   "file_extension": ".py",
   "mimetype": "text/x-python",
   "name": "python",
   "nbconvert_exporter": "python",
   "pygments_lexer": "ipython3",
   "version": "3.7.3"
  }
 },
 "nbformat": 4,
 "nbformat_minor": 2
}
