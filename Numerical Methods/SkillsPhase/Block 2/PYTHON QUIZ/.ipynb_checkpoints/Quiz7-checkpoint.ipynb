{
 "cells": [
  {
   "cell_type": "markdown",
   "metadata": {},
   "source": [
    "1. Let consider the following ODE"
   ]
  },
  {
   "cell_type": "markdown",
   "metadata": {},
   "source": [
    "$$\n",
    "\\begin{cases}\n",
    "-k\\dfrac{d^2u}{dx^2} + u &= &g(x), \\quad \\text{ on } [0,2]\\\\[0.3cm]\n",
    "u(0) =\\alpha\\\\\n",
    "u(2) =\\beta\n",
    "\\end{cases}\n",
    "$$"
   ]
  },
  {
   "cell_type": "markdown",
   "metadata": {},
   "source": [
    "The discretize for of the above equation is given by\n",
    "\n",
    "$$\n",
    "\\begin{cases}\n",
    "-\\dfrac{k}{h^2}(u_{i-1}-2u_i+u_{i+1})+u_i &= & g(x_i), \\quad i = 1,\\cdots,N-1\\\\[0.3cm]\n",
    "u_0  = \\alpha\\\\\n",
    "u_N = \\beta\n",
    "\\end{cases}\n",
    "$$\n",
    "\n",
    "The system can be written in matrix form as:$\\quad AU = b$\n",
    "\n",
    "Write a python function that takes k,h,g, $\\alpha$, $\\beta$ and returns the matrix $A$ and vector $b$."
   ]
  },
  {
   "cell_type": "code",
   "execution_count": null,
   "metadata": {},
   "outputs": [],
   "source": [
    "def MAT()"
   ]
  },
  {
   "cell_type": "markdown",
   "metadata": {},
   "source": [
    "2. Solve the system with $\\alpha= 1, h= 0.01, g(x)= e^{2x}, k=4$ and $\\beta=3$"
   ]
  },
  {
   "cell_type": "code",
   "execution_count": null,
   "metadata": {},
   "outputs": [],
   "source": []
  },
  {
   "cell_type": "markdown",
   "metadata": {},
   "source": [
    "3. Tha exact solution  of the above equation is given by\n",
    "\n",
    "$$u(x) = \\dfrac{3e}{e^2-1}e^{\\frac{x}{2}}+\\dfrac{3e}{1-e^2}e^{-\\frac{x}{2}}$$\n",
    "\n",
    "Use Subplot to plot side by side\n",
    "    - the exact and approximate solutions against x\n",
    "    - the absolute error between the exact and the approximate solution against x"
   ]
  },
  {
   "cell_type": "code",
   "execution_count": 1,
   "metadata": {},
   "outputs": [],
   "source": []
  }
 ],
 "metadata": {
  "kernelspec": {
   "display_name": "Python 3",
   "language": "python",
   "name": "python3"
  },
  "language_info": {
   "codemirror_mode": {
    "name": "ipython",
    "version": 3
   },
   "file_extension": ".py",
   "mimetype": "text/x-python",
   "name": "python",
   "nbconvert_exporter": "python",
   "pygments_lexer": "ipython3",
   "version": "3.7.3"
  }
 },
 "nbformat": 4,
 "nbformat_minor": 4
}
