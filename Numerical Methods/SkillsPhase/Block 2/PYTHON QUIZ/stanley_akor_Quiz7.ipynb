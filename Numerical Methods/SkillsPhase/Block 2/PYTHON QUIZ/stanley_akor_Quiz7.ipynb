{
 "cells": [
  {
   "cell_type": "markdown",
   "metadata": {},
   "source": [
    "1. Let consider the following ODE"
   ]
  },
  {
   "cell_type": "markdown",
   "metadata": {},
   "source": [
    "$$\n",
    "\\begin{cases}\n",
    "-k\\dfrac{d^2u}{dx^2} + u &= &g(x), \\quad \\text{ on } [0,2]\\\\[0.3cm]\n",
    "u(0) =\\alpha\\\\\n",
    "u(2) =\\beta\n",
    "\\end{cases}\n",
    "$$"
   ]
  },
  {
   "cell_type": "markdown",
   "metadata": {},
   "source": [
    "The discretize for of the above equation is given by\n",
    "\n",
    "$$\n",
    "\\begin{cases}\n",
    "-\\dfrac{k}{h^2}(u_{i-1}-2u_i+u_{i+1})+u_i &= & g(x_i), \\quad i = 1,\\cdots,N-1\\\\[0.3cm]\n",
    "u_0  = \\alpha\\\\\n",
    "u_N = \\beta\n",
    "\\end{cases}\n",
    "$$\n",
    "\n",
    "The system can be written in matrix form as:$\\quad AU = B$\n",
    "\n",
    "Write a python function <b> Mat_Ab</b> that takes <b>a,b,k,h,g, $\\alpha$, $\\beta$ </b> and returns the matrix $A$ and vector $B$.\n",
    "\n",
    "Note that <b>a</b> and <b>b</b> are respectively the lower and upper bound of the interval on which the equation is defined. "
   ]
  },
  {
   "cell_type": "code",
   "execution_count": 18,
   "metadata": {},
   "outputs": [],
   "source": [
    "import numpy as np\n",
    "import matplotlib.pyplot as plt\n",
    "\n",
    "def MAT_Ab(k,h,g, α, β):\n",
    "    n=(b-a)/h\n",
    "    N=int(n)\n",
    "    x=np.linspace(a,b,N+1)\n",
    "    B=np.zeros(N)\n",
    "    B=g(x)\n",
    "    B[0]=α\n",
    "    B[-1]=β\n",
    "    \n",
    "    A=np.zeros((N+1,N+1))\n",
    "    A[0,0]=-(h**2)/k\n",
    "    A[-1,-1]=-(h**2)/k\n",
    "    \n",
    "    for i in range(1,N):\n",
    "        A[i,i]=-2\n",
    "        A[i,i-1]=1\n",
    "        A[i,i+1]=1\n",
    "        A[i,i+2]=-(h**2)/k\n",
    "        \n",
    "        return (A*(-k/h**2)),B\n",
    "    "
   ]
  },
  {
   "cell_type": "markdown",
   "metadata": {},
   "source": [
    "2. Solve the system with $\\alpha= 1, h= 0.01, g(x)= e^{2x}, k=4$ and $\\beta=3$"
   ]
  },
  {
   "cell_type": "code",
   "execution_count": 21,
   "metadata": {},
   "outputs": [],
   "source": [
    "a=0\n",
    "h=0.01\n",
    "g=lambda x: np.exp(2*x)\n",
    "k=4\n",
    "β=3\n",
    "α=1\n",
    "b=2\n",
    "A,B=MAT_Ab(k,h,g, α, β)\n",
    "# w=np.linalg.solve(A,B)\n"
   ]
  },
  {
   "cell_type": "markdown",
   "metadata": {},
   "source": [
    "3. Tha exact solution  of the above equation is given by\n",
    "\n",
    "$$u(x) = \\dfrac{3e}{e^2-1}e^{\\frac{x}{2}}+\\dfrac{3e}{1-e^2}e^{-\\frac{x}{2}}$$\n",
    "\n",
    "Use Subplot to plot side by side\n",
    "    - the exact and approximate solutions against x\n",
    "    - the absolute error between the exact and the approximate solution against x"
   ]
  },
  {
   "cell_type": "code",
   "execution_count": 1,
   "metadata": {},
   "outputs": [],
   "source": [
    "f=lambda x: (3*np.exp(1)*(np.exp(x/2)))/((np.exp(1))**2-1)+(3*np.exp(1)*(np.exp(-x/2))/(1-(np.exp(1)**2)))\n",
    "u=f(x)"
   ]
  }
 ],
 "metadata": {
  "kernelspec": {
   "display_name": "Python 3",
   "language": "python",
   "name": "python3"
  },
  "language_info": {
   "codemirror_mode": {
    "name": "ipython",
    "version": 3
   },
   "file_extension": ".py",
   "mimetype": "text/x-python",
   "name": "python",
   "nbconvert_exporter": "python",
   "pygments_lexer": "ipython3",
   "version": "3.7.3"
  }
 },
 "nbformat": 4,
 "nbformat_minor": 4
}
