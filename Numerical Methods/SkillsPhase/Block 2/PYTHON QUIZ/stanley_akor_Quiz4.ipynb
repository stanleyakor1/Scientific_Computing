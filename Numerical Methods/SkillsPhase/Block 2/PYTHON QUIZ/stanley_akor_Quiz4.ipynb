{
 "cells": [
  {
   "cell_type": "code",
   "execution_count": 4,
   "metadata": {},
   "outputs": [
    {
     "data": {
      "application/javascript": [
       "MathJax.Hub.Config({\n",
       "    TeX: { equationNumbers: { autoNumber: \"AMS\" } }\n",
       "});\n"
      ],
      "text/plain": [
       "<IPython.core.display.Javascript object>"
      ]
     },
     "metadata": {},
     "output_type": "display_data"
    }
   ],
   "source": [
    "%%javascript\n",
    "MathJax.Hub.Config({\n",
    "    TeX: { equationNumbers: { autoNumber: \"AMS\" } }\n",
    "});\n"
   ]
  },
  {
   "cell_type": "markdown",
   "metadata": {},
   "source": [
    "# $$\\text{Quiz 4}$$\n",
    "\n",
    "$\\text{Exercise 1}$\n",
    "\n",
    "Let $\\{ x_k\\}$ be a partition of $[a,b]$ such that $a=x_0<x_1<\\cdots<x_{N-1}<x_{N}=b$ and $H$ be the constant length of the $k$-th subinterval ($H = x_k - x_{k-1}$). Let us consider initial value problem\n",
    "\n",
    "\\begin{equation}\\label{eul2}\n",
    "  \\begin{cases}\n",
    "    y' = f(x,y),      & \\quad \\text{on } [a, b]\\\\\\\\\n",
    "    y(a) = c,\n",
    "  \\end{cases}\n",
    "\\end{equation}\n",
    "Let $\\{ y_k\\}$ be the approximate solution i.e.  $y_k\\approx g(x_k)=g_k$ where $g$ is the exact solution.\n",
    "1. Write a python function <b> EulerMethod </b> that takes $a,b,c,N,$ and $f$ and return array of all $x_k$ and $y_k$ of \\eqref{eul2} using Euler method i.e.\n",
    "$$ y_{k+1} = y_k + Hf(x_k,y_k) $$\n"
   ]
  },
  {
   "cell_type": "code",
   "execution_count": 40,
   "metadata": {},
   "outputs": [],
   "source": [
    "import numpy as np\n",
    "import matplotlib.pyplot as plt\n",
    "from scipy.optimize import fsolve\n",
    "\n",
    "def EulerMethod(a,b,c,N,f):\n",
    "    H=(b-a)/N\n",
    "    x=np.linspace(a,b,N+1)\n",
    "    y=np.zeros(N+1)\n",
    "    y[0]=c\n",
    "    for i in range(N+1):\n",
    "        y[i]=y[i-1]+H*f(x[i-1],y[i-1])\n",
    "    return y\n"
   ]
  },
  {
   "cell_type": "markdown",
   "metadata": {},
   "source": [
    "2. Write a python function <b> RK2Method </b> that takes $a,b,c,N,$ and $f$ and return array of all $x_k$ and $y_k$ of (1) using second order Runge-Kutta  method i.e.\n",
    "\\begin{equation}\n",
    "\\begin{cases}\n",
    "\\alpha = f(x_k,y_k)\\\\\\\\\n",
    "y_{k+1} = y_k + Hf(x_k+\\dfrac{H}{2}, y_k + \\dfrac{H}{2}\\alpha)\n",
    "\\end{cases}\n",
    "\\end{equation}\n",
    "\n"
   ]
  },
  {
   "cell_type": "code",
   "execution_count": 41,
   "metadata": {},
   "outputs": [],
   "source": [
    "def RK2Method(a,b,c,N,f):\n",
    "    H=(b-a)/N\n",
    "    x=np.linspace(a,b,N+1)\n",
    "    y=np.zeros(N+1)\n",
    "    y[0]=c\n",
    "    for i in range(N+1):\n",
    "        k1=f(x[i-1],y[i-1])\n",
    "        k2=f(x[i-1]+H/2,y[i-1]+(H/2)*k1)\n",
    "        k3=f(x[i-1]+H/2,y[i-1]+(H/2)*k2)\n",
    "        k4=f(x[i-1]+H,y[i-1]+H*k3)\n",
    "        y[i]=y[i-1]+(H/6)*(k1+2*k2+2*k3+k4)\n",
    "    return y\n"
   ]
  },
  {
   "cell_type": "code",
   "execution_count": null,
   "metadata": {},
   "outputs": [],
   "source": []
  },
  {
   "cell_type": "markdown",
   "metadata": {},
   "source": [
    "3. Let us consider the initial value problem \n",
    "\n",
    "\\begin{equation}\n",
    "  \\begin{cases}\n",
    "    y' = 2y + e^{2x},      & \\quad \\text{on } [0, 1]\\\\\\\\\n",
    "    y(0) = 3,\n",
    "  \\end{cases}\n",
    "\\end{equation}\n",
    "with exact solution $g(x) = (x+3)e^{2x}$. \n",
    "\n",
    "For $N=200$, use subplot to plot side by side\n",
    "- the exact solution and the approximate solutions obtained with <b> EulerMethod </b> and <b> RK2Method </b>\n",
    "- the absolute error between the exact solution and the approximate solutions obtained with <b> EulerMethod </b> and <b> RK2Method </b>"
   ]
  },
  {
   "cell_type": "code",
   "execution_count": 63,
   "metadata": {},
   "outputs": [],
   "source": [
    "f1=lambda x,y: 2*y+np.exp(2*x)\n",
    "f2=lambda x:np.exp(2*x)*(x+3)\n",
    "\n",
    "def RET(a,b,c,N):\n",
    "    H=(b-a)/N\n",
    "    x=np.linspace(a,b,N+1)\n",
    "    y=np.zeros(N+1)\n",
    "    y[0]=3\n",
    "    for i in range(1,N+1):\n",
    "        u=EulerMethod(a,b,c,N,f1)\n",
    "    u\n",
    "        plt.subplot(1,2,1)\n",
    "        plt.plot(x,u)\n",
    "        plt.xlabel('x')\n",
    "        plt.ylabel('y')\n",
    "        #plt.legend()\n",
    "        v=RK2Method(a,b,c,N,f1)\n",
    "        plt.subplot(1,2,1)\n",
    "        plt.plot(x,v)\n",
    "       \n",
    "        #plt.legend()\n",
    "            \n",
    "    exact=f2(x)\n",
    "    \n",
    "    error=abs(u-exact)\n",
    "    #return u,v\n",
    "plt.show()"
   ]
  },
  {
   "cell_type": "code",
   "execution_count": 64,
   "metadata": {},
   "outputs": [
    {
     "data": {
      "text/plain": [
       "array([0.07389056, 0.08536837, 0.09727775, 0.10963142, 0.12244241,\n",
       "       0.13572413, 0.14949032, 0.1637551 , 0.17853294, 0.1938387 ,\n",
       "       0.20968765, 0.22609543, 0.24307811, 0.26065216, 0.2788345 ,\n",
       "       0.29764249, 0.31709393, 0.33720709, 0.3580007 , 0.37949401,\n",
       "       0.40170674, 0.42465912, 0.44837192, 0.47286643, 0.4981645 ,\n",
       "       0.52428853, 0.55126151, 0.57910702, 0.60784923, 0.63751294,\n",
       "       0.66812358, 0.69970724, 0.73229067, 0.76590129, 0.80056724,\n",
       "       0.83631736, 0.87318124, 0.91118919, 0.95037233, 0.99076254,\n",
       "       1.03239251, 1.07529577, 1.11950669, 1.16506049, 1.21199331,\n",
       "       1.26034217, 1.31014505, 1.36144085, 1.41426948, 1.46867184,\n",
       "       1.52468984, 1.58236645, 1.64174573, 1.70287281, 1.76579398,\n",
       "       1.83055665, 1.89720945, 1.96580218, 2.0363859 , 2.10901295,\n",
       "       2.18373696, 2.26061286, 2.339697  , 2.42104707, 2.50472223,\n",
       "       2.59078307, 2.6792917 , 2.77031175, 2.86390842, 2.96014852,\n",
       "       3.05910051, 3.16083452, 3.26542241, 3.37293782, 3.48345617,\n",
       "       3.59705475, 3.71381273, 3.83381124, 3.95713337, 4.08386425,\n",
       "       4.21409109, 4.34790324, 4.48539221, 4.62665174, 4.77177789,\n",
       "       4.92086901, 5.07402586, 5.23135166, 5.39295213, 5.55893555,\n",
       "       5.72941282, 5.90449755, 6.08430609, 6.26895759, 6.45857411,\n",
       "       6.65328064, 6.8532052 , 7.05847889, 7.26923597, 7.48561396,\n",
       "       7.70775367])"
      ]
     },
     "execution_count": 64,
     "metadata": {},
     "output_type": "execute_result"
    }
   ],
   "source": [
    "RET(0,1,1,100)"
   ]
  },
  {
   "cell_type": "markdown",
   "metadata": {},
   "source": [
    "$\\text{Exercise 2}$\n",
    "\n",
    "1. write a python code to solve the following linear equations\n",
    "\n",
    "\n",
    "\\begin{equation}\n",
    "  \\begin{cases}\n",
    "    x+y+z+w  = 13\\\\\n",
    "    2x+3y-w = -1\\\\\n",
    "    -3x+4y+z+2w  = 10\\\\\n",
    "    x+2y-z+w = 1\n",
    "  \\end{cases}.\n",
    "\\end{equation}\n"
   ]
  },
  {
   "cell_type": "code",
   "execution_count": 11,
   "metadata": {},
   "outputs": [
    {
     "name": "stdout",
     "output_type": "stream",
     "text": [
      "[2.00000000e+00 1.39805862e-16 5.00000000e+00 6.00000000e+00]\n"
     ]
    }
   ],
   "source": [
    "def Noneq(f):\n",
    "    x=f[0]\n",
    "    y=f[1]\n",
    "    w=f[2]\n",
    "    z=f[3]\n",
    "    \n",
    "    F=np.empty(4)\n",
    "    F[0]=x+y+z+w-13\n",
    "    F[1]=2*x+3*y-w+1\n",
    "    F[2]=-3*x+4*y+z+2*w-10\n",
    "    F[3]=x+2*y-z+w-1\n",
    "    return F\n",
    "    \n",
    "zGuess=np.array([1,1,1,1])\n",
    "\n",
    "z=fsolve(Noneq,zGuess)\n",
    "print(z)"
   ]
  },
  {
   "cell_type": "markdown",
   "metadata": {},
   "source": [
    "2. write a python code to solve the following nonlinear equations\n",
    "\\begin{equation}\n",
    "\\begin{cases}\n",
    "    x^2 + y + x = 2\\\\\n",
    "    2e^x + 3y = 8\n",
    "\\end{cases}\n",
    "\\end{equation}"
   ]
  },
  {
   "cell_type": "code",
   "execution_count": 12,
   "metadata": {},
   "outputs": [
    {
     "name": "stdout",
     "output_type": "stream",
     "text": [
      "[-3.50235259e-12  2.00000000e+00]\n"
     ]
    }
   ],
   "source": [
    "def Noneq1(w):\n",
    "    x=w[0]\n",
    "    y=w[1]\n",
    "    \n",
    "    F=np.empty(2)\n",
    "    F[0]=x**2+y+x-2\n",
    "    F[1]=2*np.exp(x)+3*y-8\n",
    "    return F\n",
    "    \n",
    "tGuess=np.array([1,1])\n",
    "\n",
    "z=fsolve(Noneq1,tGuess)\n",
    "print(z)"
   ]
  },
  {
   "cell_type": "code",
   "execution_count": null,
   "metadata": {},
   "outputs": [],
   "source": []
  }
 ],
 "metadata": {
  "kernelspec": {
   "display_name": "Python 3",
   "language": "python",
   "name": "python3"
  },
  "language_info": {
   "codemirror_mode": {
    "name": "ipython",
    "version": 3
   },
   "file_extension": ".py",
   "mimetype": "text/x-python",
   "name": "python",
   "nbconvert_exporter": "python",
   "pygments_lexer": "ipython3",
   "version": "3.7.3"
  }
 },
 "nbformat": 4,
 "nbformat_minor": 4
}
