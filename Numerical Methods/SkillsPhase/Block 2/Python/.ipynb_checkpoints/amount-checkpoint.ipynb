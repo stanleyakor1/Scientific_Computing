{
 "cells": [
  {
   "cell_type": "code",
   "execution_count": null,
   "metadata": {},
   "outputs": [],
   "source": [
    "copies=int(input('enter the number of copies: '))\n",
    "if copies<=0:\n",
    "    Amount= \"Invalid Input\"\n",
    "elif copies<=10 and copies>0:\n",
    "    Amount=copies*20\n",
    "elif copies>10 and copies<=30:\n",
    "    Amount=(10*20)+(copies-10)*15\n",
    "else:\n",
    "    Amount=(10*20)+(15*20)+(copies-30)*10\n",
    "print(Amount,\"Rwf\")"
   ]
  },
  {
   "cell_type": "code",
   "execution_count": null,
   "metadata": {},
   "outputs": [],
   "source": [
    "number=float(input('enter the number: '))\n",
    "square=number*number\n",
    "print(square)"
   ]
  },
  {
   "cell_type": "code",
   "execution_count": 19,
   "metadata": {},
   "outputs": [
    {
     "name": "stdout",
     "output_type": "stream",
     "text": [
      "enter the number of copies: 76\n",
      "960 Rwf\n"
     ]
    }
   ],
   "source": [
    "copies=int(input('enter the number of copies: '))\n",
    "if copies<=0:\n",
    "    Amount= \"Invalid Input\"\n",
    "elif copies<=10:\n",
    "    Amount=copies*20\n",
    "elif copies<=30:\n",
    "    Amount=(10*20)+(copies-10)*15\n",
    "else:\n",
    "    Amount=(10*20)+(15*20)+(copies-30)*10\n",
    "print(Amount,\"Rwf\")"
   ]
  },
  {
   "cell_type": "code",
   "execution_count": null,
   "metadata": {},
   "outputs": [],
   "source": []
  }
 ],
 "metadata": {
  "kernelspec": {
   "display_name": "Python 3",
   "language": "python",
   "name": "python3"
  },
  "language_info": {
   "codemirror_mode": {
    "name": "ipython",
    "version": 3
   },
   "file_extension": ".py",
   "mimetype": "text/x-python",
   "name": "python",
   "nbconvert_exporter": "python",
   "pygments_lexer": "ipython3",
   "version": "3.7.3"
  }
 },
 "nbformat": 4,
 "nbformat_minor": 2
}
