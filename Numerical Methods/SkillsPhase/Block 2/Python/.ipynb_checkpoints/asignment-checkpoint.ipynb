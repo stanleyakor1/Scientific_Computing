{
 "cells": [
  {
   "cell_type": "code",
   "execution_count": 9,
   "metadata": {},
   "outputs": [
    {
     "name": "stdout",
     "output_type": "stream",
     "text": [
      "enter the coefficients of a 5\n",
      "enter the coefficients of b 6\n",
      "enter the coefficients of c 7\n",
      "complex root\n"
     ]
    }
   ],
   "source": [
    "a=int(input('enter the coefficients of a '))\n",
    "b=int(input('enter the coefficients of b '))\n",
    "c=int(input('enter the coefficients of c '))\n",
    "d=b*b-4*a*c\n",
    "if d==0:\n",
    "    e=(-1*b)/2\n",
    "elif d<0:\n",
    "    print(\"complex root\")\n",
    "else:\n",
    "    g=(-1*b+d**0.5)/2\n",
    "    h=(-1*b-d**0.5)/2\n",
    "    print(h,g)"
   ]
  },
  {
   "cell_type": "code",
   "execution_count": 5,
   "metadata": {},
   "outputs": [
    {
     "name": "stdout",
     "output_type": "stream",
     "text": [
      "enter the value of n :59\n",
      "3132900\n"
     ]
    }
   ],
   "source": [
    "n=eval(input(\"enter the value of n :\"))\n",
    "sum=0\n",
    "for i in range(n+1):\n",
    "    sum=sum + (i**3)\n",
    "print(sum)"
   ]
  },
  {
   "cell_type": "code",
   "execution_count": 6,
   "metadata": {},
   "outputs": [
    {
     "name": "stdout",
     "output_type": "stream",
     "text": [
      "enter the value of n :67\n",
      "2278\n"
     ]
    }
   ],
   "source": [
    "n=eval(input(\"enter the value of n :\"))\n",
    "sum=0\n",
    "for i in range(n+1):\n",
    "    sum=sum + (i)\n",
    "print(sum)"
   ]
  },
  {
   "cell_type": "code",
   "execution_count": 4,
   "metadata": {},
   "outputs": [
    {
     "name": "stdout",
     "output_type": "stream",
     "text": [
      "enter the value of n :59\n",
      "3132900\n"
     ]
    }
   ],
   "source": [
    "n=eval(input(\"enter the value of n :\"))\n",
    "sum=0\n",
    "i=1\n",
    "while n>=i:\n",
    "    sum=sum+(i**3)\n",
    "    i=i+1\n",
    "print(sum)    "
   ]
  },
  {
   "cell_type": "code",
   "execution_count": null,
   "metadata": {},
   "outputs": [],
   "source": []
  }
 ],
 "metadata": {
  "kernelspec": {
   "display_name": "Python 3",
   "language": "python",
   "name": "python3"
  },
  "language_info": {
   "codemirror_mode": {
    "name": "ipython",
    "version": 3
   },
   "file_extension": ".py",
   "mimetype": "text/x-python",
   "name": "python",
   "nbconvert_exporter": "python",
   "pygments_lexer": "ipython3",
   "version": "3.7.3"
  }
 },
 "nbformat": 4,
 "nbformat_minor": 2
}
