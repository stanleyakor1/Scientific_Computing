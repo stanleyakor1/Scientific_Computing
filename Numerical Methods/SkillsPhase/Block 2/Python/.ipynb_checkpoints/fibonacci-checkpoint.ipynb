{
 "cells": [
  {
   "cell_type": "code",
   "execution_count": 1,
   "metadata": {},
   "outputs": [
    {
     "name": "stdout",
     "output_type": "stream",
     "text": [
      "enter the value of n7\n",
      "3\n",
      "5\n",
      "8\n",
      "13\n",
      "21\n",
      "34\n"
     ]
    }
   ],
   "source": [
    "n=int(input('enter the value of n'))\n",
    "U0=1\n",
    "U1=2\n",
    "if n==0:\n",
    "    Un=U0\n",
    "    print(Un)\n",
    "elif n==1:\n",
    "    U0=U1\n",
    "    print(U1)\n",
    "else:\n",
    "    for i in range(1,n):\n",
    "        Un=U0+U1\n",
    "        U0=U1\n",
    "        U1=Un\n",
    "        print(Un)"
   ]
  },
  {
   "cell_type": "code",
   "execution_count": 3,
   "metadata": {},
   "outputs": [
    {
     "name": "stdout",
     "output_type": "stream",
     "text": [
      "enter the value of n :8\n",
      "3\n",
      "5\n",
      "8\n",
      "13\n",
      "21\n",
      "34\n",
      "55\n"
     ]
    }
   ],
   "source": [
    "n=int(input('enter the value of n :'))\n",
    "U0=1\n",
    "U1=2\n",
    "if n==0:\n",
    "    Un=U0\n",
    "    print(Un)\n",
    "elif n==1:\n",
    "    U0=U1\n",
    "    print(U1)\n",
    "else:\n",
    "    i=1\n",
    "    while i<n:\n",
    "        Un=U0+U1\n",
    "        U0=U1\n",
    "        U1=Un\n",
    "        i=i+1\n",
    "        print(Un)"
   ]
  },
  {
   "cell_type": "code",
   "execution_count": 1,
   "metadata": {},
   "outputs": [
    {
     "name": "stdout",
     "output_type": "stream",
     "text": [
      "-0.6823278038355056\n"
     ]
    }
   ],
   "source": [
    "def g(x):\n",
    "    return x**3+x+1\n",
    "def bisect(f,a,b):\n",
    "    tol=1e-10\n",
    "    \n",
    "    while(True):\n",
    "        c=(a+b)/2\n",
    "        \n",
    "        if(f(a)*f(c)<0):\n",
    "            b=c\n",
    "            \n",
    "        else:\n",
    "            a=c\n",
    "            \n",
    "        if abs(b-a)<tol:\n",
    "            return (a+b)/2\n",
    "        \n",
    "xroot=bisect(g,-2,2)\n",
    "print(format(xroot))"
   ]
  },
  {
   "cell_type": "code",
   "execution_count": 10,
   "metadata": {},
   "outputs": [
    {
     "name": "stdout",
     "output_type": "stream",
     "text": [
      "enter the value of n :7\n",
      "3\n",
      "5\n",
      "8\n",
      "13\n",
      "21\n",
      "34\n"
     ]
    }
   ],
   "source": [
    "n=int(input('enter the value of n :'))\n",
    "U0=1\n",
    "U1=2\n",
    "Un=0\n",
    "if n==0:\n",
    "    Un=U0\n",
    "    print(Un)\n",
    "elif n==1:\n",
    "    U0=U1\n",
    "    print(U1)\n",
    "else:\n",
    "    for i in range(1,n):\n",
    "        Un=U0+U1\n",
    "        U0=U1\n",
    "        U1=Un\n",
    "        print(Un)"
   ]
  },
  {
   "cell_type": "code",
   "execution_count": 15,
   "metadata": {},
   "outputs": [
    {
     "name": "stdout",
     "output_type": "stream",
     "text": [
      "enter 4847573497\n",
      "4847573497\n"
     ]
    },
    {
     "data": {
      "text/plain": [
       "str"
      ]
     },
     "execution_count": 15,
     "metadata": {},
     "output_type": "execute_result"
    }
   ],
   "source": [
    "x=input('enter ')\n",
    "print(x)\n",
    "type(x)"
   ]
  },
  {
   "cell_type": "code",
   "execution_count": 16,
   "metadata": {},
   "outputs": [
    {
     "data": {
      "text/plain": [
       "str"
      ]
     },
     "execution_count": 16,
     "metadata": {},
     "output_type": "execute_result"
    }
   ],
   "source": [
    "aa=4387340.59\n",
    "type(x)"
   ]
  },
  {
   "cell_type": "code",
   "execution_count": 18,
   "metadata": {},
   "outputs": [
    {
     "name": "stdout",
     "output_type": "stream",
     "text": [
      "fkjsfhsjdksjdjgh;df\n"
     ]
    }
   ],
   "source": [
    "x='fkjsfhsjd'\n",
    "y='ksjdjgh;df'\n",
    "a=x+y\n",
    "print(a)"
   ]
  },
  {
   "cell_type": "code",
   "execution_count": 21,
   "metadata": {},
   "outputs": [
    {
     "name": "stdout",
     "output_type": "stream",
     "text": [
      "this is \n",
      "stans strung\n"
     ]
    }
   ],
   "source": [
    "a='this is \\nstans strung'\n",
    "print(a)"
   ]
  },
  {
   "cell_type": "code",
   "execution_count": 25,
   "metadata": {},
   "outputs": [
    {
     "name": "stdout",
     "output_type": "stream",
     "text": [
      "enter a positive value7\n",
      "7 77 77777777\n"
     ]
    },
    {
     "data": {
      "text/plain": [
       "8"
      ]
     },
     "execution_count": 25,
     "metadata": {},
     "output_type": "execute_result"
    }
   ],
   "source": [
    "a=input('enter a positive value')\n",
    "b=2*a\n",
    "c=4*b\n",
    "print(a,b,c)\n",
    "len(a)\n",
    "len(c)"
   ]
  },
  {
   "cell_type": "code",
   "execution_count": 32,
   "metadata": {},
   "outputs": [
    {
     "data": {
      "text/plain": [
       "51"
      ]
     },
     "execution_count": 32,
     "metadata": {},
     "output_type": "execute_result"
    }
   ],
   "source": [
    "a='plese friend could you help me with my assugnments please reply as soon as possible becarse i plan on taking the ields soon, thankyou'\n",
    "a[5:25]\n",
    "a.split('a')\n",
    "a.find('please')"
   ]
  },
  {
   "cell_type": "code",
   "execution_count": 1,
   "metadata": {},
   "outputs": [
    {
     "ename": "SyntaxError",
     "evalue": "invalid syntax (<ipython-input-1-6b0d3180bd0a>, line 4)",
     "output_type": "error",
     "traceback": [
      "\u001b[0;36m  File \u001b[0;32m\"<ipython-input-1-6b0d3180bd0a>\"\u001b[0;36m, line \u001b[0;32m4\u001b[0m\n\u001b[0;31m    while x>0:\u001b[0m\n\u001b[0m        ^\u001b[0m\n\u001b[0;31mSyntaxError\u001b[0m\u001b[0;31m:\u001b[0m invalid syntax\n"
     ]
    }
   ],
   "source": [
    "x=input('enter the number')\n",
    "y=int(input('enter the valur od')\n",
    "      \n",
    "while x>0:\n",
    "      z=x*y\n",
    "      i=i-1\n",
    "      print(z)"
   ]
  },
  {
   "cell_type": "code",
   "execution_count": null,
   "metadata": {},
   "outputs": [],
   "source": []
  }
 ],
 "metadata": {
  "kernelspec": {
   "display_name": "Python 3",
   "language": "python",
   "name": "python3"
  },
  "language_info": {
   "codemirror_mode": {
    "name": "ipython",
    "version": 3
   },
   "file_extension": ".py",
   "mimetype": "text/x-python",
   "name": "python",
   "nbconvert_exporter": "python",
   "pygments_lexer": "ipython3",
   "version": "3.7.3"
  }
 },
 "nbformat": 4,
 "nbformat_minor": 2
}
