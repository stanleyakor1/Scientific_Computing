{
 "cells": [
  {
   "cell_type": "code",
   "execution_count": 7,
   "metadata": {},
   "outputs": [
    {
     "name": "stdout",
     "output_type": "stream",
     "text": [
      "1029000\n"
     ]
    }
   ],
   "source": [
    "h=lambda x,y,u:x**3+u**3+x*y*u+y**3\n",
    "x=10\n",
    "y=20\n",
    "u=100\n",
    "f_x=h(x,y,u)\n",
    "print(format(f_x))"
   ]
  },
  {
   "cell_type": "code",
   "execution_count": 8,
   "metadata": {},
   "outputs": [
    {
     "data": {
      "text/plain": [
       "1029000"
      ]
     },
     "execution_count": 8,
     "metadata": {},
     "output_type": "execute_result"
    }
   ],
   "source": [
    "h=lambda x,y,u:x**3+u**3+x*y*u+y**3\n",
    "h(10,20,100)"
   ]
  },
  {
   "cell_type": "code",
   "execution_count": 2,
   "metadata": {},
   "outputs": [
    {
     "data": {
      "text/plain": [
       "9"
      ]
     },
     "execution_count": 2,
     "metadata": {},
     "output_type": "execute_result"
    }
   ],
   "source": [
    "def f(t):\n",
    "    return t**2\n",
    "f(3)"
   ]
  },
  {
   "cell_type": "code",
   "execution_count": 6,
   "metadata": {},
   "outputs": [
    {
     "data": {
      "text/plain": [
       "50.272"
      ]
     },
     "execution_count": 6,
     "metadata": {},
     "output_type": "execute_result"
    }
   ],
   "source": [
    "def disk(radius):\n",
    "    return 3.142*radius*radius\n",
    "disk(3)\n",
    "disk(4)"
   ]
  },
  {
   "cell_type": "code",
   "execution_count": 8,
   "metadata": {},
   "outputs": [
    {
     "data": {
      "text/plain": [
       "141.39"
      ]
     },
     "execution_count": 8,
     "metadata": {},
     "output_type": "execute_result"
    }
   ],
   "source": [
    "def disk(radius,height):\n",
    "    return 3.142*radius*radius*height\n",
    "disk(3,5)\n"
   ]
  },
  {
   "cell_type": "code",
   "execution_count": 27,
   "metadata": {},
   "outputs": [
    {
     "data": {
      "text/plain": [
       "7"
      ]
     },
     "execution_count": 27,
     "metadata": {},
     "output_type": "execute_result"
    }
   ],
   "source": [
    "def name_bar(x):\n",
    "    return len(x)\n",
    "\n",
    "\n",
    "x ='stanley'\n",
    "name_bar(x)"
   ]
  },
  {
   "cell_type": "code",
   "execution_count": 28,
   "metadata": {},
   "outputs": [
    {
     "data": {
      "text/plain": [
       "7"
      ]
     },
     "execution_count": 28,
     "metadata": {},
     "output_type": "execute_result"
    }
   ],
   "source": [
    "def name_bar(name):\n",
    "    return len(name)\n",
    "name='stanley'\n",
    "name_bar(name)"
   ]
  },
  {
   "cell_type": "code",
   "execution_count": 2,
   "metadata": {},
   "outputs": [
    {
     "data": {
      "text/plain": [
       "7"
      ]
     },
     "execution_count": 2,
     "metadata": {},
     "output_type": "execute_result"
    }
   ],
   "source": [
    "\n",
    "def add(x,y):\n",
    "    return x+y\n",
    "add(3,4)"
   ]
  },
  {
   "cell_type": "code",
   "execution_count": 6,
   "metadata": {},
   "outputs": [
    {
     "data": {
      "text/plain": [
       "7"
      ]
     },
     "execution_count": 6,
     "metadata": {},
     "output_type": "execute_result"
    }
   ],
   "source": [
    "add(3,4)"
   ]
  },
  {
   "cell_type": "code",
   "execution_count": 5,
   "metadata": {},
   "outputs": [
    {
     "data": {
      "text/plain": [
       "'sorry'"
      ]
     },
     "execution_count": 5,
     "metadata": {},
     "output_type": "execute_result"
    }
   ],
   "source": [
    "def shut_down(x):\n",
    "    if x=='yes':\n",
    "        return 'shutting down'\n",
    "    elif x=='no':\n",
    "        return 'shutdown aborted'\n",
    "    else:\n",
    "        return 'sorry'\n",
    "shut_down('stanley')"
   ]
  },
  {
   "cell_type": "code",
   "execution_count": 41,
   "metadata": {},
   "outputs": [
    {
     "data": {
      "text/plain": [
       "55"
      ]
     },
     "execution_count": 41,
     "metadata": {},
     "output_type": "execute_result"
    }
   ],
   "source": [
    "def summation(n):\n",
    "    summ=0\n",
    "    for i in range(n+1):\n",
    "        summ=summ+i\n",
    "\n",
    "        \n",
    "    return summ\n",
    "\n",
    "\n",
    "summation(10)\n"
   ]
  },
  {
   "cell_type": "code",
   "execution_count": 38,
   "metadata": {},
   "outputs": [
    {
     "data": {
      "text/plain": [
       "385"
      ]
     },
     "execution_count": 38,
     "metadata": {},
     "output_type": "execute_result"
    }
   ],
   "source": [
    "def sum_square(n):\n",
    "    summ=0\n",
    "    for i in range(1,n+1):\n",
    "        summ=summ+i**2\n",
    "    return summ\n",
    "sum_square(10)"
   ]
  },
  {
   "cell_type": "code",
   "execution_count": 42,
   "metadata": {},
   "outputs": [
    {
     "data": {
      "text/plain": [
       "139"
      ]
     },
     "execution_count": 42,
     "metadata": {},
     "output_type": "execute_result"
    }
   ],
   "source": [
    "def sum_square(m,n):\n",
    "    summ=0\n",
    "    for i in range(m,n+1):\n",
    "        summ=summ+i**2\n",
    "    return summ\n",
    "sum_square(2,7)"
   ]
  },
  {
   "cell_type": "code",
   "execution_count": 21,
   "metadata": {},
   "outputs": [],
   "source": [
    "Sum_n= lambda n: 10"
   ]
  },
  {
   "cell_type": "code",
   "execution_count": 14,
   "metadata": {},
   "outputs": [
    {
     "name": "stdout",
     "output_type": "stream",
     "text": [
      "55\n"
     ]
    }
   ],
   "source": [
    "summ=0\n",
    "for i in range(1,11):\n",
    "    summ=summ+i\n",
    "    i=i+1\n",
    "print(summ)"
   ]
  },
  {
   "cell_type": "code",
   "execution_count": 10,
   "metadata": {},
   "outputs": [],
   "source": [
    "def f(x):\n",
    "    return x**3-7*x-5\n",
    "def Bisection(epsilon):\n",
    "    a=-10\n",
    "    b=10\n",
    "    if f(a)*f(b)>=0:\n",
    "        print ('bisection method fails')\n",
    "        \n",
    "    else:\n",
    "        while abs(b-a)>epsilon:\n",
    "                c=(a+b)/2\n",
    "                \n",
    "                if f(c)==0:\n",
    "                    print('the resul solution is: ',c)\n",
    "                elif f(a)*f(c)<0:\n",
    "                    b=c\n",
    "                else:\n",
    "                    a=c\n",
    "        return c, f(c)\n",
    "        print('the approximation is c: ',c)\n",
    "        \n"
   ]
  },
  {
   "cell_type": "code",
   "execution_count": 11,
   "metadata": {},
   "outputs": [
    {
     "data": {
      "text/plain": [
       "(2.9488277435302734, -1.173056690362273e-05)"
      ]
     },
     "execution_count": 11,
     "metadata": {},
     "output_type": "execute_result"
    }
   ],
   "source": [
    "Bisection(1e-5)"
   ]
  },
  {
   "cell_type": "code",
   "execution_count": 12,
   "metadata": {},
   "outputs": [],
   "source": [
    "\n",
    "def Bisection(epsilon):\n",
    "    a=-10\n",
    "    b=10\n",
    "    f=lambda x:x**3-3*x-5\n",
    "    \n",
    "    if f(a)*f(b)>=0:\n",
    "        print ('bisection method fails')\n",
    "        \n",
    "    else:\n",
    "        while abs(b-a)>epsilon:\n",
    "                c=(a+b)/2\n",
    "                \n",
    "                if f(c)==0:\n",
    "                    print('the resul solution is: ',c)\n",
    "                elif f(a)*f(c)<0:\n",
    "                    b=c\n",
    "                else:\n",
    "                    a=c\n",
    "        return c,f(c)\n",
    "        print('the approximation is c: ',c)"
   ]
  },
  {
   "cell_type": "code",
   "execution_count": 89,
   "metadata": {},
   "outputs": [
    {
     "name": "stdout",
     "output_type": "stream",
     "text": [
      "2.279024124145508 , 6.716147053431598e-05\n"
     ]
    }
   ],
   "source": [
    "\n",
    "def Bisection(epsilon, a, b, f):\n",
    "    #a=-10\n",
    "    #b=10\n",
    "    #f=lambda x:x**3-3*x-5\n",
    "    \n",
    "    if f(a)*f(b)>=0:\n",
    "        print ('bisection method fails')\n",
    "        \n",
    "    else:\n",
    "        while abs(b-a)>epsilon:\n",
    "                c=(a+b)/2\n",
    "                \n",
    "                if f(c)==0:\n",
    "                    print('the resul solution is: ',c)\n",
    "                elif f(a)*f(c)<0:\n",
    "                    b=c\n",
    "                else:\n",
    "                    a=c   \n",
    "    return c,f(c)\n",
    "\n",
    "f =lambda x:x**3 -3*x - 5\n",
    "a = -10\n",
    "b = 10\n",
    "epsilon = 1e-5\n",
    "x_bar, f_xbar = Bisection(epsilon,a,b,f)\n",
    "print(x_bar, ',',f_xbar)"
   ]
  },
  {
   "cell_type": "code",
   "execution_count": 13,
   "metadata": {},
   "outputs": [
    {
     "data": {
      "text/plain": [
       "(2.279024124145508, 6.716147053431598e-05)"
      ]
     },
     "execution_count": 13,
     "metadata": {},
     "output_type": "execute_result"
    }
   ],
   "source": [
    "Bisection(10**(-5))"
   ]
  },
  {
   "cell_type": "code",
   "execution_count": null,
   "metadata": {},
   "outputs": [],
   "source": [
    "a=float(input('enter the value of a'))\n",
    "b=float(input('enter the value of b'))\n",
    "e=1e-5\n",
    "\n",
    "if (a**3=-3*a-5)* (b**3=-3*b-5)>=0:"
   ]
  },
  {
   "cell_type": "code",
   "execution_count": 16,
   "metadata": {},
   "outputs": [],
   "source": [
    "def summation(integer):\n",
    "    summ=0\n",
    "    for i in range(1,integer+1):\n",
    "        summ=summ+i\n",
    "    return summ, integer\n",
    "def product(n,m):\n",
    "    product=0\n",
    "    for i in range(n+1):\n",
    "        product=n*m\n",
    "    return product,n"
   ]
  },
  {
   "cell_type": "code",
   "execution_count": 17,
   "metadata": {},
   "outputs": [
    {
     "data": {
      "text/plain": [
       "(10, 4)"
      ]
     },
     "execution_count": 17,
     "metadata": {},
     "output_type": "execute_result"
    }
   ],
   "source": [
    "summation(4)"
   ]
  },
  {
   "cell_type": "code",
   "execution_count": 18,
   "metadata": {},
   "outputs": [
    {
     "data": {
      "text/plain": [
       "(6, 2)"
      ]
     },
     "execution_count": 18,
     "metadata": {},
     "output_type": "execute_result"
    }
   ],
   "source": [
    "product(2,3)"
   ]
  },
  {
   "cell_type": "code",
   "execution_count": 36,
   "metadata": {},
   "outputs": [
    {
     "name": "stdout",
     "output_type": "stream",
     "text": [
      "6 , 6\n"
     ]
    }
   ],
   "source": [
    "def summation(n,m):\n",
    "    summ=0\n",
    "    product =1\n",
    "    for i in range(m,n+1):\n",
    "        summ=summ+i\n",
    "        product=product*i\n",
    "    return summ,product\n",
    "\n",
    "summ_bar, product_bar= summation(3,1)\n",
    "print(summ_bar,',', product_bar)"
   ]
  },
  {
   "cell_type": "code",
   "execution_count": 32,
   "metadata": {},
   "outputs": [
    {
     "data": {
      "text/plain": [
       "(6, 6)"
      ]
     },
     "execution_count": 32,
     "metadata": {},
     "output_type": "execute_result"
    }
   ],
   "source": [
    "summation(3,1)"
   ]
  },
  {
   "cell_type": "code",
   "execution_count": 46,
   "metadata": {},
   "outputs": [],
   "source": [
    "def function(x):\n",
    "    return x**3-3*x\n",
    "def Bisection(epsilon):\n",
    "    epsilon=1e-5\n",
    "    a=-10\n",
    "    b=10\n",
    "    if f(a)*f(b)>=0:\n",
    "        print('approximation does not exist in this range')\n",
    "    else:\n",
    "    \n",
    "        while abs(b-a)>epsilon:\n",
    "            c=(a+b)/2\n",
    "            \n",
    "            if f(c)==0:\n",
    "                print('the result is c', c)\n",
    "            elif f(a)*f(c)<0:\n",
    "                b=c\n",
    "            else:\n",
    "                a=c\n",
    "        return c\n",
    "        print(c)\n",
    "        "
   ]
  },
  {
   "cell_type": "code",
   "execution_count": 48,
   "metadata": {},
   "outputs": [
    {
     "data": {
      "text/plain": [
       "2.279024124145508"
      ]
     },
     "execution_count": 48,
     "metadata": {},
     "output_type": "execute_result"
    }
   ],
   "source": [
    "Bisection(1e-4)"
   ]
  },
  {
   "cell_type": "code",
   "execution_count": 25,
   "metadata": {},
   "outputs": [],
   "source": [
    "def prime(n):\n",
    "    if n==1:\n",
    "        return '%d is not a prime'%n\n",
    "    for i in range(2,n):\n",
    "        if n%i==0:\n",
    "            return 'not prime'\n",
    "    else:\n",
    "    \n",
    "        return 'prime'"
   ]
  },
  {
   "cell_type": "code",
   "execution_count": 26,
   "metadata": {},
   "outputs": [
    {
     "data": {
      "text/plain": [
       "'prime'"
      ]
     },
     "execution_count": 26,
     "metadata": {},
     "output_type": "execute_result"
    }
   ],
   "source": [
    "prime(2)"
   ]
  },
  {
   "cell_type": "code",
   "execution_count": 22,
   "metadata": {},
   "outputs": [],
   "source": [
    "def prime(n):\n",
    "    for i in range(2,n):\n",
    "        if n%i==0:\n",
    "            return 'not prime'\n",
    "    \n",
    "    \n",
    "    return 'prime'"
   ]
  },
  {
   "cell_type": "code",
   "execution_count": 23,
   "metadata": {},
   "outputs": [
    {
     "data": {
      "text/plain": [
       "'prime'"
      ]
     },
     "execution_count": 23,
     "metadata": {},
     "output_type": "execute_result"
    }
   ],
   "source": [
    "prime(2)"
   ]
  },
  {
   "cell_type": "code",
   "execution_count": 70,
   "metadata": {},
   "outputs": [],
   "source": [
    "def even(x):\n",
    "    for i in range(x+1):\n",
    "        if i%2==0:\n",
    "            return i"
   ]
  },
  {
   "cell_type": "code",
   "execution_count": 72,
   "metadata": {},
   "outputs": [
    {
     "data": {
      "text/plain": [
       "0"
      ]
     },
     "execution_count": 72,
     "metadata": {},
     "output_type": "execute_result"
    }
   ],
   "source": [
    "even(10)"
   ]
  },
  {
   "cell_type": "code",
   "execution_count": 39,
   "metadata": {},
   "outputs": [],
   "source": [
    "def even(n):\n",
    "    i=0\n",
    "    \n",
    "    return [i for i in range(n+1) if i%2==0]"
   ]
  },
  {
   "cell_type": "code",
   "execution_count": 40,
   "metadata": {},
   "outputs": [
    {
     "data": {
      "text/plain": [
       "[0, 2, 4, 6, 8, 10, 12]"
      ]
     },
     "execution_count": 40,
     "metadata": {},
     "output_type": "execute_result"
    }
   ],
   "source": [
    "even(12)"
   ]
  },
  {
   "cell_type": "code",
   "execution_count": 109,
   "metadata": {},
   "outputs": [],
   "source": [
    "def rangechecker(n,lt):\n",
    "    if (n in lt):\n",
    "        return {n},'is in the range'\n",
    "    else:\n",
    "        return \"the number is outside the given range\""
   ]
  },
  {
   "cell_type": "code",
   "execution_count": 11,
   "metadata": {},
   "outputs": [
    {
     "data": {
      "text/plain": [
       "'The number is outside the given range'"
      ]
     },
     "execution_count": 11,
     "metadata": {},
     "output_type": "execute_result"
    }
   ],
   "source": [
    "def InRange(n,r):\n",
    "    if n>= r[0] and n<=r[1]:\n",
    "        return '{} is in the range'.format(n)\n",
    "    return 'The number is outside the given range'\n",
    "\n",
    "InRange(900,[0,100])\n",
    "    "
   ]
  },
  {
   "cell_type": "code",
   "execution_count": 110,
   "metadata": {},
   "outputs": [
    {
     "data": {
      "text/plain": [
       "({20}, 'is in the range')"
      ]
     },
     "execution_count": 110,
     "metadata": {},
     "output_type": "execute_result"
    }
   ],
   "source": [
    "rangechecker(20,list(range(1,200)))"
   ]
  },
  {
   "cell_type": "code",
   "execution_count": 41,
   "metadata": {},
   "outputs": [
    {
     "data": {
      "text/plain": [
       "2"
      ]
     },
     "execution_count": 41,
     "metadata": {},
     "output_type": "execute_result"
    }
   ],
   "source": [
    "def sum_nm(n,m):\n",
    "    total=1\n",
    "    for i in range(m,n+1):\n",
    "        total=total +i*i\n",
    "        return i\n",
    "    \n",
    "sum_nm(3,2)        "
   ]
  },
  {
   "cell_type": "code",
   "execution_count": 55,
   "metadata": {},
   "outputs": [
    {
     "data": {
      "text/plain": [
       "[2, 4, 6, 8, 10, 12]"
      ]
     },
     "execution_count": 55,
     "metadata": {},
     "output_type": "execute_result"
    }
   ],
   "source": [
    "def EvenNum(list1):\n",
    "    list2=[]\n",
    "    for i in list1:\n",
    "        if i%2==0:\n",
    "            list2.append(i)\n",
    "    return list2\n",
    "\n",
    "EvenNum((0.1,2,3,4,5,6,7,8,9,10,11,12))"
   ]
  },
  {
   "cell_type": "code",
   "execution_count": 73,
   "metadata": {},
   "outputs": [
    {
     "name": "stdout",
     "output_type": "stream",
     "text": [
      "*******\n",
      "*     *\n",
      "*     *\n",
      "*     *\n",
      "*     *\n",
      "*     *\n",
      "*******\n"
     ]
    }
   ],
   "source": [
    "def square(n,m):\n",
    "    \n",
    "    print('*'*n)\n",
    "    \n",
    "    for i in range(n-2):\n",
    "        print('*'+' '*(n-2)+'*')\n",
    "    print('*'*n)\n",
    "    \n",
    "square(7,3)"
   ]
  },
  {
   "cell_type": "code",
   "execution_count": null,
   "metadata": {},
   "outputs": [],
   "source": [
    "def comparison(n,m):\n",
    "    if len(n)> len(m):\n",
    "        for a[i]!=b[i] for i in range(len(s)+1):\n",
    "            return i\n",
    "    else:\n",
    "        "
   ]
  },
  {
   "cell_type": "code",
   "execution_count": 61,
   "metadata": {},
   "outputs": [
    {
     "ename": "IndexError",
     "evalue": "string index out of range",
     "output_type": "error",
     "traceback": [
      "\u001b[0;31m---------------------------------------------------------------------------\u001b[0m",
      "\u001b[0;31mIndexError\u001b[0m                                Traceback (most recent call last)",
      "\u001b[0;32m<ipython-input-61-5da3dd45cc4b>\u001b[0m in \u001b[0;36m<module>\u001b[0;34m()\u001b[0m\n\u001b[1;32m     12\u001b[0m     \u001b[0;32melse\u001b[0m\u001b[0;34m:\u001b[0m\u001b[0;34m\u001b[0m\u001b[0;34m\u001b[0m\u001b[0m\n\u001b[1;32m     13\u001b[0m         \u001b[0;32mreturn\u001b[0m \u001b[0mi\u001b[0m\u001b[0;34m+\u001b[0m\u001b[0;36m1\u001b[0m\u001b[0;34m\u001b[0m\u001b[0;34m\u001b[0m\u001b[0m\n\u001b[0;32m---> 14\u001b[0;31m \u001b[0mcomparison\u001b[0m\u001b[0;34m(\u001b[0m\u001b[0;34m'stan'\u001b[0m\u001b[0;34m,\u001b[0m\u001b[0;34m'stanley'\u001b[0m\u001b[0;34m)\u001b[0m\u001b[0;34m\u001b[0m\u001b[0;34m\u001b[0m\u001b[0m\n\u001b[0m",
      "\u001b[0;32m<ipython-input-61-5da3dd45cc4b>\u001b[0m in \u001b[0;36mcomparison\u001b[0;34m(n, m)\u001b[0m\n\u001b[1;32m      6\u001b[0m \u001b[0;34m\u001b[0m\u001b[0m\n\u001b[1;32m      7\u001b[0m     \u001b[0;32mfor\u001b[0m \u001b[0mi\u001b[0m \u001b[0;32min\u001b[0m \u001b[0mrange\u001b[0m\u001b[0;34m(\u001b[0m\u001b[0mk\u001b[0m\u001b[0;34m)\u001b[0m\u001b[0;34m:\u001b[0m\u001b[0;34m\u001b[0m\u001b[0;34m\u001b[0m\u001b[0m\n\u001b[0;32m----> 8\u001b[0;31m         \u001b[0;32mif\u001b[0m \u001b[0mn\u001b[0m\u001b[0;34m[\u001b[0m\u001b[0mi\u001b[0m\u001b[0;34m]\u001b[0m\u001b[0;34m!=\u001b[0m\u001b[0mm\u001b[0m\u001b[0;34m[\u001b[0m\u001b[0mi\u001b[0m\u001b[0;34m]\u001b[0m\u001b[0;34m:\u001b[0m\u001b[0;34m\u001b[0m\u001b[0;34m\u001b[0m\u001b[0m\n\u001b[0m\u001b[1;32m      9\u001b[0m             \u001b[0;32mreturn\u001b[0m \u001b[0;36m1\u001b[0m\u001b[0;34m\u001b[0m\u001b[0;34m\u001b[0m\u001b[0m\n\u001b[1;32m     10\u001b[0m     \u001b[0;32mif\u001b[0m \u001b[0mlen\u001b[0m\u001b[0;34m(\u001b[0m\u001b[0mm\u001b[0m\u001b[0;34m)\u001b[0m\u001b[0;34m==\u001b[0m\u001b[0mlen\u001b[0m\u001b[0;34m(\u001b[0m\u001b[0mn\u001b[0m\u001b[0;34m)\u001b[0m\u001b[0;34m:\u001b[0m\u001b[0;34m\u001b[0m\u001b[0;34m\u001b[0m\u001b[0m\n",
      "\u001b[0;31mIndexError\u001b[0m: string index out of range"
     ]
    }
   ],
   "source": [
    "def comparison(n,m):\n",
    "    if len(n)>= len(m):\n",
    "        k=len(n)\n",
    "    else:\n",
    "        k=len(m)\n",
    "        \n",
    "    for i in range(k): \n",
    "        if n[i]!=m[i]:\n",
    "            return 1    \n",
    "    if len(m)==len(n):\n",
    "        return -1\n",
    "    else:\n",
    "        return i+1\n",
    "comparison('stan','stanley')"
   ]
  },
  {
   "cell_type": "code",
   "execution_count": 62,
   "metadata": {},
   "outputs": [],
   "source": [
    "def frist_duff(s,j):\n",
    "    if len(s)<=len(j):\n",
    "        n=len(s)\n",
    "    else:\n",
    "        n=len(j)\n",
    "    for i in range(n):\n",
    "        if s[i]!=j[i]:\n",
    "            return 1\n",
    "    if len(s)==len(j):\n",
    "        return -1\n",
    "    else:\n",
    "        return n\n"
   ]
  },
  {
   "cell_type": "code",
   "execution_count": 63,
   "metadata": {},
   "outputs": [
    {
     "data": {
      "text/plain": [
       "4"
      ]
     },
     "execution_count": 63,
     "metadata": {},
     "output_type": "execute_result"
    }
   ],
   "source": [
    "frist_duff('stanley','stan')"
   ]
  },
  {
   "cell_type": "code",
   "execution_count": 15,
   "metadata": {},
   "outputs": [],
   "source": [
    "def sorte(L,n):\n",
    "    L.sort()\n",
    "    \n",
    "    for i in  range(len(L)):\n",
    "        if n<L[i]:\n",
    "            \n",
    "            return i-1\n",
    "    \n",
    "    \n",
    "        "
   ]
  },
  {
   "cell_type": "code",
   "execution_count": 16,
   "metadata": {},
   "outputs": [
    {
     "data": {
      "text/plain": [
       "0"
      ]
     },
     "execution_count": 16,
     "metadata": {},
     "output_type": "execute_result"
    }
   ],
   "source": [
    "sorte([5,3,5,7,8],3)"
   ]
  },
  {
   "cell_type": "code",
   "execution_count": 1,
   "metadata": {},
   "outputs": [],
   "source": [
    "def sorte(L,n):\n",
    "    \n",
    "    for i in range(len(L)):\n",
    "        if n<=L[i]:\n",
    "            return i-1\n",
    "        elif n>L[i]:\n",
    "            return i+1\n",
    "    return len(L)+1"
   ]
  },
  {
   "cell_type": "code",
   "execution_count": 2,
   "metadata": {},
   "outputs": [
    {
     "data": {
      "text/plain": [
       "1"
      ]
     },
     "execution_count": 2,
     "metadata": {},
     "output_type": "execute_result"
    }
   ],
   "source": [
    "sorte([3,5,5,7,8],9)"
   ]
  },
  {
   "cell_type": "code",
   "execution_count": 79,
   "metadata": {},
   "outputs": [],
   "source": [
    "def sorte(L,n):\n",
    "    a=len(L)\n",
    "   \n",
    "    if L==[]:\n",
    "        return 0 \n",
    "    elif L[0]>=n:\n",
    "        \n",
    "        return 0\n",
    "    elif n>L[-1]:\n",
    "        return len(L)\n",
    "    else:\n",
    "        for i in range(len(L)):\n",
    "            if n<=L[i]:\n",
    "                return i\n",
    "         \n",
    "        "
   ]
  },
  {
   "cell_type": "code",
   "execution_count": 80,
   "metadata": {},
   "outputs": [
    {
     "data": {
      "text/plain": [
       "0"
      ]
     },
     "execution_count": 80,
     "metadata": {},
     "output_type": "execute_result"
    }
   ],
   "source": [
    "sorte([3,5,5,7,8],3)"
   ]
  },
  {
   "cell_type": "code",
   "execution_count": 83,
   "metadata": {},
   "outputs": [],
   "source": [
    "def sort_ind(l):\n",
    "    b=[]\n",
    "    for n in l:\n",
    "        i=sorte(b,n)\n",
    "        b.insert(i,n)\n",
    "    return b"
   ]
  },
  {
   "cell_type": "code",
   "execution_count": 84,
   "metadata": {},
   "outputs": [
    {
     "data": {
      "text/plain": [
       "[2, 2, 4, 5, 6]"
      ]
     },
     "execution_count": 84,
     "metadata": {},
     "output_type": "execute_result"
    }
   ],
   "source": [
    "sort_ind([2,4,5,6,2,])"
   ]
  },
  {
   "cell_type": "code",
   "execution_count": 14,
   "metadata": {},
   "outputs": [],
   "source": [
    "def is_sorted(sort):\n",
    "    a=0\n",
    "    for i in range(0,len(sort)):\n",
    "        if a<=sort[i]:\n",
    "            return True\n",
    "        \n",
    "    return False\n",
    "        "
   ]
  },
  {
   "cell_type": "code",
   "execution_count": 15,
   "metadata": {},
   "outputs": [
    {
     "data": {
      "text/plain": [
       "True"
      ]
     },
     "execution_count": 15,
     "metadata": {},
     "output_type": "execute_result"
    }
   ],
   "source": [
    "is_sorted([1,4,3,5,2,6])"
   ]
  },
  {
   "cell_type": "code",
   "execution_count": 31,
   "metadata": {},
   "outputs": [],
   "source": [
    "def primes(n=100):\n",
    "    for i in range(2,n):\n",
    "        if n%i==0:\n",
    "            return False\n",
    "        \n",
    "    return True\n",
    "def printprimes(n):\n",
    "    for i in range(2,n+1):\n",
    "        if primes(i):\n",
    "            print(i,end=',')\n"
   ]
  },
  {
   "cell_type": "code",
   "execution_count": 32,
   "metadata": {},
   "outputs": [
    {
     "name": "stdout",
     "output_type": "stream",
     "text": [
      "2,3,5,7,11,13,17,19,23,29,31,37,41,43,47,53,59,61,67,71,73,79,83,89,97,"
     ]
    }
   ],
   "source": [
    "printprimes(100)"
   ]
  },
  {
   "cell_type": "code",
   "execution_count": 35,
   "metadata": {},
   "outputs": [],
   "source": [
    "def is_sorted(l):\n",
    "    for i in range(len(l)):\n",
    "        if l[i-1]<=l[i]:\n",
    "            return True\n",
    "    return False"
   ]
  },
  {
   "cell_type": "code",
   "execution_count": 36,
   "metadata": {},
   "outputs": [
    {
     "data": {
      "text/plain": [
       "True"
      ]
     },
     "execution_count": 36,
     "metadata": {},
     "output_type": "execute_result"
    }
   ],
   "source": [
    "is_sorted([3,5,2,4])"
   ]
  },
  {
   "cell_type": "code",
   "execution_count": 45,
   "metadata": {},
   "outputs": [],
   "source": [
    "def merge(l1,l2):\n",
    "    if l1[0]>=l2[0]:\n",
    "        print(l1+l2)\n",
    "        \n",
    "    else:\n",
    "        print(l2+l1)"
   ]
  },
  {
   "cell_type": "code",
   "execution_count": 44,
   "metadata": {},
   "outputs": [
    {
     "name": "stdout",
     "output_type": "stream",
     "text": [
      "[2, 4, 5, 1, 2, 3]\n"
     ]
    }
   ],
   "source": [
    "merge([2,4,5],[1,2,3])"
   ]
  },
  {
   "cell_type": "code",
   "execution_count": null,
   "metadata": {},
   "outputs": [],
   "source": []
  }
 ],
 "metadata": {
  "kernelspec": {
   "display_name": "Python 3 (ipykernel)",
   "language": "python",
   "name": "python3"
  },
  "language_info": {
   "codemirror_mode": {
    "name": "ipython",
    "version": 3
   },
   "file_extension": ".py",
   "mimetype": "text/x-python",
   "name": "python",
   "nbconvert_exporter": "python",
   "pygments_lexer": "ipython3",
   "version": "3.10.6"
  }
 },
 "nbformat": 4,
 "nbformat_minor": 4
}
