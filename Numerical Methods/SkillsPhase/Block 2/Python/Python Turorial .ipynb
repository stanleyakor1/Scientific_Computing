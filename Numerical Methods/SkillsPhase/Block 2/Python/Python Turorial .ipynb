{
 "cells": [
  {
   "cell_type": "code",
   "execution_count": null,
   "metadata": {},
   "outputs": [],
   "source": [
    "x=int(input('enter the number'))#september 24th\n",
    "if 3<=x<=5:\n",
    "    print('summer')\n",
    "elif x>=6 and x<=8:\n",
    "    print('summer')\n",
    "elif x>=9 and x<=11:\n",
    "    print('autum')\n",
    "else:\n",
    "    print('winter')"
   ]
  },
  {
   "cell_type": "code",
   "execution_count": null,
   "metadata": {},
   "outputs": [],
   "source": []
  },
  {
   "cell_type": "code",
   "execution_count": 8,
   "metadata": {},
   "outputs": [
    {
     "name": "stdout",
     "output_type": "stream",
     "text": [
      "enter the value of n :4\n",
      "1.0\n",
      "0.3333333333333333\n",
      "0.16666666666666666\n",
      "0.1\n"
     ]
    }
   ],
   "source": [
    "n=int(input('enter the value of n :'))\n",
    "sum=0\n",
    "a=0\n",
    "for i in range(1,n+1):\n",
    "    sum=sum+i\n",
    "    a=1/sum\n",
    "    print(a)"
   ]
  },
  {
   "cell_type": "code",
   "execution_count": null,
   "metadata": {},
   "outputs": [],
   "source": []
  },
  {
   "cell_type": "code",
   "execution_count": 5,
   "metadata": {},
   "outputs": [
    {
     "name": "stdout",
     "output_type": "stream",
     "text": [
      "enter the value of k4\n",
      "1\n",
      "3\n",
      "6\n",
      "8\n",
      "12\n",
      "18\n",
      "21\n",
      "27\n",
      "36\n"
     ]
    }
   ],
   "source": [
    "k=int(input('enter the value of k'))\n",
    "n=k\n",
    "s=0\n",
    "for k in range (1,4,1):\n",
    "    for n  in range (1,4,1):\n",
    "        s=s+(k*n)\n",
    "        print(s)"
   ]
  },
  {
   "cell_type": "code",
   "execution_count": 14,
   "metadata": {},
   "outputs": [
    {
     "name": "stdout",
     "output_type": "stream",
     "text": [
      "enter the value of n45\n",
      "enter the value of x780\n",
      "-0.9987195902688861\n"
     ]
    }
   ],
   "source": [
    "n=int(input('enter the value of n '))\n",
    "x=int(input('enter the value of x '))\n",
    "a=0\n",
    "b=0\n",
    "for i in range (n+1):\n",
    "    a=((-1)**(i+1))/x**i\n",
    "    b=b+a\n",
    "print(b)"
   ]
  },
  {
   "cell_type": "code",
   "execution_count": 3,
   "metadata": {},
   "outputs": [
    {
     "name": "stdout",
     "output_type": "stream",
     "text": [
      "enter the value of k5\n",
      "k is  5\n",
      "kk is  55\n",
      "kkk is  555\n",
      "the sum is: 615\n"
     ]
    }
   ],
   "source": [
    "k=int(input('enter the value of k'))\n",
    "if k>=1 and k<=9:\n",
    "    N1=k*1\n",
    "    print(\"k is \",N1)\n",
    "    N2=k*10+k\n",
    "    print(\"kk is \",N2)\n",
    "    N3=k*100+(k*10+k)\n",
    "    print(\"kkk is \",N3)\n",
    "    s=N1+N2+N3\n",
    "    print('the sum is:',s)\n",
    "else:\n",
    "    print('error')"
   ]
  },
  {
   "cell_type": "code",
   "execution_count": 15,
   "metadata": {},
   "outputs": [
    {
     "name": "stdout",
     "output_type": "stream",
     "text": [
      "134341\n"
     ]
    }
   ],
   "source": [
    "s='1343741'\n",
    "eval(s)\n",
    "len(s)\n",
    "s[0]+s[1]+s[2]+s[3]+s[5]+s[6]\n",
    "x=eval(s[0]+s[1]+s[2]+s[3]+s[5]+s[6])\n",
    "print(x)"
   ]
  },
  {
   "cell_type": "code",
   "execution_count": null,
   "metadata": {},
   "outputs": [],
   "source": []
  }
 ],
 "metadata": {
  "kernelspec": {
   "display_name": "Python 3",
   "language": "python",
   "name": "python3"
  },
  "language_info": {
   "codemirror_mode": {
    "name": "ipython",
    "version": 3
   },
   "file_extension": ".py",
   "mimetype": "text/x-python",
   "name": "python",
   "nbconvert_exporter": "python",
   "pygments_lexer": "ipython3",
   "version": "3.7.3"
  }
 },
 "nbformat": 4,
 "nbformat_minor": 2
}
