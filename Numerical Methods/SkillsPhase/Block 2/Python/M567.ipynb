{
 "cells": [
  {
   "cell_type": "code",
   "execution_count": 1,
   "id": "249a6b2a",
   "metadata": {},
   "outputs": [],
   "source": [
    "import numpy as np\n",
    "import matplotlib.pyplot as plt\n",
    "import scipy.optimize"
   ]
  },
  {
   "cell_type": "code",
   "execution_count": 22,
   "id": "774218e1",
   "metadata": {},
   "outputs": [],
   "source": [
    "def func(M,t):\n",
    "    dMdt=-1*M\n",
    "    return dMdt"
   ]
  },
  {
   "cell_type": "code",
   "execution_count": 27,
   "id": "2288f41a",
   "metadata": {},
   "outputs": [],
   "source": [
    "def Trapezoid(f,M_,t):\n",
    "    h=t[1]-t[0]\n",
    "    N=len(t)\n",
    "    M=np.zeros(N)\n",
    "    M[0]=M_\n",
    "    t1=[]\n",
    "    for i in range(0,N-1):\n",
    "        ti=t[0]+(1+i)*h\n",
    "        t1.append(ti)\n",
    "        M[i+1]=M[i]+h*0.5*(f(M[i],t[i])+f(M[i+1],t[i+1]))\n",
    "    return M,t1\n",
    "        "
   ]
  },
  {
   "cell_type": "code",
   "execution_count": 28,
   "id": "09c5d407",
   "metadata": {},
   "outputs": [],
   "source": [
    "t=np.linspace(0,14,1000)\n",
    "\n",
    "\n",
    "M_=1e3\n",
    "M,t1=Trapezoid(func,M_,t)\n",
    "\n"
   ]
  },
  {
   "cell_type": "code",
   "execution_count": 29,
   "id": "5cf0e2ca",
   "metadata": {},
   "outputs": [],
   "source": [
    "M_=1e3\n",
    "t=np.linspace(0,14,1000)\n",
    "exact=M_*np.exp(-1*t)"
   ]
  },
  {
   "cell_type": "code",
   "execution_count": 30,
   "id": "9e0f1db9",
   "metadata": {},
   "outputs": [
    {
     "data": {
      "text/plain": [
       "<matplotlib.legend.Legend at 0x7fb0fb2c5fa0>"
      ]
     },
     "execution_count": 30,
     "metadata": {},
     "output_type": "execute_result"
    },
    {
     "data": {
      "image/png": "[encoded data removed]",
      "text/plain": [
       "<Figure size 432x288 with 1 Axes>"
      ]
     },
     "metadata": {
      "needs_background": "light"
     },
     "output_type": "display_data"
    }
   ],
   "source": [
    "plt.plot(M)\n",
    "plt.plot(exact)\n",
    "plt.legend(['Trape','exact'])"
   ]
  },
  {
   "cell_type": "code",
   "execution_count": null,
   "id": "b6da8b45",
   "metadata": {},
   "outputs": [],
   "source": [
    "plt.plot(y_exact)"
   ]
  },
  {
   "cell_type": "code",
   "execution_count": null,
   "id": "b99f21b2",
   "metadata": {},
   "outputs": [],
   "source": [
    "M"
   ]
  },
  {
   "cell_type": "code",
   "execution_count": null,
   "id": "e2d8ac1c",
   "metadata": {},
   "outputs": [],
   "source": [
    "t=np.linspace(0,14,100)\n",
    "d=7\n",
    "\n",
    "M_=1e3\n",
    "M,t1=Trapezoid(func,M_,t)"
   ]
  },
  {
   "cell_type": "code",
   "execution_count": null,
   "id": "d1dbe741",
   "metadata": {},
   "outputs": [],
   "source": [
    "len(t1)"
   ]
  },
  {
   "cell_type": "code",
   "execution_count": null,
   "id": "fe93e424",
   "metadata": {},
   "outputs": [],
   "source": [
    "t1"
   ]
  },
  {
   "cell_type": "code",
   "execution_count": null,
   "id": "d8a49a38",
   "metadata": {},
   "outputs": [],
   "source": [
    "len(M)"
   ]
  },
  {
   "cell_type": "code",
   "execution_count": null,
   "id": "90ba5d92",
   "metadata": {},
   "outputs": [],
   "source": [
    "M"
   ]
  },
  {
   "cell_type": "code",
   "execution_count": null,
   "id": "5cac82df",
   "metadata": {},
   "outputs": [],
   "source": [
    "plt.plot(t1,M[1:])\n",
    "plt.show()"
   ]
  },
  {
   "cell_type": "code",
   "execution_count": null,
   "id": "23c6239d",
   "metadata": {},
   "outputs": [],
   "source": [
    "M_=1e3\n",
    "K=7\n",
    "t=np.linspace(0,14,100)"
   ]
  },
  {
   "cell_type": "code",
   "execution_count": null,
   "id": "1cf7b992",
   "metadata": {},
   "outputs": [],
   "source": [
    "exact=M_*np.exp(-1*t)"
   ]
  },
  {
   "cell_type": "code",
   "execution_count": null,
   "id": "4118e85a",
   "metadata": {},
   "outputs": [],
   "source": [
    "plt.plot(t,exact)"
   ]
  },
  {
   "cell_type": "code",
   "execution_count": null,
   "id": "8eadb61a",
   "metadata": {},
   "outputs": [],
   "source": [
    "exact"
   ]
  },
  {
   "cell_type": "code",
   "execution_count": null,
   "id": "512f21cb",
   "metadata": {},
   "outputs": [],
   "source": [
    "M_=1e3\n",
    "q=np.linspace(0,14,100)\n",
    "N=len(q)\n",
    "h=q[1]-q[0]\n",
    "M=np.zeros(N)\n",
    "M[0]=M_\n",
    "for i in range(0,N-1):\n",
    "    M(i+1)="
   ]
  }
 ],
 "metadata": {
  "kernelspec": {
   "display_name": "Python 3 (ipykernel)",
   "language": "python",
   "name": "python3"
  },
  "language_info": {
   "codemirror_mode": {
    "name": "ipython",
    "version": 3
   },
   "file_extension": ".py",
   "mimetype": "text/x-python",
   "name": "python",
   "nbconvert_exporter": "python",
   "pygments_lexer": "ipython3",
   "version": "3.9.12"
  }
 },
 "nbformat": 4,
 "nbformat_minor": 5
}
