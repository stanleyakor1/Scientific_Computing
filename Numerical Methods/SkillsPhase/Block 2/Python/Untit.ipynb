{
 "cells": [
  {
   "cell_type": "code",
   "execution_count": 1,
   "metadata": {},
   "outputs": [
    {
     "name": "stdout",
     "output_type": "stream",
     "text": [
      "Collecting reliability\n",
      "\u001b[?25l  Downloading https://files.pythonhosted.org/packages/b9/ec/5871ffc1d5c72adf6696d3416d04c5d66eb5759b46ca7daab16e14269011/reliability-0.5.6.tar.gz (201kB)\n",
      "\u001b[K    100% |████████████████████████████████| 204kB 1.5MB/s ta 0:00:01\n",
      "\u001b[?25hCollecting autograd-gamma>=0.5.0 (from reliability)\n",
      "  Downloading https://files.pythonhosted.org/packages/85/ae/7f2031ea76140444b2453fa139041e5afd4a09fc5300cfefeb1103291f80/autograd-gamma-0.5.0.tar.gz\n",
      "Collecting autograd>=1.3 (from reliability)\n",
      "  Downloading https://files.pythonhosted.org/packages/23/12/b58522dc2cbbd7ab939c7b8e5542c441c9a06a8eccb00b3ecac04a739896/autograd-1.3.tar.gz\n",
      "Collecting matplotlib>=3.3.2 (from reliability)\n",
      "\u001b[31m  Could not find a version that satisfies the requirement matplotlib>=3.3.2 (from reliability) (from versions: 0.86, 0.86.1, 0.86.2, 0.91.0, 0.91.1, 1.0.1, 1.1.0, 1.1.1, 1.2.0, 1.2.1, 1.3.0, 1.3.1, 1.4.0, 1.4.1rc1, 1.4.1, 1.4.2, 1.4.3, 1.5.0, 1.5.1, 1.5.2, 1.5.3, 2.0.0b1, 2.0.0b2, 2.0.0b3, 2.0.0b4, 2.0.0rc1, 2.0.0rc2, 2.0.0, 2.0.1, 2.0.2, 2.1.0rc1, 2.1.0, 2.1.1, 2.1.2, 2.2.0rc1, 2.2.0, 2.2.2, 2.2.3, 2.2.4, 2.2.5)\u001b[0m\n",
      "\u001b[31mNo matching distribution found for matplotlib>=3.3.2 (from reliability)\u001b[0m\n"
     ]
    }
   ],
   "source": [
    "! pip install reliability"
   ]
  },
  {
   "cell_type": "code",
   "execution_count": 2,
   "metadata": {},
   "outputs": [
    {
     "name": "stdout",
     "output_type": "stream",
     "text": [
      "Collecting weibull\n",
      "\u001b[31m  Could not find a version that satisfies the requirement weibull (from versions: )\u001b[0m\n",
      "\u001b[31mNo matching distribution found for weibull\u001b[0m\n"
     ]
    }
   ],
   "source": [
    "!pip install weibull"
   ]
  },
  {
   "cell_type": "code",
   "execution_count": null,
   "metadata": {},
   "outputs": [],
   "source": []
  }
 ],
 "metadata": {
  "kernelspec": {
   "display_name": "Python 3",
   "language": "python",
   "name": "python3"
  },
  "language_info": {
   "codemirror_mode": {
    "name": "ipython",
    "version": 3
   },
   "file_extension": ".py",
   "mimetype": "text/x-python",
   "name": "python",
   "nbconvert_exporter": "python",
   "pygments_lexer": "ipython3",
   "version": "3.7.3"
  }
 },
 "nbformat": 4,
 "nbformat_minor": 2
}
