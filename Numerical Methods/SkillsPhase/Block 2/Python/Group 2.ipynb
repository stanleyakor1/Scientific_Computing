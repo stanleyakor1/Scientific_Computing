{
 "cells": [
  {
   "cell_type": "code",
   "execution_count": 2,
   "metadata": {},
   "outputs": [
    {
     "data": {
      "text/plain": [
       "array([3.5, 1. , 2.5])"
      ]
     },
     "execution_count": 2,
     "metadata": {},
     "output_type": "execute_result"
    }
   ],
   "source": [
    "import numpy as np\n",
    "x=np.array([[2,1,-2],[1,-1,-1],[1,1,3]])\n",
    "z=np.array([3,0,12])\n",
    "\n",
    "#print(x)\n",
    "#print('$$$$$$$$$$$$$$$$$$')\n",
    "#print(z)\n",
    "np.linalg.solve(x,z)"
   ]
  },
  {
   "cell_type": "code",
   "execution_count": 35,
   "metadata": {},
   "outputs": [
    {
     "data": {
      "text/plain": [
       "-2.0"
      ]
     },
     "execution_count": 35,
     "metadata": {},
     "output_type": "execute_result"
    }
   ],
   "source": [
    "f=lambda x,y: np.exp(-2*x)*(x**3)-2*y\n",
    "f(0,1)"
   ]
  },
  {
   "cell_type": "code",
   "execution_count": 72,
   "metadata": {},
   "outputs": [],
   "source": [
    "import numpy as np\n",
    "def Euler(a,b,H):\n",
    "    n=(b-a)/H\n",
    "    z=int(n)\n",
    "    w=np.linspace(a,b,z+1)\n",
    "    d=0\n",
    "    for i in range(1,z+1):\n",
    "        #d+=b+(H)*np.exp(-2*w[i-1])*(w[i-1]**3)-2*b\n",
    "        a=w[i-1]\n",
    "        d+=b+(H)*np.exp(-2*a)*(a**3)-2*b\n",
    "        a=w[i]\n",
    "        b=d\n",
    "    return d\n"
   ]
  },
  {
   "cell_type": "code",
   "execution_count": 73,
   "metadata": {},
   "outputs": [
    {
     "data": {
      "text/plain": [
       "0.01205028895135366"
      ]
     },
     "execution_count": 73,
     "metadata": {},
     "output_type": "execute_result"
    }
   ],
   "source": [
    "Euler(0,1,0.1)"
   ]
  },
  {
   "cell_type": "code",
   "execution_count": 99,
   "metadata": {},
   "outputs": [],
   "source": [
    "import numpy as np\n",
    "f=lambda x,y: np.exp(-2*x)*(x**3)-2*y\n",
    "def Euler(a,b,H):\n",
    "    n=(b-a)/H\n",
    "    z=int(n)\n",
    "    x=np.linspace(a,b,z+1)\n",
    "    y=np.zeros(z+1)\n",
    "    y[0]=1\n",
    "    x[0]=0\n",
    "    for i in range(1,z+1):\n",
    "        y[i]=y[i-1]+(H)*f(x[i-1],y[i-1])\n",
    "    return y"
   ]
  },
  {
   "cell_type": "code",
   "execution_count": 100,
   "metadata": {},
   "outputs": [
    {
     "data": {
      "text/plain": [
       "array([1.        , 0.8       , 0.64008187, 0.51260175, 0.4115632 ,\n",
       "       0.33212626, 0.2702995 , 0.2227454 , 0.18665459, 0.15966078,\n",
       "       0.13977891])"
      ]
     },
     "execution_count": 100,
     "metadata": {},
     "output_type": "execute_result"
    }
   ],
   "source": [
    "Euler(0,1,0.1)"
   ]
  },
  {
   "cell_type": "code",
   "execution_count": null,
   "metadata": {},
   "outputs": [],
   "source": []
  },
  {
   "cell_type": "code",
   "execution_count": null,
   "metadata": {},
   "outputs": [],
   "source": []
  },
  {
   "cell_type": "code",
   "execution_count": null,
   "metadata": {},
   "outputs": [],
   "source": []
  },
  {
   "cell_type": "code",
   "execution_count": null,
   "metadata": {},
   "outputs": [],
   "source": []
  },
  {
   "cell_type": "code",
   "execution_count": null,
   "metadata": {},
   "outputs": [],
   "source": []
  },
  {
   "cell_type": "code",
   "execution_count": null,
   "metadata": {},
   "outputs": [],
   "source": []
  },
  {
   "cell_type": "code",
   "execution_count": null,
   "metadata": {},
   "outputs": [],
   "source": []
  },
  {
   "cell_type": "code",
   "execution_count": null,
   "metadata": {},
   "outputs": [],
   "source": []
  },
  {
   "cell_type": "code",
   "execution_count": null,
   "metadata": {},
   "outputs": [],
   "source": []
  },
  {
   "cell_type": "code",
   "execution_count": null,
   "metadata": {},
   "outputs": [],
   "source": []
  },
  {
   "cell_type": "code",
   "execution_count": 102,
   "metadata": {},
   "outputs": [],
   "source": [
    "import numpy as np\n",
    "f=lambda x,y:(2-2*x*y)/(x**2+1)\n",
    "def Eule(a,b,n):\n",
    "    H=(b-a)/n\n",
    "    x=np.linspace(a,b,n+1)\n",
    "    y=np.zeros(n+1)\n",
    "    x[0]=0\n",
    "    y[0]=1\n",
    "    for i in range(1,n+1):\n",
    "        y[i]=y[i-1]+(H)*f(x[i-1],y[i-1])\n",
    "    return y\n",
    "    \n",
    "    "
   ]
  },
  {
   "cell_type": "code",
   "execution_count": 103,
   "metadata": {},
   "outputs": [
    {
     "data": {
      "text/plain": [
       "array([1.        , 1.02      , 1.03979402, 1.05937027, 1.07871724,\n",
       "       1.09782369, 1.11667873, 1.13527178, 1.15359263, 1.17163143,\n",
       "       1.18937874, 1.20682552, 1.22396314, 1.24078341, 1.25727861,\n",
       "       1.27344144, 1.28926508, 1.30474319, 1.3198699 , 1.33463983,\n",
       "       1.34904806, 1.36309018, 1.37676226, 1.39006086, 1.402983  ,\n",
       "       1.41552619, 1.42768842, 1.43946813, 1.45086423, 1.46187606,\n",
       "       1.47250342, 1.48274652, 1.492606  , 1.50208288, 1.51117861,\n",
       "       1.51989498, 1.52823417, 1.53619868, 1.54379137, 1.55101541,\n",
       "       1.55787426, 1.56437168, 1.57051169, 1.57629859, 1.58173688,\n",
       "       1.58683131, 1.59158683, 1.59600859, 1.6001019 , 1.60387224,\n",
       "       1.60732523, 1.61046662, 1.6133023 , 1.61583824, 1.6180805 ,\n",
       "       1.62003524, 1.62170864, 1.62310699, 1.62423657, 1.62510371,\n",
       "       1.62571478, 1.62607612, 1.62619409, 1.62607505, 1.62572531,\n",
       "       1.62515119, 1.62435894, 1.62335481, 1.62214496, 1.62073551,\n",
       "       1.61913254, 1.61734203, 1.61536992, 1.61322205, 1.61090419,\n",
       "       1.60842203, 1.60578118, 1.60298715, 1.60004534, 1.59696109,\n",
       "       1.59373962, 1.59038607, 1.58690545, 1.58330269, 1.57958262,\n",
       "       1.57574996, 1.57180932, 1.56776522, 1.56362206, 1.55938415,\n",
       "       1.55505569, 1.55064077, 1.54614339, 1.54156744, 1.5369167 ,\n",
       "       1.53219487, 1.52740554, 1.5225522 , 1.51763823, 1.51266695,\n",
       "       1.50764154])"
      ]
     },
     "execution_count": 103,
     "metadata": {},
     "output_type": "execute_result"
    }
   ],
   "source": [
    "Eule(0,1,100)"
   ]
  },
  {
   "cell_type": "code",
   "execution_count": 95,
   "metadata": {},
   "outputs": [],
   "source": [
    "f=lambda x:(2*x+1)/(x**2+1)\n",
    "def Exact(a,b,n):\n",
    "    x=np.linspace(a,b,n+1)\n",
    "    g=f(x)\n",
    "    return g"
   ]
  },
  {
   "cell_type": "code",
   "execution_count": 96,
   "metadata": {},
   "outputs": [
    {
     "data": {
      "text/plain": [
       "array([1.        , 1.01989801, 1.03958417, 1.05904686, 1.07827476,\n",
       "       1.09725686, 1.11598246, 1.13444124, 1.15262321, 1.1705188 ,\n",
       "       1.18811881, 1.20541448, 1.22239748, 1.23905989, 1.25539427,\n",
       "       1.27139364, 1.28705148, 1.30236175, 1.31731887, 1.33191777,\n",
       "       1.34615385, 1.36002299, 1.37352156, 1.38664641, 1.39939486,\n",
       "       1.41176471, 1.42375422, 1.4353621 , 1.44658754, 1.45743013,\n",
       "       1.46788991, 1.47796734, 1.48766328, 1.49697899, 1.5059161 ,\n",
       "       1.51447661, 1.52266289, 1.53047761, 1.5379238 , 1.54500477,\n",
       "       1.55172414, 1.55808578, 1.56409385, 1.56975272, 1.57506702,\n",
       "       1.58004158, 1.58468141, 1.58899173, 1.59297789, 1.59664543,\n",
       "       1.6       , 1.60304738, 1.60579345, 1.6082442 , 1.6104057 ,\n",
       "       1.61228407, 1.61388551, 1.61521624, 1.61628255, 1.61709072,\n",
       "       1.61764706, 1.61795787, 1.61802947, 1.61786814, 1.61748014,\n",
       "       1.6168717 , 1.61604904, 1.61501829, 1.61378556, 1.61235689,\n",
       "       1.61073826, 1.60893558, 1.60695469, 1.60480136, 1.60248126,\n",
       "       1.6       , 1.59736308, 1.59457593, 1.59164387, 1.58857213,\n",
       "       1.58536585, 1.58203007, 1.57856972, 1.57498964, 1.57129456,\n",
       "       1.56748911, 1.56357783, 1.55956514, 1.55545537, 1.55125272,\n",
       "       1.54696133, 1.5425852 , 1.53812825, 1.53359429, 1.52898705,\n",
       "       1.52431012, 1.51956703, 1.51476119, 1.50989594, 1.5049745 ,\n",
       "       1.5       ])"
      ]
     },
     "execution_count": 96,
     "metadata": {},
     "output_type": "execute_result"
    }
   ],
   "source": [
    "Exact(0,1,100)"
   ]
  },
  {
   "cell_type": "code",
   "execution_count": 109,
   "metadata": {},
   "outputs": [
    {
     "data": {
      "image/png": "[encoded data removed]",
      "text/plain": [
       "<Figure size 432x288 with 1 Axes>"
      ]
     },
     "metadata": {
      "needs_background": "light"
     },
     "output_type": "display_data"
    }
   ],
   "source": [
    "import numpy as np\n",
    "import matplotlib.pyplot as plt\n",
    "f=lambda x,y:(2-2*x*y)/(x**2+1)\n",
    "def Eule(a,b,n):\n",
    "    H=(b-a)/n\n",
    "    x=np.linspace(a,b,n+1)\n",
    "    y=np.zeros(n+1)\n",
    "    x[0]=0\n",
    "    y[0]=1\n",
    "    for i in range(1,n+1):\n",
    "        y[i]=y[i-1]+(H)*f(x[i-1],y[i-1])\n",
    "    plt.plot(x, y)\n",
    "    plt.show()\n",
    "Eule(0,1,100)"
   ]
  },
  {
   "cell_type": "code",
   "execution_count": 111,
   "metadata": {},
   "outputs": [
    {
     "data": {
      "image/png": "[encoded data removed]",
      "text/plain": [
       "<Figure size 432x288 with 1 Axes>"
      ]
     },
     "metadata": {
      "needs_background": "light"
     },
     "output_type": "display_data"
    }
   ],
   "source": [
    "f=lambda x:(2*x+1)/(x**2+1)\n",
    "import matplotlib.pyplot as plt\n",
    "def Exact(a,b,n):\n",
    "    x=np.linspace(a,b,n+1)\n",
    "    g=f(x)\n",
    "    plt.plot(x, g)\n",
    "    plt.show()\n",
    "Exact(0,1,100)"
   ]
  },
  {
   "cell_type": "code",
   "execution_count": 3,
   "metadata": {},
   "outputs": [
    {
     "ename": "NameError",
     "evalue": "name 'y' is not defined",
     "output_type": "error",
     "traceback": [
      "\u001b[0;31m---------------------------------------------------------------------------\u001b[0m",
      "\u001b[0;31mNameError\u001b[0m                                 Traceback (most recent call last)",
      "\u001b[0;32m<ipython-input-3-57c2b56cce54>\u001b[0m in \u001b[0;36m<module>\u001b[0;34m()\u001b[0m\n\u001b[1;32m     18\u001b[0m     \u001b[0mplt\u001b[0m\u001b[0;34m.\u001b[0m\u001b[0mplot\u001b[0m\u001b[0;34m(\u001b[0m\u001b[0mx\u001b[0m\u001b[0;34m,\u001b[0m \u001b[0my\u001b[0m\u001b[0;34m)\u001b[0m\u001b[0;34m\u001b[0m\u001b[0;34m\u001b[0m\u001b[0m\n\u001b[1;32m     19\u001b[0m     \u001b[0mplt\u001b[0m\u001b[0;34m.\u001b[0m\u001b[0mshow\u001b[0m\u001b[0;34m(\u001b[0m\u001b[0;34m)\u001b[0m\u001b[0;34m\u001b[0m\u001b[0;34m\u001b[0m\u001b[0m\n\u001b[0;32m---> 20\u001b[0;31m \u001b[0mExact\u001b[0m\u001b[0;34m(\u001b[0m\u001b[0;36m0\u001b[0m\u001b[0;34m,\u001b[0m\u001b[0;36m1\u001b[0m\u001b[0;34m,\u001b[0m\u001b[0;36m100\u001b[0m\u001b[0;34m)\u001b[0m\u001b[0;34m\u001b[0m\u001b[0;34m\u001b[0m\u001b[0m\n\u001b[0m\u001b[1;32m     21\u001b[0m \u001b[0mEule\u001b[0m\u001b[0;34m(\u001b[0m\u001b[0;36m0\u001b[0m\u001b[0;34m,\u001b[0m\u001b[0;36m1\u001b[0m\u001b[0;34m,\u001b[0m\u001b[0;36m100\u001b[0m\u001b[0;34m)\u001b[0m\u001b[0;34m\u001b[0m\u001b[0;34m\u001b[0m\u001b[0m\n",
      "\u001b[0;32m<ipython-input-3-57c2b56cce54>\u001b[0m in \u001b[0;36mExact\u001b[0;34m(a, b, n)\u001b[0m\n\u001b[1;32m     15\u001b[0m     \u001b[0mx\u001b[0m\u001b[0;34m=\u001b[0m\u001b[0mnp\u001b[0m\u001b[0;34m.\u001b[0m\u001b[0mlinspace\u001b[0m\u001b[0;34m(\u001b[0m\u001b[0ma\u001b[0m\u001b[0;34m,\u001b[0m\u001b[0mb\u001b[0m\u001b[0;34m,\u001b[0m\u001b[0mn\u001b[0m\u001b[0;34m+\u001b[0m\u001b[0;36m1\u001b[0m\u001b[0;34m)\u001b[0m\u001b[0;34m\u001b[0m\u001b[0;34m\u001b[0m\u001b[0m\n\u001b[1;32m     16\u001b[0m     \u001b[0mg\u001b[0m\u001b[0;34m=\u001b[0m\u001b[0mf\u001b[0m\u001b[0;34m(\u001b[0m\u001b[0mx\u001b[0m\u001b[0;34m)\u001b[0m\u001b[0;34m\u001b[0m\u001b[0;34m\u001b[0m\u001b[0m\n\u001b[0;32m---> 17\u001b[0;31m     \u001b[0mplt\u001b[0m\u001b[0;34m.\u001b[0m\u001b[0mplot\u001b[0m\u001b[0;34m(\u001b[0m\u001b[0my\u001b[0m\u001b[0;34m,\u001b[0m \u001b[0mg\u001b[0m\u001b[0;34m)\u001b[0m\u001b[0;34m\u001b[0m\u001b[0;34m\u001b[0m\u001b[0m\n\u001b[0m\u001b[1;32m     18\u001b[0m     \u001b[0mplt\u001b[0m\u001b[0;34m.\u001b[0m\u001b[0mplot\u001b[0m\u001b[0;34m(\u001b[0m\u001b[0mx\u001b[0m\u001b[0;34m,\u001b[0m \u001b[0my\u001b[0m\u001b[0;34m)\u001b[0m\u001b[0;34m\u001b[0m\u001b[0;34m\u001b[0m\u001b[0m\n\u001b[1;32m     19\u001b[0m     \u001b[0mplt\u001b[0m\u001b[0;34m.\u001b[0m\u001b[0mshow\u001b[0m\u001b[0;34m(\u001b[0m\u001b[0;34m)\u001b[0m\u001b[0;34m\u001b[0m\u001b[0;34m\u001b[0m\u001b[0m\n",
      "\u001b[0;31mNameError\u001b[0m: name 'y' is not defined"
     ]
    }
   ],
   "source": [
    "import numpy as np\n",
    "import matplotlib.pyplot as plt\n",
    "f=lambda x,y:(2-2*x*y)/(x**2+1)\n",
    "def Eule(a,b,n):\n",
    "    H=(b-a)/n\n",
    "    x=np.linspace(a,b,n+1)\n",
    "    y=np.zeros(n+1)\n",
    "    x[0]=0\n",
    "    y[0]=1\n",
    "    for i in range(1,n+1):\n",
    "        y[i]=y[i-1]+(H)*f(x[i-1],y[i-1])\n",
    "f=lambda x:(2*x+1)/(x**2+1)\n",
    "import matplotlib.pyplot as plt\n",
    "def Exact(a,b,n):\n",
    "    x=np.linspace(a,b,n+1)\n",
    "    g=f(x)\n",
    "    plt.plot(y, g)\n",
    "    plt.plot(x, y)\n",
    "    plt.show()\n",
    "Exact(0,1,100)\n",
    "Eule(0,1,100)"
   ]
  },
  {
   "cell_type": "code",
   "execution_count": null,
   "metadata": {},
   "outputs": [],
   "source": []
  }
 ],
 "metadata": {
  "kernelspec": {
   "display_name": "Python 3",
   "language": "python",
   "name": "python3"
  },
  "language_info": {
   "codemirror_mode": {
    "name": "ipython",
    "version": 3
   },
   "file_extension": ".py",
   "mimetype": "text/x-python",
   "name": "python",
   "nbconvert_exporter": "python",
   "pygments_lexer": "ipython3",
   "version": "3.7.3"
  }
 },
 "nbformat": 4,
 "nbformat_minor": 2
}
