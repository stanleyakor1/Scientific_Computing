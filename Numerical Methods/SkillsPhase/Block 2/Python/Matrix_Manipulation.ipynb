{
 "cells": [
  {
   "cell_type": "code",
   "execution_count": 2,
   "metadata": {},
   "outputs": [],
   "source": [
    "import numpy as np\n",
    "import matplotlib.pyplot as plt\n",
    "\n",
    "def MatGenerator(a,b,K,α,β,N,g):\n",
    "    H=(b-a)/N\n",
    "    x=np.linspace(a,b,N+1)\n",
    "    bb=np.zeros(N+1)\n",
    "    bb=g(x)\n",
    "    bb[0]=α\n",
    "    bb[-1]=β\n",
    "    \n",
    "    A=np.zeros((N+1,N+1))\n",
    "    A[0,0]=1\n",
    "    A[-1,-1]=1\n",
    "    \n",
    "    for j in range(1,N):\n",
    "        A[j,j-1]=-1\n",
    "        A[j,j]=2\n",
    "        A[j,j+1]=-1\n",
    "        \n",
    "    return A,bb"
   ]
  },
  {
   "cell_type": "code",
   "execution_count": 3,
   "metadata": {},
   "outputs": [
    {
     "data": {
      "text/plain": [
       "array([[ 1.,  0.,  0., ...,  0.,  0.,  0.],\n",
       "       [-1.,  2., -1., ...,  0.,  0.,  0.],\n",
       "       [ 0., -1.,  2., ...,  0.,  0.,  0.],\n",
       "       ...,\n",
       "       [ 0.,  0.,  0., ...,  2., -1.,  0.],\n",
       "       [ 0.,  0.,  0., ..., -1.,  2., -1.],\n",
       "       [ 0.,  0.,  0., ...,  0.,  0.,  1.]])"
      ]
     },
     "execution_count": 3,
     "metadata": {},
     "output_type": "execute_result"
    }
   ],
   "source": [
    "a=0\n",
    "b=1\n",
    "K=1\n",
    "α=-4\n",
    "β=0\n",
    "N=100\n",
    "g=lambda x:-4*(1+x)*np.exp(x)\n",
    "\n",
    "A,bb=MatGenerator(a,b,K,α,β,N,g)\n",
    "A\n",
    "\n",
    "# w=np.linalg.solve(A,bb)"
   ]
  },
  {
   "cell_type": "code",
   "execution_count": 4,
   "metadata": {},
   "outputs": [],
   "source": [
    "import numpy as np\n",
    "import matplotlib.pyplot as plt\n",
    "\n",
    "def MatGenerator1(a,b,K,α,β,N,g):\n",
    "    H=(b-a)/N\n",
    "    x=np.linspace(a,b,N+1)\n",
    "    B=np.zeros(N+1)\n",
    "    B=g(x)\n",
    "    B[0]=α\n",
    "    B[-1]=β\n",
    "    \n",
    "    A_=np.zeros((N+1,N+1))\n",
    "    A_[0,0]=1\n",
    "    A_[-1,-1]=1 \n",
    "    \n",
    "    \n",
    "    for i in range(1,N):       \n",
    "        A_[i,i+1]=(1/H**2)*(-K(x[i]+H/2))\n",
    "        A_[i,i]=(1/H**2)*(K(x[i]-H/2)+K(x[i]+H/2))\n",
    "        A_[i,i-1]=(1/H**2)*(-K(x[i]-H/2))\n",
    "    return A_,B"
   ]
  },
  {
   "cell_type": "code",
   "execution_count": 5,
   "metadata": {},
   "outputs": [],
   "source": [
    "K=lambda x:x**2\n",
    "g=lambda x: -4*(x**3+3*x**2)*np.exp(x+1)\n",
    "a=-1\n",
    "b=1\n",
    "α=-8\n",
    "β=0\n",
    "N=100\n",
    "x=np.linspace(a,b,N+1)\n",
    "A_,B=MatGenerator1(a,b,K,α,β,N,g)\n",
    "#A_,B"
   ]
  },
  {
   "cell_type": "code",
   "execution_count": 6,
   "metadata": {},
   "outputs": [
    {
     "data": {
      "image/png": "[encoded data removed]",
      "text/plain": [
       "<Figure size 432x288 with 1 Axes>"
      ]
     },
     "metadata": {
      "needs_background": "light"
     },
     "output_type": "display_data"
    }
   ],
   "source": [
    "w=np.linalg.solve(A_,B)\n",
    "plt.plot(x,w)\n",
    "plt.show()"
   ]
  },
  {
   "cell_type": "code",
   "execution_count": 96,
   "metadata": {},
   "outputs": [],
   "source": [
    "# A_[i,i-1]=(1/H**2)*(K(x[i]-H/2)+K(x[i]+H/2))\n",
    "#         A_[i,i]=(1/H**2)*(-K(x[i]-H/2))\n",
    "#         A_[i,i+1]=(1/H**2)*(-K(x[i]+H/2))"
   ]
  },
  {
   "cell_type": "code",
   "execution_count": null,
   "metadata": {},
   "outputs": [],
   "source": []
  }
 ],
 "metadata": {
  "kernelspec": {
   "display_name": "Python 3",
   "language": "python",
   "name": "python3"
  },
  "language_info": {
   "codemirror_mode": {
    "name": "ipython",
    "version": 3
   },
   "file_extension": ".py",
   "mimetype": "text/x-python",
   "name": "python",
   "nbconvert_exporter": "python",
   "pygments_lexer": "ipython3",
   "version": "3.7.3"
  }
 },
 "nbformat": 4,
 "nbformat_minor": 2
}
