{
 "cells": [
  {
   "cell_type": "code",
   "execution_count": 18,
   "metadata": {},
   "outputs": [
    {
     "name": "stdout",
     "output_type": "stream",
     "text": [
      "enter the value of N0: 10\n",
      "6\n"
     ]
    }
   ],
   "source": [
    "x=int(input('enter the value of N0: '))\n",
    "sum=0\n",
    "for i in range (x):\n",
    "    if i%2==0 and i%3==0:\n",
    "        sum=sum+i\n",
    "print(sum)"
   ]
  },
  {
   "cell_type": "code",
   "execution_count": 2,
   "metadata": {},
   "outputs": [
    {
     "name": "stdout",
     "output_type": "stream",
     "text": [
      "enter the value of n3\n",
      "enter the value of z2\n",
      "0.75\n"
     ]
    }
   ],
   "source": [
    "n=int(input('enter the value of n'))\n",
    "z=int(input('enter the value of z'))\n",
    "a=0\n",
    "B=0\n",
    "if z==0:\n",
    "    print('the value of z must be graeter than zero')\n",
    "        \n",
    "else:\n",
    "    for i in range (n):\n",
    "            a=(-1)**i/(z**i)\n",
    "            B=B+a\n",
    "print(B)\n",
    "    \n"
   ]
  },
  {
   "cell_type": "markdown",
   "metadata": {},
   "source": [
    "Net Salary calculation"
   ]
  },
  {
   "cell_type": "code",
   "execution_count": 4,
   "metadata": {},
   "outputs": [
    {
     "name": "stdout",
     "output_type": "stream",
     "text": [
      "enter your gross salary2000\n",
      "1840.0\n"
     ]
    }
   ],
   "source": [
    "n=int(input('enter your gross salary'))\n",
    "if n>=5000:\n",
    "    tax=0.12*n\n",
    "    net_salary=n-tax\n",
    "else:\n",
    "    tax=0.08*n\n",
    "    net_salary=n-tax\n",
    "print(net_salary)"
   ]
  },
  {
   "cell_type": "markdown",
   "metadata": {},
   "source": [
    "Identifying leap years"
   ]
  },
  {
   "cell_type": "code",
   "execution_count": 7,
   "metadata": {},
   "outputs": [
    {
     "name": "stdout",
     "output_type": "stream",
     "text": [
      "enter the year 1996\n",
      "1996 is a leap year\n"
     ]
    }
   ],
   "source": [
    "year=int(input('enter the year '))\n",
    "if year%2==0 and year%4==0:\n",
    "    print(year,'is a leap year')\n",
    "else:\n",
    "    print(year,\"is'nt a leap year\")"
   ]
  },
  {
   "cell_type": "markdown",
   "metadata": {},
   "source": [
    "Arranging a list in order"
   ]
  },
  {
   "cell_type": "code",
   "execution_count": 19,
   "metadata": {},
   "outputs": [],
   "source": [
    "def sortlist(listt):\n",
    "    q=[]\n",
    "    n=len(listt)\n",
    "    for i in range(n):\n",
    "        for j in listt:\n",
    "            if j>listt[i]:\n",
    "                q.append(i)\n",
    "            else:\n",
    "                q.append(j)\n",
    "    return q"
   ]
  },
  {
   "cell_type": "code",
   "execution_count": 20,
   "metadata": {},
   "outputs": [
    {
     "data": {
      "text/plain": [
       "[3, 2, 0, 1, 2, 1, 3, 2, 4]"
      ]
     },
     "execution_count": 20,
     "metadata": {},
     "output_type": "execute_result"
    }
   ],
   "source": [
    "listt=[3,2,4]\n",
    "sortlist(listt)"
   ]
  },
  {
   "cell_type": "code",
   "execution_count": null,
   "metadata": {},
   "outputs": [],
   "source": []
  }
 ],
 "metadata": {
  "kernelspec": {
   "display_name": "Python 3",
   "language": "python",
   "name": "python3"
  },
  "language_info": {
   "codemirror_mode": {
    "name": "ipython",
    "version": 3
   },
   "file_extension": ".py",
   "mimetype": "text/x-python",
   "name": "python",
   "nbconvert_exporter": "python",
   "pygments_lexer": "ipython3",
   "version": "3.7.3"
  }
 },
 "nbformat": 4,
 "nbformat_minor": 2
}
