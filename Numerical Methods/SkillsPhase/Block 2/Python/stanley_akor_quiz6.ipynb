{
 "cells": [
  {
   "cell_type": "code",
   "execution_count": 34,
   "metadata": {},
   "outputs": [
    {
     "name": "stdout",
     "output_type": "stream",
     "text": [
      "enter the value of n :7\n",
      "A:  0.03571428571428571\n"
     ]
    }
   ],
   "source": [
    "n=int(input('enter the value of n :'))#tuorial qsn 3a\n",
    "sum=0\n",
    "a=0\n",
    "for i in range(1,n+1):\n",
    "    sum=sum+i\n",
    "    a=1/sum\n",
    "print('A: ',a)"
   ]
  },
  {
   "cell_type": "code",
   "execution_count": 70,
   "metadata": {},
   "outputs": [
    {
     "name": "stdout",
     "output_type": "stream",
     "text": [
      "enter the value of n0\n",
      "enter the value of z0\n",
      "the value of z must be graeter than zero\n"
     ]
    }
   ],
   "source": [
    "n=int(input('enter the value of n'))#tuorial qsn 3b\n",
    "z=float(input('enter the value of z'))\n",
    "a=0\n",
    "B=0\n",
    "if z==0:\n",
    "    print('the value of z must be graeter than zero')\n",
    "        \n",
    "else:\n",
    "    for i in range (n):\n",
    "            a=(-1)**(i+1)/(z**i)\n",
    "            B=B+a\n",
    "    print('B= ', B)"
   ]
  },
  {
   "cell_type": "code",
   "execution_count": 66,
   "metadata": {},
   "outputs": [
    {
     "name": "stdout",
     "output_type": "stream",
     "text": [
      "enter the value of k7\n",
      "k is  7\n",
      "kk is  77\n",
      "kkk is  777\n",
      "the sum is: 861\n"
     ]
    }
   ],
   "source": [
    "k=int(input('enter the value of k'))#tuorial qsn 4\n",
    "if k>=1 and k<=9:\n",
    "    N1=k*1\n",
    "    print(\"k is \",N1)\n",
    "    N2=k*10+k\n",
    "    print(\"kk is \",N2)\n",
    "    N3=k*100+(k*10+k)\n",
    "    print(\"kkk is \",N3)\n",
    "    s=N1+N2+N3\n",
    "    print('the sum is:',s)\n",
    "else:\n",
    "    print('error')"
   ]
  },
  {
   "cell_type": "code",
   "execution_count": 32,
   "metadata": {},
   "outputs": [
    {
     "name": "stdout",
     "output_type": "stream",
     "text": [
      "23\n"
     ]
    }
   ],
   "source": [
    "s='1343741'#tuorial qsn 5\n",
    "eval(s)\n",
    "p= int(s[0])\n",
    "q= int(s[1])\n",
    "r= int(s[2])\n",
    "w= int(s[3])\n",
    "m= int(s[4])\n",
    "n= int(s[5])\n",
    "o= int(s[6])\n",
    "x=p+q+r+w+m+n+o\n",
    "print(x)"
   ]
  },
  {
   "cell_type": "code",
   "execution_count": 64,
   "metadata": {},
   "outputs": [
    {
     "name": "stdout",
     "output_type": "stream",
     "text": [
      "enter the coefficient of x*2: 1\n",
      "enter the coefficient of x: -1\n",
      "enter the constant: -1\n",
      "the roots of the equation are -0.6180339887498949 and 1.618033988749895\n"
     ]
    }
   ],
   "source": [
    "\n",
    "a=float(input('enter the coefficient of x*2: '))\n",
    "b=float(input('enter the coefficient of x: '))\n",
    "c=float(input('enter the constant: '))\n",
    "\n",
    "d=b*b-4*a*c\n",
    "\n",
    "if d<0:\n",
    "    print('complex root')\n",
    "\n",
    "elif d==0:\n",
    "    e=-1*b/2*a\n",
    "    print('the equation has the same roots', e, 'and',e)\n",
    "\n",
    "else:\n",
    "    g=-1*b/2*a+(d**(0.5)/2*a)\n",
    "    h=-1*b/2*a-(d**(0.5)/2*a)\n",
    "    print('the roots of the equation are', h,'and',g)"
   ]
  },
  {
   "cell_type": "code",
   "execution_count": null,
   "metadata": {},
   "outputs": [],
   "source": [
    "time=int(input('enter the value: ')) #tuorial qsn 6\n",
    "T1=time//86400\n",
    "T2=(time-T1*86400)//3600\n",
    "T3=(time-T1*86400-T2*3600)//60\n",
    "T4=(time-T1*86400-T2*3600-T3*60)\n",
    "print(time,'is equal to ',T1,'days ',T2, 'hours',T3,'minutes',T4,'seconds')"
   ]
  },
  {
   "cell_type": "markdown",
   "metadata": {},
   "source": []
  },
  {
   "cell_type": "markdown",
   "metadata": {},
   "source": []
  },
  {
   "cell_type": "code",
   "execution_count": 79,
   "metadata": {},
   "outputs": [
    {
     "name": "stdout",
     "output_type": "stream",
     "text": [
      "-1.0\n"
     ]
    }
   ],
   "source": [
    "import math   #tuorial qsn Exercise 2\n",
    "def bisection (f,a,b):\n",
    "    fa=f(a)\n",
    "    fb=f(b)\n",
    "    if fa*fb>0:\n",
    "        print(\" f(a) and f(b) must have a different sign\")\n",
    "        return None\n",
    "    for i in range(100):\n",
    "        i=(a+b)/2\n",
    "        fc=f(c)\n",
    "        \n",
    "        if fc==0:\n",
    "            return c\n",
    "        \n",
    "        if fa*fc>0:\n",
    "            a=c\n",
    "            fa=fc\n",
    "        if fb*fc>0:\n",
    "            b=c\n",
    "            fb=fc\n",
    "    return c\n",
    "\n",
    "def func(x):\n",
    "    return x**3+x+1\n",
    "a=-2\n",
    "b=2\n",
    "\n",
    "x= bisection(func, a,b)\n",
    "print(format(x))"
   ]
  },
  {
   "cell_type": "code",
   "execution_count": 7,
   "metadata": {},
   "outputs": [
    {
     "name": "stdout",
     "output_type": "stream",
     "text": [
      "-0.6823278038355056\n"
     ]
    }
   ],
   "source": [
    "def g(x):\n",
    "    return x**3+x+1\n",
    "def bisect(f,a,b):\n",
    "    tol=1e-10\n",
    "    \n",
    "    while(True):\n",
    "        c=(a+b)/2\n",
    "        \n",
    "        if (f(a)*f(c)<0):\n",
    "            b=c\n",
    "    \n",
    "        else:\n",
    "            a=c\n",
    "        \n",
    "        if abs(b-a)<tol:\n",
    "            return (a+b)/2\n",
    "    \n",
    "xroot=bisect(g,-2,2)\n",
    "\n",
    "print(format(xroot))"
   ]
  },
  {
   "cell_type": "code",
   "execution_count": null,
   "metadata": {},
   "outputs": [],
   "source": []
  }
 ],
 "metadata": {
  "kernelspec": {
   "display_name": "Python 3 (ipykernel)",
   "language": "python",
   "name": "python3"
  },
  "language_info": {
   "codemirror_mode": {
    "name": "ipython",
    "version": 3
   },
   "file_extension": ".py",
   "mimetype": "text/x-python",
   "name": "python",
   "nbconvert_exporter": "python",
   "pygments_lexer": "ipython3",
   "version": "3.9.12"
  }
 },
 "nbformat": 4,
 "nbformat_minor": 2
}
