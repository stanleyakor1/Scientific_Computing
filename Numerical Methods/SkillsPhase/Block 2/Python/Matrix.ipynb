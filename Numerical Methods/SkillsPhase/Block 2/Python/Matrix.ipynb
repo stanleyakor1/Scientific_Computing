{
 "cells": [
  {
   "cell_type": "code",
   "execution_count": 4,
   "metadata": {},
   "outputs": [],
   "source": [
    "import numpy as np\n",
    "import matplotlib.pyplot as plt\n"
   ]
  },
  {
   "cell_type": "code",
   "execution_count": 5,
   "metadata": {},
   "outputs": [],
   "source": [
    "def Matrix(a,b,K,α,β,N,g):\n",
    "    H=(b-a)/N\n",
    "    t=np.linspace(a,b,N+1)\n",
    "  \n",
    "    bb=np.zeros(N+1)\n",
    "    bb=g(t)\n",
    "    bb[0]=α\n",
    "    bb[-1]=β\n",
    "    \n",
    "    A=np.zeros((N+1,N+1))\n",
    "    A[0,0]=-2\n",
    "    A[-1,-1]=-2\n",
    "    A[0,1]=1\n",
    "    A[1,0]=1\n",
    "    \n",
    "    for i in range(1,N):\n",
    "        A[i,i]=-2\n",
    "        A[i,i+1]=1\n",
    "        A[i+1,i]=1\n",
    "        \n",
    "    return A,bb\n",
    "    "
   ]
  },
  {
   "cell_type": "code",
   "execution_count": 6,
   "metadata": {},
   "outputs": [
    {
     "data": {
      "text/plain": [
       "array([[-2.,  1.,  0., ...,  0.,  0.,  0.],\n",
       "       [ 1., -2.,  1., ...,  0.,  0.,  0.],\n",
       "       [ 0.,  1., -2., ...,  0.,  0.,  0.],\n",
       "       ...,\n",
       "       [ 0.,  0.,  0., ..., -2.,  1.,  0.],\n",
       "       [ 0.,  0.,  0., ...,  1., -2.,  1.],\n",
       "       [ 0.,  0.,  0., ...,  0.,  1., -2.]])"
      ]
     },
     "execution_count": 6,
     "metadata": {},
     "output_type": "execute_result"
    }
   ],
   "source": [
    "\n",
    "g=lambda x:-4*(1+x)*np.exp(t)\n",
    "a=-1\n",
    "b=1\n",
    "α=-8\n",
    "β=0\n",
    "N=100\n",
    "t=np.linspace(a,b,N+1)\n",
    "K=1\n",
    "A,bb=Matrix(a,b,K,α,β,N,g)\n",
    "A\n",
    "# np.linalg.solve(A,bb)"
   ]
  },
  {
   "cell_type": "code",
   "execution_count": null,
   "metadata": {},
   "outputs": [],
   "source": []
  }
 ],
 "metadata": {
  "kernelspec": {
   "display_name": "Python 3",
   "language": "python",
   "name": "python3"
  },
  "language_info": {
   "codemirror_mode": {
    "name": "ipython",
    "version": 3
   },
   "file_extension": ".py",
   "mimetype": "text/x-python",
   "name": "python",
   "nbconvert_exporter": "python",
   "pygments_lexer": "ipython3",
   "version": "3.7.3"
  }
 },
 "nbformat": 4,
 "nbformat_minor": 2
}
