{
 "cells": [
  {
   "cell_type": "code",
   "execution_count": 2,
   "metadata": {},
   "outputs": [],
   "source": [
    "import numpy as np\n",
    "import matplotlib.pyplot as plt"
   ]
  },
  {
   "cell_type": "code",
   "execution_count": 3,
   "metadata": {},
   "outputs": [],
   "source": [
    "def XX(N,x_1):\n",
    "    x=np.zeros(N)\n",
    "    x[0]=x_1\n",
    "    for i in range(0,N-1):\n",
    "        x[i+1]=4*x[i]*(1-x[i])\n",
    "    return x"
   ]
  },
  {
   "cell_type": "code",
   "execution_count": 4,
   "metadata": {},
   "outputs": [
    {
     "data": {
      "text/plain": [
       "array([0.2       , 0.64      , 0.9216    , 0.28901376, 0.82193923,\n",
       "       0.58542054, 0.97081333, 0.11333925, 0.40197385, 0.9615635 ])"
      ]
     },
     "execution_count": 4,
     "metadata": {},
     "output_type": "execute_result"
    }
   ],
   "source": [
    "T=XX(10,0.2)\n",
    "T"
   ]
  },
  {
   "cell_type": "code",
   "execution_count": 5,
   "metadata": {},
   "outputs": [
    {
     "data": {
      "text/plain": [
       "array([-0.00070871, -0.00064894,  0.00071523,  0.00046436,  0.00112702,\n",
       "       -0.00021568,  0.00096735,  0.00265351, -0.00059817,  0.00024152])"
      ]
     },
     "execution_count": 5,
     "metadata": {},
     "output_type": "execute_result"
    }
   ],
   "source": [
    "error=np.random.normal(0,0.001,10)\n",
    "error"
   ]
  },
  {
   "cell_type": "code",
   "execution_count": 6,
   "metadata": {},
   "outputs": [
    {
     "data": {
      "text/plain": [
       "array([0.19929129, 0.63935106, 0.92231523, 0.28947812, 0.82306625,\n",
       "       0.58520486, 0.97178068, 0.11599276, 0.40137568, 0.96180501])"
      ]
     },
     "execution_count": 6,
     "metadata": {},
     "output_type": "execute_result"
    }
   ],
   "source": [
    "Y=T+error\n",
    "Y"
   ]
  },
  {
   "cell_type": "code",
   "execution_count": 7,
   "metadata": {},
   "outputs": [
    {
     "data": {
      "text/plain": [
       "[<matplotlib.lines.Line2D at 0x7fcea3787f28>]"
      ]
     },
     "execution_count": 7,
     "metadata": {},
     "output_type": "execute_result"
    },
    {
     "data": {
      "image/png": "[encoded data removed]",
      "text/plain": [
       "<Figure size 432x288 with 1 Axes>"
      ]
     },
     "metadata": {
      "needs_background": "light"
     },
     "output_type": "display_data"
    }
   ],
   "source": [
    "plt.plot(Y,\"b*\",markersize=10)"
   ]
  },
  {
   "cell_type": "code",
   "execution_count": 8,
   "metadata": {},
   "outputs": [],
   "source": [
    "x2=np.linspace(-0.1,1.1,100)\n",
    "J=(x2-Y[1])**2+(x2-Y[2])**2"
   ]
  },
  {
   "cell_type": "code",
   "execution_count": 9,
   "metadata": {},
   "outputs": [
    {
     "data": {
      "text/plain": [
       "array([1.59176843, 1.54935521, 1.50752969, 1.46629187, 1.42564174,\n",
       "       1.38557931, 1.34610457, 1.30721753, 1.26891818, 1.23120653,\n",
       "       1.19408257, 1.1575463 , 1.12159774, 1.08623686, 1.05146369,\n",
       "       1.0172782 , 0.98368042, 0.95067033, 0.91824793, 0.88641323,\n",
       "       0.85516622, 0.82450691, 0.79443529, 0.76495137, 0.73605515,\n",
       "       0.70774661, 0.68002578, 0.65289264, 0.62634719, 0.60038944,\n",
       "       0.57501939, 0.55023703, 0.52604236, 0.50243539, 0.47941612,\n",
       "       0.45698454, 0.43514065, 0.41388446, 0.39321597, 0.37313517,\n",
       "       0.35364207, 0.33473666, 0.31641894, 0.29868893, 0.2815466 ,\n",
       "       0.26499197, 0.24902504, 0.2336458 , 0.21885426, 0.20465041,\n",
       "       0.19103426, 0.1780058 , 0.16556504, 0.15371197, 0.1424466 ,\n",
       "       0.13176892, 0.12167894, 0.11217666, 0.10326206, 0.09493517,\n",
       "       0.08719597, 0.08004446, 0.07348065, 0.06750453, 0.06211611,\n",
       "       0.05731539, 0.05310236, 0.04947702, 0.04643938, 0.04398944,\n",
       "       0.04212719, 0.04085263, 0.04016577, 0.04006661, 0.04055514,\n",
       "       0.04163136, 0.04329528, 0.0455469 , 0.04838621, 0.05181322,\n",
       "       0.05582792, 0.06043032, 0.06562041, 0.07139819, 0.07776368,\n",
       "       0.08471685, 0.09225773, 0.10038629, 0.10910256, 0.11840651,\n",
       "       0.12829817, 0.13877751, 0.14984456, 0.16149929, 0.17374173,\n",
       "       0.18657186, 0.19998968, 0.2139952 , 0.22858841, 0.24376932])"
      ]
     },
     "execution_count": 9,
     "metadata": {},
     "output_type": "execute_result"
    }
   ],
   "source": [
    "J"
   ]
  },
  {
   "cell_type": "code",
   "execution_count": 33,
   "metadata": {},
   "outputs": [
    {
     "data": {
      "image/png": "[encoded data removed]",
      "text/plain": [
       "<Figure size 432x288 with 1 Axes>"
      ]
     },
     "metadata": {
      "needs_background": "light"
     },
     "output_type": "display_data"
    }
   ],
   "source": [
    "plt.plot(x2,J)\n",
    "plt.show()"
   ]
  },
  {
   "cell_type": "code",
   "execution_count": null,
   "metadata": {},
   "outputs": [],
   "source": []
  }
 ],
 "metadata": {
  "kernelspec": {
   "display_name": "Python 3",
   "language": "python",
   "name": "python3"
  },
  "language_info": {
   "codemirror_mode": {
    "name": "ipython",
    "version": 3
   },
   "file_extension": ".py",
   "mimetype": "text/x-python",
   "name": "python",
   "nbconvert_exporter": "python",
   "pygments_lexer": "ipython3",
   "version": "3.7.3"
  }
 },
 "nbformat": 4,
 "nbformat_minor": 2
}
