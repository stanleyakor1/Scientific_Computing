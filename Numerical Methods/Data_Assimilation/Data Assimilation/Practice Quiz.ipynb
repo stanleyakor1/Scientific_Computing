{
 "cells": [
  {
   "cell_type": "code",
   "execution_count": 2,
   "metadata": {},
   "outputs": [],
   "source": [
    "import numpy as np\n",
    "import matplotlib.pyplot as plt"
   ]
  },
  {
   "cell_type": "code",
   "execution_count": 37,
   "metadata": {},
   "outputs": [],
   "source": [
    "def Process(mu,sigma_x,sigma_y,H,y):\n",
    "    b=sigma_y+H@sigma_x@H.transpose()\n",
    "    k=np.matmul(sigma_x,H.transpose())@np.linalg.inv(b)\n",
    "    mu_post=mu+k@(y-H@mu)\n",
    "    sigma_post=(np.eye(2)-k@H)@sigma_x\n",
    "    return sigma_post,mu_post"
   ]
  },
  {
   "cell_type": "code",
   "execution_count": 28,
   "metadata": {},
   "outputs": [],
   "source": [
    "sigma_y=np.matrix([[0.25,0],[0,0.25]])\n",
    "sigma_x=np.matrix([[0.1,0.01],[0.01,0.1]])\n",
    "y=np.matrix([[90],[91]])\n",
    "mu=np.matrix([[76.9],[91]])\n",
    "H=np.eye(2)\n",
    "sigma_post,mu_post=Process(mu,sigma_x,sigma_y,H,y)"
   ]
  },
  {
   "cell_type": "code",
   "execution_count": 29,
   "metadata": {},
   "outputs": [
    {
     "data": {
      "text/plain": [
       "matrix([[0.07128268, 0.00510621],\n",
       "        [0.00510621, 0.07128268]])"
      ]
     },
     "execution_count": 29,
     "metadata": {},
     "output_type": "execute_result"
    }
   ],
   "source": [
    "sigma_post"
   ]
  },
  {
   "cell_type": "code",
   "execution_count": 30,
   "metadata": {},
   "outputs": [
    {
     "data": {
      "text/plain": [
       "matrix([[80.63521242],\n",
       "        [91.26756536]])"
      ]
     },
     "execution_count": 30,
     "metadata": {},
     "output_type": "execute_result"
    }
   ],
   "source": [
    "mu_post"
   ]
  },
  {
   "cell_type": "code",
   "execution_count": 34,
   "metadata": {},
   "outputs": [
    {
     "data": {
      "text/plain": [
       "matrix([[0.25, 0.  ],\n",
       "        [0.  , 0.25]])"
      ]
     },
     "execution_count": 34,
     "metadata": {},
     "output_type": "execute_result"
    }
   ],
   "source": [
    "sigma_y"
   ]
  },
  {
   "cell_type": "code",
   "execution_count": 33,
   "metadata": {},
   "outputs": [
    {
     "data": {
      "text/plain": [
       "array([[1., 0.],\n",
       "       [0., 1.]])"
      ]
     },
     "execution_count": 33,
     "metadata": {},
     "output_type": "execute_result"
    }
   ],
   "source": [
    "np.identity(2)"
   ]
  },
  {
   "cell_type": "markdown",
   "metadata": {},
   "source": [
    "# a"
   ]
  },
  {
   "cell_type": "code",
   "execution_count": 21,
   "metadata": {},
   "outputs": [],
   "source": [
    "def Ext(mean, sigma_x,sigma_y,H,y,p):\n",
    "    b=np.linalg.inv(sigma_y +H@sigma_x@H.transpose())\n",
    "    k=sigma_x@H.transpose()@b\n",
    "    mean_post=mean+k@(y-H@mean)\n",
    "    sigma_post=(np.identity(p)-k@H)@sigma_x\n",
    "    return mean_post,sigma_post"
   ]
  },
  {
   "cell_type": "code",
   "execution_count": 22,
   "metadata": {},
   "outputs": [],
   "source": [
    "sigma_x=0.1*np.identity(12)\n",
    "sigma_y=0.25*np.identity(12)"
   ]
  },
  {
   "cell_type": "code",
   "execution_count": 23,
   "metadata": {},
   "outputs": [],
   "source": [
    "mean=np.matrix([[76.9],[91],[114.2],[154.2],[88.1],[18.6],[11.4],[31.1],[69.6],[105.7],[112.7],[77.4]])"
   ]
  },
  {
   "cell_type": "code",
   "execution_count": 24,
   "metadata": {},
   "outputs": [],
   "source": [
    "y=np.matrix([[80],[90],[110],[160],[80],[20],[10],[40],[70],[100],[110],[80]])"
   ]
  },
  {
   "cell_type": "code",
   "execution_count": 25,
   "metadata": {},
   "outputs": [],
   "source": [
    "H=np.identity(12)"
   ]
  },
  {
   "cell_type": "code",
   "execution_count": 26,
   "metadata": {},
   "outputs": [],
   "source": [
    "p=12"
   ]
  },
  {
   "cell_type": "code",
   "execution_count": 27,
   "metadata": {},
   "outputs": [],
   "source": [
    "mean_post,sigma_post=Ext(mean, sigma_x,sigma_y,H,y,p)"
   ]
  },
  {
   "cell_type": "code",
   "execution_count": 28,
   "metadata": {},
   "outputs": [
    {
     "data": {
      "text/plain": [
       "matrix([[ 77.78571429],\n",
       "        [ 90.71428571],\n",
       "        [113.        ],\n",
       "        [155.85714286],\n",
       "        [ 85.78571429],\n",
       "        [ 19.        ],\n",
       "        [ 11.        ],\n",
       "        [ 33.64285714],\n",
       "        [ 69.71428571],\n",
       "        [104.07142857],\n",
       "        [111.92857143],\n",
       "        [ 78.14285714]])"
      ]
     },
     "execution_count": 28,
     "metadata": {},
     "output_type": "execute_result"
    }
   ],
   "source": [
    "mean_post"
   ]
  },
  {
   "cell_type": "code",
   "execution_count": 58,
   "metadata": {},
   "outputs": [
    {
     "data": {
      "text/plain": [
       "<matplotlib.legend.Legend at 0x7f67b2cfd080>"
      ]
     },
     "execution_count": 58,
     "metadata": {},
     "output_type": "execute_result"
    },
    {
     "data": {
      "image/png": "[encoded data removed]",
      "text/plain": [
       "<Figure size 432x288 with 1 Axes>"
      ]
     },
     "metadata": {
      "needs_background": "light"
     },
     "output_type": "display_data"
    }
   ],
   "source": [
    "plt.plot(mean_post)\n",
    "plt.plot(y,\".\")\n",
    "plt.plot(mean,\"*\")\n",
    "plt.legend([\"optimal estimate\",\"data\",\"background\"])"
   ]
  },
  {
   "cell_type": "markdown",
   "metadata": {},
   "source": [
    "# b"
   ]
  },
  {
   "cell_type": "code",
   "execution_count": 57,
   "metadata": {},
   "outputs": [
    {
     "data": {
      "text/plain": [
       "<matplotlib.legend.Legend at 0x7f67b2d84748>"
      ]
     },
     "execution_count": 57,
     "metadata": {},
     "output_type": "execute_result"
    },
    {
     "data": {
      "image/png": "[encoded data removed]",
      "text/plain": [
       "<Figure size 432x288 with 1 Axes>"
      ]
     },
     "metadata": {
      "needs_background": "light"
     },
     "output_type": "display_data"
    }
   ],
   "source": [
    "sigma_x=0.25*np.identity(12)\n",
    "sigma_y=0.25*np.identity(12)\n",
    "mean_post1,sigma_post=Ext(mean, sigma_x,sigma_y,H,y,p)\n",
    "\n",
    "plt.plot(mean_post1)\n",
    "plt.plot(y,\".\")\n",
    "plt.plot(mean,\"*\")\n",
    "plt.legend([\"optimal estimate\",\"data\",\"background\"])"
   ]
  },
  {
   "cell_type": "code",
   "execution_count": 31,
   "metadata": {},
   "outputs": [
    {
     "data": {
      "text/plain": [
       "matrix([[ 78.45],\n",
       "        [ 90.5 ],\n",
       "        [112.1 ],\n",
       "        [157.1 ],\n",
       "        [ 84.05],\n",
       "        [ 19.3 ],\n",
       "        [ 10.7 ],\n",
       "        [ 35.55],\n",
       "        [ 69.8 ],\n",
       "        [102.85],\n",
       "        [111.35],\n",
       "        [ 78.7 ]])"
      ]
     },
     "execution_count": 31,
     "metadata": {},
     "output_type": "execute_result"
    }
   ],
   "source": [
    "mean_post1"
   ]
  },
  {
   "cell_type": "markdown",
   "metadata": {},
   "source": [
    "# c"
   ]
  },
  {
   "cell_type": "code",
   "execution_count": 82,
   "metadata": {},
   "outputs": [],
   "source": [
    "H=np.zeros((12,12))\n",
    "H[0,0]=H[1,1]=H[2,2]=H[3,3]=H[4,4]=H[5,5]=H[8,8]=H[9,9]=H[10,10]=H[11,11]=H[11,11]=1\n",
    "y=y=np.matrix([[80],[90],[110],[160],[80],[20],[10],[40],[70],[100],[110],[80]])\n",
    "sigma_x=0.25*np.identity(12)\n",
    "sigma_y=0.25*np.identity(12)\n",
    "mean_post2,sigma_post=Ext(mean, sigma_x,sigma_y,H,y,p)"
   ]
  },
  {
   "cell_type": "code",
   "execution_count": 83,
   "metadata": {},
   "outputs": [
    {
     "data": {
      "text/plain": [
       "[<matplotlib.lines.Line2D at 0x7f67b2bf1588>]"
      ]
     },
     "execution_count": 83,
     "metadata": {},
     "output_type": "execute_result"
    },
    {
     "data": {
      "image/png": "[encoded data removed]",
      "text/plain": [
       "<Figure size 432x288 with 1 Axes>"
      ]
     },
     "metadata": {
      "needs_background": "light"
     },
     "output_type": "display_data"
    }
   ],
   "source": [
    "plt.plot(mean_post2)\n",
    "plt.plot(y,\".\")\n",
    "plt.plot(mean,\"*\")"
   ]
  },
  {
   "cell_type": "code",
   "execution_count": 61,
   "metadata": {},
   "outputs": [
    {
     "data": {
      "text/plain": [
       "matrix([[ 78.45],\n",
       "        [ 90.5 ],\n",
       "        [112.1 ],\n",
       "        [157.1 ],\n",
       "        [ 84.05],\n",
       "        [ 19.3 ],\n",
       "        [ 11.4 ],\n",
       "        [ 31.1 ],\n",
       "        [ 69.8 ],\n",
       "        [102.85],\n",
       "        [111.35],\n",
       "        [ 78.7 ]])"
      ]
     },
     "execution_count": 61,
     "metadata": {},
     "output_type": "execute_result"
    }
   ],
   "source": [
    "mean_post2"
   ]
  },
  {
   "cell_type": "code",
   "execution_count": 84,
   "metadata": {},
   "outputs": [
    {
     "name": "stdout",
     "output_type": "stream",
     "text": [
      "[[33.64285714]] [[31.1]] [[40]]\n"
     ]
    }
   ],
   "source": []
  },
  {
   "cell_type": "code",
   "execution_count": 94,
   "metadata": {},
   "outputs": [],
   "source": [
    "# y=np.matrix([[80],[90],[110],[160],[80],[20],[10],[40],[70],[100],[110],[80]])\n",
    "# sigma_x=0.25*np.identity(12)\n",
    "# sigma_y=0.25*np.identity(12)\n",
    "# mean_post2,sigma_post=Ext(mean, sigma_x,sigma_y,H,y,p)"
   ]
  },
  {
   "cell_type": "code",
   "execution_count": 95,
   "metadata": {},
   "outputs": [
    {
     "data": {
      "text/plain": [
       "array([[1., 0., 0., 0., 0., 0., 0., 0., 0., 0., 0., 0.],\n",
       "       [0., 1., 0., 0., 0., 0., 0., 0., 0., 0., 0., 0.],\n",
       "       [0., 0., 1., 0., 0., 0., 0., 0., 0., 0., 0., 0.],\n",
       "       [0., 0., 0., 1., 0., 0., 0., 0., 0., 0., 0., 0.],\n",
       "       [0., 0., 0., 0., 1., 0., 0., 0., 0., 0., 0., 0.],\n",
       "       [0., 0., 0., 0., 0., 1., 0., 0., 0., 0., 0., 0.],\n",
       "       [0., 0., 0., 0., 0., 0., 0., 0., 1., 0., 0., 0.],\n",
       "       [0., 0., 0., 0., 0., 0., 0., 0., 0., 1., 0., 0.],\n",
       "       [0., 0., 0., 0., 0., 0., 0., 0., 0., 0., 1., 0.],\n",
       "       [0., 0., 0., 0., 0., 0., 0., 0., 0., 0., 0., 1.]])"
      ]
     },
     "execution_count": 95,
     "metadata": {},
     "output_type": "execute_result"
    }
   ],
   "source": [
    "H=np.zeros((10,12))\n",
    "H[0,0]=H[1,1]=H[2,2]=H[3,3]=H[4,4]=H[5,5]=H[6,8]=H[7,9]=H[8,10]=H[9,11]=1\n",
    "y=np.matrix([[80],[90],[110],[160],[80],[20],[70],[100],[110],[80]])\n",
    "sigma_x=0.25*np.identity(12)\n",
    "sigma_y=0.25*np.identity(10)\n",
    "mean_post2,sigma_post=Ext(mean, sigma_x,sigma_y,H,y,p)\n",
    "H"
   ]
  },
  {
   "cell_type": "code",
   "execution_count": 97,
   "metadata": {},
   "outputs": [
    {
     "data": {
      "text/plain": [
       "[<matplotlib.lines.Line2D at 0x7f67b29da438>]"
      ]
     },
     "execution_count": 97,
     "metadata": {},
     "output_type": "execute_result"
    },
    {
     "data": {
      "image/png": "[encoded data removed]",
      "text/plain": [
       "<Figure size 432x288 with 1 Axes>"
      ]
     },
     "metadata": {
      "needs_background": "light"
     },
     "output_type": "display_data"
    }
   ],
   "source": [
    "plt.plot(mean_post2)\n",
    "plt.plot(mean)\n",
    "plt.plot(y)"
   ]
  },
  {
   "cell_type": "code",
   "execution_count": 96,
   "metadata": {},
   "outputs": [
    {
     "name": "stdout",
     "output_type": "stream",
     "text": [
      "[[31.1]] [[31.1]]\n"
     ]
    }
   ],
   "source": [
    "print(mean_post2[7],mean[7])"
   ]
  },
  {
   "cell_type": "code",
   "execution_count": null,
   "metadata": {},
   "outputs": [],
   "source": []
  }
 ],
 "metadata": {
  "kernelspec": {
   "display_name": "Python 3",
   "language": "python",
   "name": "python3"
  },
  "language_info": {
   "codemirror_mode": {
    "name": "ipython",
    "version": 3
   },
   "file_extension": ".py",
   "mimetype": "text/x-python",
   "name": "python",
   "nbconvert_exporter": "python",
   "pygments_lexer": "ipython3",
   "version": "3.7.3"
  }
 },
 "nbformat": 4,
 "nbformat_minor": 2
}
